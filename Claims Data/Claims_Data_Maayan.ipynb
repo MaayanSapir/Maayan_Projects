{
 "cells": [
  {
   "cell_type": "code",
   "execution_count": 51,
   "id": "387e3389",
   "metadata": {},
   "outputs": [],
   "source": [
    "# The Dataset- long-term care claims data.\n"
   ]
  },
  {
   "cell_type": "code",
   "execution_count": null,
   "id": "2df5688d",
   "metadata": {},
   "outputs": [],
   "source": [
    "# import relevant libraries \n",
    "import pandas as pd\n",
    "import matplotlib.pyplot as plt\n",
    "import numpy as np\n",
    "import seaborn as sns\n",
    "from datetime import date as dt\n",
    "from scipy.stats import ttest_ind\n",
    "import scipy.stats as stats\n",
    "import missingno as msno\n",
    "from statsmodels.stats.proportion import proportions_ztest\n",
    "from scipy.stats import chi2_contingency"
   ]
  },
  {
   "cell_type": "code",
   "execution_count": 52,
   "id": "e4565e8d",
   "metadata": {},
   "outputs": [],
   "source": [
    "# read the file\n",
    "df = pd.read_csv('datasets/claims_data.csv')\n"
   ]
  },
  {
   "cell_type": "code",
   "execution_count": 53,
   "id": "545e124d",
   "metadata": {},
   "outputs": [
    {
     "data": {
      "text/html": [
       "<div>\n",
       "<style scoped>\n",
       "    .dataframe tbody tr th:only-of-type {\n",
       "        vertical-align: middle;\n",
       "    }\n",
       "\n",
       "    .dataframe tbody tr th {\n",
       "        vertical-align: top;\n",
       "    }\n",
       "\n",
       "    .dataframe thead th {\n",
       "        text-align: right;\n",
       "    }\n",
       "</style>\n",
       "<table border=\"1\" class=\"dataframe\">\n",
       "  <thead>\n",
       "    <tr style=\"text-align: right;\">\n",
       "      <th></th>\n",
       "      <th>hashed_ph_id</th>\n",
       "      <th>hashed_claim_id</th>\n",
       "      <th>claim_start_date</th>\n",
       "      <th>claim_end_date</th>\n",
       "      <th>birth_date</th>\n",
       "      <th>GENDER</th>\n",
       "      <th>filing_state</th>\n",
       "      <th>claim_status</th>\n",
       "      <th>eb_status</th>\n",
       "      <th>eb_reassessment_date</th>\n",
       "      <th>primary_diagnosis</th>\n",
       "      <th>last_care_setting</th>\n",
       "    </tr>\n",
       "  </thead>\n",
       "  <tbody>\n",
       "    <tr>\n",
       "      <th>0</th>\n",
       "      <td>1134</td>\n",
       "      <td>1362</td>\n",
       "      <td>30/12/2017</td>\n",
       "      <td>NaN</td>\n",
       "      <td>24/10/1929</td>\n",
       "      <td>M</td>\n",
       "      <td>MN</td>\n",
       "      <td>Denied</td>\n",
       "      <td>Denied</td>\n",
       "      <td>NaN</td>\n",
       "      <td>Chronic kidney disease, unspecified</td>\n",
       "      <td>NaN</td>\n",
       "    </tr>\n",
       "    <tr>\n",
       "      <th>1</th>\n",
       "      <td>1255</td>\n",
       "      <td>1918</td>\n",
       "      <td>20/12/2016</td>\n",
       "      <td>24/12/2017</td>\n",
       "      <td>21/03/1933</td>\n",
       "      <td>F</td>\n",
       "      <td>FL</td>\n",
       "      <td>Approved Closed</td>\n",
       "      <td>Closed</td>\n",
       "      <td>NaN</td>\n",
       "      <td>Unspecified dementia</td>\n",
       "      <td>NH</td>\n",
       "    </tr>\n",
       "    <tr>\n",
       "      <th>2</th>\n",
       "      <td>1550</td>\n",
       "      <td>1286</td>\n",
       "      <td>24/07/2015</td>\n",
       "      <td>22/04/2017</td>\n",
       "      <td>02/08/1938</td>\n",
       "      <td>F</td>\n",
       "      <td>MO</td>\n",
       "      <td>Approved Closed</td>\n",
       "      <td>Closed</td>\n",
       "      <td>NaN</td>\n",
       "      <td>Unspecified dementia without behavioral distur...</td>\n",
       "      <td>NH</td>\n",
       "    </tr>\n",
       "    <tr>\n",
       "      <th>3</th>\n",
       "      <td>1984</td>\n",
       "      <td>1008</td>\n",
       "      <td>22/05/2016</td>\n",
       "      <td>22/06/2017</td>\n",
       "      <td>29/07/1924</td>\n",
       "      <td>M</td>\n",
       "      <td>MS</td>\n",
       "      <td>Approved Closed</td>\n",
       "      <td>Closed</td>\n",
       "      <td>NaN</td>\n",
       "      <td>Sepsis, unspecified organism</td>\n",
       "      <td>HHC</td>\n",
       "    </tr>\n",
       "    <tr>\n",
       "      <th>4</th>\n",
       "      <td>1084</td>\n",
       "      <td>1674</td>\n",
       "      <td>24/05/2013</td>\n",
       "      <td>24/09/2018</td>\n",
       "      <td>26/02/1927</td>\n",
       "      <td>F</td>\n",
       "      <td>IA</td>\n",
       "      <td>Approved Closed</td>\n",
       "      <td>Closed</td>\n",
       "      <td>NaN</td>\n",
       "      <td>Muscle weakness (generalized)</td>\n",
       "      <td>NH</td>\n",
       "    </tr>\n",
       "  </tbody>\n",
       "</table>\n",
       "</div>"
      ],
      "text/plain": [
       "   hashed_ph_id  hashed_claim_id claim_start_date claim_end_date  birth_date  \\\n",
       "0          1134             1362       30/12/2017            NaN  24/10/1929   \n",
       "1          1255             1918       20/12/2016     24/12/2017  21/03/1933   \n",
       "2          1550             1286       24/07/2015     22/04/2017  02/08/1938   \n",
       "3          1984             1008       22/05/2016     22/06/2017  29/07/1924   \n",
       "4          1084             1674       24/05/2013     24/09/2018  26/02/1927   \n",
       "\n",
       "  GENDER filing_state     claim_status eb_status eb_reassessment_date  \\\n",
       "0      M           MN           Denied    Denied                  NaN   \n",
       "1      F           FL  Approved Closed    Closed                  NaN   \n",
       "2      F           MO  Approved Closed    Closed                  NaN   \n",
       "3      M           MS  Approved Closed    Closed                  NaN   \n",
       "4      F           IA  Approved Closed    Closed                  NaN   \n",
       "\n",
       "                                   primary_diagnosis last_care_setting  \n",
       "0                Chronic kidney disease, unspecified               NaN  \n",
       "1                               Unspecified dementia                NH  \n",
       "2  Unspecified dementia without behavioral distur...                NH  \n",
       "3                       Sepsis, unspecified organism               HHC  \n",
       "4                      Muscle weakness (generalized)                NH  "
      ]
     },
     "execution_count": 53,
     "metadata": {},
     "output_type": "execute_result"
    }
   ],
   "source": [
    "#make sure it was loaded correctly\n",
    "df.shape # (1170, 12)\n",
    "df.head()"
   ]
  },
  {
   "cell_type": "code",
   "execution_count": 54,
   "id": "517136b5",
   "metadata": {},
   "outputs": [
    {
     "data": {
      "text/html": [
       "<div>\n",
       "<style scoped>\n",
       "    .dataframe tbody tr th:only-of-type {\n",
       "        vertical-align: middle;\n",
       "    }\n",
       "\n",
       "    .dataframe tbody tr th {\n",
       "        vertical-align: top;\n",
       "    }\n",
       "\n",
       "    .dataframe thead th {\n",
       "        text-align: right;\n",
       "    }\n",
       "</style>\n",
       "<table border=\"1\" class=\"dataframe\">\n",
       "  <thead>\n",
       "    <tr style=\"text-align: right;\">\n",
       "      <th></th>\n",
       "      <th>hashed_ph_id</th>\n",
       "      <th>hashed_claim_id</th>\n",
       "      <th>claim_start_date</th>\n",
       "      <th>claim_end_date</th>\n",
       "      <th>birth_date</th>\n",
       "      <th>GENDER</th>\n",
       "      <th>filing_state</th>\n",
       "      <th>claim_status</th>\n",
       "      <th>eb_status</th>\n",
       "      <th>eb_reassessment_date</th>\n",
       "      <th>primary_diagnosis</th>\n",
       "      <th>last_care_setting</th>\n",
       "    </tr>\n",
       "  </thead>\n",
       "  <tbody>\n",
       "    <tr>\n",
       "      <th>count</th>\n",
       "      <td>1170.000000</td>\n",
       "      <td>1170.000000</td>\n",
       "      <td>1170</td>\n",
       "      <td>944</td>\n",
       "      <td>1170</td>\n",
       "      <td>1170</td>\n",
       "      <td>1170</td>\n",
       "      <td>1170</td>\n",
       "      <td>1170</td>\n",
       "      <td>151</td>\n",
       "      <td>1162</td>\n",
       "      <td>842</td>\n",
       "    </tr>\n",
       "    <tr>\n",
       "      <th>unique</th>\n",
       "      <td>NaN</td>\n",
       "      <td>NaN</td>\n",
       "      <td>983</td>\n",
       "      <td>812</td>\n",
       "      <td>935</td>\n",
       "      <td>2</td>\n",
       "      <td>48</td>\n",
       "      <td>5</td>\n",
       "      <td>5</td>\n",
       "      <td>124</td>\n",
       "      <td>309</td>\n",
       "      <td>6</td>\n",
       "    </tr>\n",
       "    <tr>\n",
       "      <th>top</th>\n",
       "      <td>NaN</td>\n",
       "      <td>NaN</td>\n",
       "      <td>23/02/2018</td>\n",
       "      <td>24/07/2020</td>\n",
       "      <td>11/08/1932</td>\n",
       "      <td>F</td>\n",
       "      <td>FL</td>\n",
       "      <td>Approved Closed</td>\n",
       "      <td>Closed</td>\n",
       "      <td>01/01/2022</td>\n",
       "      <td>Unspecified dementia without behavioral distur...</td>\n",
       "      <td>NH</td>\n",
       "    </tr>\n",
       "    <tr>\n",
       "      <th>freq</th>\n",
       "      <td>NaN</td>\n",
       "      <td>NaN</td>\n",
       "      <td>5</td>\n",
       "      <td>7</td>\n",
       "      <td>6</td>\n",
       "      <td>731</td>\n",
       "      <td>115</td>\n",
       "      <td>769</td>\n",
       "      <td>712</td>\n",
       "      <td>3</td>\n",
       "      <td>112</td>\n",
       "      <td>538</td>\n",
       "    </tr>\n",
       "    <tr>\n",
       "      <th>mean</th>\n",
       "      <td>1501.582051</td>\n",
       "      <td>1584.500000</td>\n",
       "      <td>NaN</td>\n",
       "      <td>NaN</td>\n",
       "      <td>NaN</td>\n",
       "      <td>NaN</td>\n",
       "      <td>NaN</td>\n",
       "      <td>NaN</td>\n",
       "      <td>NaN</td>\n",
       "      <td>NaN</td>\n",
       "      <td>NaN</td>\n",
       "      <td>NaN</td>\n",
       "    </tr>\n",
       "    <tr>\n",
       "      <th>std</th>\n",
       "      <td>287.496016</td>\n",
       "      <td>337.894214</td>\n",
       "      <td>NaN</td>\n",
       "      <td>NaN</td>\n",
       "      <td>NaN</td>\n",
       "      <td>NaN</td>\n",
       "      <td>NaN</td>\n",
       "      <td>NaN</td>\n",
       "      <td>NaN</td>\n",
       "      <td>NaN</td>\n",
       "      <td>NaN</td>\n",
       "      <td>NaN</td>\n",
       "    </tr>\n",
       "    <tr>\n",
       "      <th>min</th>\n",
       "      <td>1000.000000</td>\n",
       "      <td>1000.000000</td>\n",
       "      <td>NaN</td>\n",
       "      <td>NaN</td>\n",
       "      <td>NaN</td>\n",
       "      <td>NaN</td>\n",
       "      <td>NaN</td>\n",
       "      <td>NaN</td>\n",
       "      <td>NaN</td>\n",
       "      <td>NaN</td>\n",
       "      <td>NaN</td>\n",
       "      <td>NaN</td>\n",
       "    </tr>\n",
       "    <tr>\n",
       "      <th>25%</th>\n",
       "      <td>1255.250000</td>\n",
       "      <td>1292.250000</td>\n",
       "      <td>NaN</td>\n",
       "      <td>NaN</td>\n",
       "      <td>NaN</td>\n",
       "      <td>NaN</td>\n",
       "      <td>NaN</td>\n",
       "      <td>NaN</td>\n",
       "      <td>NaN</td>\n",
       "      <td>NaN</td>\n",
       "      <td>NaN</td>\n",
       "      <td>NaN</td>\n",
       "    </tr>\n",
       "    <tr>\n",
       "      <th>50%</th>\n",
       "      <td>1504.500000</td>\n",
       "      <td>1584.500000</td>\n",
       "      <td>NaN</td>\n",
       "      <td>NaN</td>\n",
       "      <td>NaN</td>\n",
       "      <td>NaN</td>\n",
       "      <td>NaN</td>\n",
       "      <td>NaN</td>\n",
       "      <td>NaN</td>\n",
       "      <td>NaN</td>\n",
       "      <td>NaN</td>\n",
       "      <td>NaN</td>\n",
       "    </tr>\n",
       "    <tr>\n",
       "      <th>75%</th>\n",
       "      <td>1755.750000</td>\n",
       "      <td>1876.750000</td>\n",
       "      <td>NaN</td>\n",
       "      <td>NaN</td>\n",
       "      <td>NaN</td>\n",
       "      <td>NaN</td>\n",
       "      <td>NaN</td>\n",
       "      <td>NaN</td>\n",
       "      <td>NaN</td>\n",
       "      <td>NaN</td>\n",
       "      <td>NaN</td>\n",
       "      <td>NaN</td>\n",
       "    </tr>\n",
       "    <tr>\n",
       "      <th>max</th>\n",
       "      <td>1999.000000</td>\n",
       "      <td>2169.000000</td>\n",
       "      <td>NaN</td>\n",
       "      <td>NaN</td>\n",
       "      <td>NaN</td>\n",
       "      <td>NaN</td>\n",
       "      <td>NaN</td>\n",
       "      <td>NaN</td>\n",
       "      <td>NaN</td>\n",
       "      <td>NaN</td>\n",
       "      <td>NaN</td>\n",
       "      <td>NaN</td>\n",
       "    </tr>\n",
       "  </tbody>\n",
       "</table>\n",
       "</div>"
      ],
      "text/plain": [
       "        hashed_ph_id  hashed_claim_id claim_start_date claim_end_date  \\\n",
       "count    1170.000000      1170.000000             1170            944   \n",
       "unique           NaN              NaN              983            812   \n",
       "top              NaN              NaN       23/02/2018     24/07/2020   \n",
       "freq             NaN              NaN                5              7   \n",
       "mean     1501.582051      1584.500000              NaN            NaN   \n",
       "std       287.496016       337.894214              NaN            NaN   \n",
       "min      1000.000000      1000.000000              NaN            NaN   \n",
       "25%      1255.250000      1292.250000              NaN            NaN   \n",
       "50%      1504.500000      1584.500000              NaN            NaN   \n",
       "75%      1755.750000      1876.750000              NaN            NaN   \n",
       "max      1999.000000      2169.000000              NaN            NaN   \n",
       "\n",
       "        birth_date GENDER filing_state     claim_status eb_status  \\\n",
       "count         1170   1170         1170             1170      1170   \n",
       "unique         935      2           48                5         5   \n",
       "top     11/08/1932      F           FL  Approved Closed    Closed   \n",
       "freq             6    731          115              769       712   \n",
       "mean           NaN    NaN          NaN              NaN       NaN   \n",
       "std            NaN    NaN          NaN              NaN       NaN   \n",
       "min            NaN    NaN          NaN              NaN       NaN   \n",
       "25%            NaN    NaN          NaN              NaN       NaN   \n",
       "50%            NaN    NaN          NaN              NaN       NaN   \n",
       "75%            NaN    NaN          NaN              NaN       NaN   \n",
       "max            NaN    NaN          NaN              NaN       NaN   \n",
       "\n",
       "       eb_reassessment_date  \\\n",
       "count                   151   \n",
       "unique                  124   \n",
       "top              01/01/2022   \n",
       "freq                      3   \n",
       "mean                    NaN   \n",
       "std                     NaN   \n",
       "min                     NaN   \n",
       "25%                     NaN   \n",
       "50%                     NaN   \n",
       "75%                     NaN   \n",
       "max                     NaN   \n",
       "\n",
       "                                        primary_diagnosis last_care_setting  \n",
       "count                                                1162               842  \n",
       "unique                                                309                 6  \n",
       "top     Unspecified dementia without behavioral distur...                NH  \n",
       "freq                                                  112               538  \n",
       "mean                                                  NaN               NaN  \n",
       "std                                                   NaN               NaN  \n",
       "min                                                   NaN               NaN  \n",
       "25%                                                   NaN               NaN  \n",
       "50%                                                   NaN               NaN  \n",
       "75%                                                   NaN               NaN  \n",
       "max                                                   NaN               NaN  "
      ]
     },
     "execution_count": 54,
     "metadata": {},
     "output_type": "execute_result"
    }
   ],
   "source": [
    "#descriptive statistics for the dataframe\n",
    "\n",
    "df.describe(include=\"all\")"
   ]
  },
  {
   "cell_type": "code",
   "execution_count": 55,
   "id": "0bdaa912",
   "metadata": {},
   "outputs": [
    {
     "data": {
      "text/plain": [
       "['hashed_ph_id',\n",
       " 'hashed_claim_id',\n",
       " 'claim_start_date',\n",
       " 'claim_end_date',\n",
       " 'birth_date',\n",
       " 'GENDER',\n",
       " 'filing_state',\n",
       " 'claim_status',\n",
       " 'eb_status',\n",
       " 'eb_reassessment_date',\n",
       " 'primary_diagnosis',\n",
       " 'last_care_setting']"
      ]
     },
     "execution_count": 55,
     "metadata": {},
     "output_type": "execute_result"
    }
   ],
   "source": [
    "#view the dataframe columns\n",
    "\n",
    "list(df.columns)"
   ]
  },
  {
   "cell_type": "code",
   "execution_count": 56,
   "id": "7facc908",
   "metadata": {},
   "outputs": [
    {
     "name": "stdout",
     "output_type": "stream",
     "text": [
      "<class 'pandas.core.frame.DataFrame'>\n",
      "RangeIndex: 1170 entries, 0 to 1169\n",
      "Data columns (total 12 columns):\n",
      " #   Column                Non-Null Count  Dtype \n",
      "---  ------                --------------  ----- \n",
      " 0   hashed_ph_id          1170 non-null   int64 \n",
      " 1   hashed_claim_id       1170 non-null   int64 \n",
      " 2   claim_start_date      1170 non-null   object\n",
      " 3   claim_end_date        944 non-null    object\n",
      " 4   birth_date            1170 non-null   object\n",
      " 5   GENDER                1170 non-null   object\n",
      " 6   filing_state          1170 non-null   object\n",
      " 7   claim_status          1170 non-null   object\n",
      " 8   eb_status             1170 non-null   object\n",
      " 9   eb_reassessment_date  151 non-null    object\n",
      " 10  primary_diagnosis     1162 non-null   object\n",
      " 11  last_care_setting     842 non-null    object\n",
      "dtypes: int64(2), object(10)\n",
      "memory usage: 109.8+ KB\n"
     ]
    }
   ],
   "source": [
    "df.info()"
   ]
  },
  {
   "cell_type": "code",
   "execution_count": null,
   "id": "b7d1ebca",
   "metadata": {},
   "outputs": [],
   "source": [
    "# Investigating the missing data, specifically claim_end_date and eb_reassessment_date  "
   ]
  },
  {
   "cell_type": "code",
   "execution_count": 57,
   "id": "815cd06d",
   "metadata": {},
   "outputs": [
    {
     "data": {
      "image/png": "[encoded data removed]",
      "text/plain": [
       "<Figure size 1800x720 with 2 Axes>"
      ]
     },
     "metadata": {
      "needs_background": "light"
     },
     "output_type": "display_data"
    }
   ],
   "source": [
    "# visualize missing data\n",
    "msno.matrix(df) #white represent missing values,\n",
    "#we can see whether the missing values correspond with other missing values\n",
    "plt.show()"
   ]
  },
  {
   "cell_type": "code",
   "execution_count": 58,
   "id": "a2a69fd5",
   "metadata": {},
   "outputs": [
    {
     "data": {
      "text/plain": [
       "<AxesSubplot:>"
      ]
     },
     "execution_count": 58,
     "metadata": {},
     "output_type": "execute_result"
    },
    {
     "data": {
      "image/png": "[encoded data removed]",
      "text/plain": [
       "<Figure size 1800x720 with 3 Axes>"
      ]
     },
     "metadata": {
      "needs_background": "light"
     },
     "output_type": "display_data"
    }
   ],
   "source": [
    "# visualize missing data\n",
    "\n",
    "msno.bar(df) #hight of the bar represent non-null values"
   ]
  },
  {
   "cell_type": "code",
   "execution_count": 59,
   "id": "62c234e4",
   "metadata": {},
   "outputs": [
    {
     "data": {
      "text/plain": [
       "hashed_ph_id               0\n",
       "hashed_claim_id            0\n",
       "claim_start_date           0\n",
       "claim_end_date           226\n",
       "birth_date                 0\n",
       "GENDER                     0\n",
       "filing_state               0\n",
       "claim_status               0\n",
       "eb_status                  0\n",
       "eb_reassessment_date    1019\n",
       "primary_diagnosis          8\n",
       "last_care_setting        328\n",
       "dtype: int64"
      ]
     },
     "execution_count": 59,
     "metadata": {},
     "output_type": "execute_result"
    }
   ],
   "source": [
    "# summary of missing values across all columns.only four columns have missing data\n",
    "df.isna().sum()"
   ]
  },
  {
   "cell_type": "code",
   "execution_count": 60,
   "id": "04411ce2",
   "metadata": {},
   "outputs": [
    {
     "name": "stdout",
     "output_type": "stream",
     "text": [
      "AxesSubplot(0.125,0.125;0.775x0.755)\n"
     ]
    },
    {
     "data": {
      "image/png": "[encoded data removed]",
      "text/plain": [
       "<Figure size 432x288 with 1 Axes>"
      ]
     },
     "metadata": {
      "needs_background": "light"
     },
     "output_type": "display_data"
    }
   ],
   "source": [
    "# a different way to visualize missing data\n",
    "missing=df.isna().sum() # summary of missing values across all columns. eb_reassessment_date\n",
    "# have the highest missing values\n",
    "print(missing.plot(kind='bar'))"
   ]
  },
  {
   "cell_type": "code",
   "execution_count": 61,
   "id": "af6eb403",
   "metadata": {},
   "outputs": [
    {
     "name": "stdout",
     "output_type": "stream",
     "text": [
      "226\n",
      "944\n"
     ]
    }
   ],
   "source": [
    "#investigate missing claim_end_date \n",
    "# subset for cases with missing claim_end and non missing claim_end\n",
    "missing_claim_end = df[df['claim_end_date'].isna()]\n",
    "complete_claim = df[~df['claim_end_date'].isna()]\n",
    "\n",
    "print(missing_claim_end.hashed_claim_id.count()) # 226 cases\n",
    "print(complete_claim.hashed_claim_id.count()) # 944 cases"
   ]
  },
  {
   "cell_type": "code",
   "execution_count": 62,
   "id": "cbae57ff",
   "metadata": {},
   "outputs": [
    {
     "data": {
      "text/html": [
       "<div>\n",
       "<style scoped>\n",
       "    .dataframe tbody tr th:only-of-type {\n",
       "        vertical-align: middle;\n",
       "    }\n",
       "\n",
       "    .dataframe tbody tr th {\n",
       "        vertical-align: top;\n",
       "    }\n",
       "\n",
       "    .dataframe thead th {\n",
       "        text-align: right;\n",
       "    }\n",
       "</style>\n",
       "<table border=\"1\" class=\"dataframe\">\n",
       "  <thead>\n",
       "    <tr style=\"text-align: right;\">\n",
       "      <th></th>\n",
       "      <th>hashed_claim_id</th>\n",
       "    </tr>\n",
       "    <tr>\n",
       "      <th>claim_status</th>\n",
       "      <th></th>\n",
       "    </tr>\n",
       "  </thead>\n",
       "  <tbody>\n",
       "    <tr>\n",
       "      <th>Denied</th>\n",
       "      <td>199</td>\n",
       "    </tr>\n",
       "    <tr>\n",
       "      <th>NEW</th>\n",
       "      <td>9</td>\n",
       "    </tr>\n",
       "    <tr>\n",
       "      <th>Withdrawn</th>\n",
       "      <td>18</td>\n",
       "    </tr>\n",
       "  </tbody>\n",
       "</table>\n",
       "</div>"
      ],
      "text/plain": [
       "              hashed_claim_id\n",
       "claim_status                 \n",
       "Denied                    199\n",
       "NEW                         9\n",
       "Withdrawn                  18"
      ]
     },
     "execution_count": 62,
     "metadata": {},
     "output_type": "execute_result"
    }
   ],
   "source": [
    "# create pivot table to investigate missing values for claim_end_date \n",
    "pd.pivot_table(missing_claim_end,'hashed_claim_id','claim_status',aggfunc=pd.Series.nunique)"
   ]
  },
  {
   "cell_type": "code",
   "execution_count": 63,
   "id": "dd0f8200",
   "metadata": {},
   "outputs": [
    {
     "data": {
      "text/html": [
       "<div>\n",
       "<style scoped>\n",
       "    .dataframe tbody tr th:only-of-type {\n",
       "        vertical-align: middle;\n",
       "    }\n",
       "\n",
       "    .dataframe tbody tr th {\n",
       "        vertical-align: top;\n",
       "    }\n",
       "\n",
       "    .dataframe thead th {\n",
       "        text-align: right;\n",
       "    }\n",
       "</style>\n",
       "<table border=\"1\" class=\"dataframe\">\n",
       "  <thead>\n",
       "    <tr style=\"text-align: right;\">\n",
       "      <th></th>\n",
       "      <th>hashed_claim_id</th>\n",
       "    </tr>\n",
       "    <tr>\n",
       "      <th>claim_status</th>\n",
       "      <th></th>\n",
       "    </tr>\n",
       "  </thead>\n",
       "  <tbody>\n",
       "    <tr>\n",
       "      <th>Approved Closed</th>\n",
       "      <td>769</td>\n",
       "    </tr>\n",
       "    <tr>\n",
       "      <th>Approved-Reassessment</th>\n",
       "      <td>175</td>\n",
       "    </tr>\n",
       "  </tbody>\n",
       "</table>\n",
       "</div>"
      ],
      "text/plain": [
       "                       hashed_claim_id\n",
       "claim_status                          \n",
       "Approved Closed                    769\n",
       "Approved-Reassessment              175"
      ]
     },
     "execution_count": 63,
     "metadata": {},
     "output_type": "execute_result"
    }
   ],
   "source": [
    "# create pivot table to investigate non-missing values for claim_end_date \n",
    "\n",
    "pd.pivot_table(complete_claim,'hashed_claim_id','claim_status',aggfunc=pd.Series.nunique)"
   ]
  },
  {
   "cell_type": "code",
   "execution_count": 64,
   "id": "d4b66ddd",
   "metadata": {},
   "outputs": [
    {
     "data": {
      "text/plain": [
       "(151, 12)"
      ]
     },
     "execution_count": 64,
     "metadata": {},
     "output_type": "execute_result"
    }
   ],
   "source": [
    "#investigate missing eb_reassessment_date\n",
    "# subset for cases with missing eb_reassessment_date and non missing eb_reassessment_date\n",
    "missing_eb_end = df[df['eb_reassessment_date'].isna()] \n",
    "complete_eb = df[~df['eb_reassessment_date'].isna()]\n",
    "missing_eb=missing_eb_end.groupby('claim_status').agg('nunique')\n",
    "missing_eb_end.shape # 1019 cases\n",
    "complete_eb.shape # 151 cases"
   ]
  },
  {
   "cell_type": "code",
   "execution_count": 65,
   "id": "fa61c3da",
   "metadata": {},
   "outputs": [
    {
     "data": {
      "text/html": [
       "<div>\n",
       "<style scoped>\n",
       "    .dataframe tbody tr th:only-of-type {\n",
       "        vertical-align: middle;\n",
       "    }\n",
       "\n",
       "    .dataframe tbody tr th {\n",
       "        vertical-align: top;\n",
       "    }\n",
       "\n",
       "    .dataframe thead th {\n",
       "        text-align: right;\n",
       "    }\n",
       "</style>\n",
       "<table border=\"1\" class=\"dataframe\">\n",
       "  <thead>\n",
       "    <tr style=\"text-align: right;\">\n",
       "      <th></th>\n",
       "      <th>hashed_claim_id</th>\n",
       "    </tr>\n",
       "    <tr>\n",
       "      <th>claim_status</th>\n",
       "      <th></th>\n",
       "    </tr>\n",
       "  </thead>\n",
       "  <tbody>\n",
       "    <tr>\n",
       "      <th>Approved Closed</th>\n",
       "      <td>769</td>\n",
       "    </tr>\n",
       "    <tr>\n",
       "      <th>Approved-Reassessment</th>\n",
       "      <td>25</td>\n",
       "    </tr>\n",
       "    <tr>\n",
       "      <th>Denied</th>\n",
       "      <td>199</td>\n",
       "    </tr>\n",
       "    <tr>\n",
       "      <th>NEW</th>\n",
       "      <td>9</td>\n",
       "    </tr>\n",
       "    <tr>\n",
       "      <th>Withdrawn</th>\n",
       "      <td>17</td>\n",
       "    </tr>\n",
       "  </tbody>\n",
       "</table>\n",
       "</div>"
      ],
      "text/plain": [
       "                       hashed_claim_id\n",
       "claim_status                          \n",
       "Approved Closed                    769\n",
       "Approved-Reassessment               25\n",
       "Denied                             199\n",
       "NEW                                  9\n",
       "Withdrawn                           17"
      ]
     },
     "execution_count": 65,
     "metadata": {},
     "output_type": "execute_result"
    }
   ],
   "source": [
    "# create pivot table to investigate missing values for eb_reassessment_date\n",
    "pd.pivot_table(missing_eb_end,'hashed_claim_id','claim_status',aggfunc=pd.Series.nunique)\n"
   ]
  },
  {
   "cell_type": "code",
   "execution_count": 66,
   "id": "c686dbf6",
   "metadata": {},
   "outputs": [
    {
     "data": {
      "text/html": [
       "<div>\n",
       "<style scoped>\n",
       "    .dataframe tbody tr th:only-of-type {\n",
       "        vertical-align: middle;\n",
       "    }\n",
       "\n",
       "    .dataframe tbody tr th {\n",
       "        vertical-align: top;\n",
       "    }\n",
       "\n",
       "    .dataframe thead th {\n",
       "        text-align: right;\n",
       "    }\n",
       "</style>\n",
       "<table border=\"1\" class=\"dataframe\">\n",
       "  <thead>\n",
       "    <tr style=\"text-align: right;\">\n",
       "      <th></th>\n",
       "      <th>hashed_claim_id</th>\n",
       "    </tr>\n",
       "    <tr>\n",
       "      <th>eb_status</th>\n",
       "      <th></th>\n",
       "    </tr>\n",
       "  </thead>\n",
       "  <tbody>\n",
       "    <tr>\n",
       "      <th>Approved</th>\n",
       "      <td>21</td>\n",
       "    </tr>\n",
       "    <tr>\n",
       "      <th>Closed</th>\n",
       "      <td>711</td>\n",
       "    </tr>\n",
       "    <tr>\n",
       "      <th>Deceased</th>\n",
       "      <td>70</td>\n",
       "    </tr>\n",
       "    <tr>\n",
       "      <th>Denied</th>\n",
       "      <td>203</td>\n",
       "    </tr>\n",
       "    <tr>\n",
       "      <th>In Assessment</th>\n",
       "      <td>14</td>\n",
       "    </tr>\n",
       "  </tbody>\n",
       "</table>\n",
       "</div>"
      ],
      "text/plain": [
       "               hashed_claim_id\n",
       "eb_status                     \n",
       "Approved                    21\n",
       "Closed                     711\n",
       "Deceased                    70\n",
       "Denied                     203\n",
       "In Assessment               14"
      ]
     },
     "execution_count": 66,
     "metadata": {},
     "output_type": "execute_result"
    }
   ],
   "source": [
    "pd.pivot_table(missing_eb_end,'hashed_claim_id','eb_status',aggfunc=pd.Series.nunique)\n"
   ]
  },
  {
   "cell_type": "code",
   "execution_count": 67,
   "id": "27993240",
   "metadata": {},
   "outputs": [
    {
     "data": {
      "text/html": [
       "<div>\n",
       "<style scoped>\n",
       "    .dataframe tbody tr th:only-of-type {\n",
       "        vertical-align: middle;\n",
       "    }\n",
       "\n",
       "    .dataframe tbody tr th {\n",
       "        vertical-align: top;\n",
       "    }\n",
       "\n",
       "    .dataframe thead th {\n",
       "        text-align: right;\n",
       "    }\n",
       "</style>\n",
       "<table border=\"1\" class=\"dataframe\">\n",
       "  <thead>\n",
       "    <tr style=\"text-align: right;\">\n",
       "      <th></th>\n",
       "      <th>hashed_claim_id</th>\n",
       "    </tr>\n",
       "    <tr>\n",
       "      <th>filing_state</th>\n",
       "      <th></th>\n",
       "    </tr>\n",
       "  </thead>\n",
       "  <tbody>\n",
       "    <tr>\n",
       "      <th>AL</th>\n",
       "      <td>4</td>\n",
       "    </tr>\n",
       "    <tr>\n",
       "      <th>AR</th>\n",
       "      <td>5</td>\n",
       "    </tr>\n",
       "    <tr>\n",
       "      <th>AZ</th>\n",
       "      <td>12</td>\n",
       "    </tr>\n",
       "    <tr>\n",
       "      <th>CA</th>\n",
       "      <td>36</td>\n",
       "    </tr>\n",
       "    <tr>\n",
       "      <th>CO</th>\n",
       "      <td>13</td>\n",
       "    </tr>\n",
       "    <tr>\n",
       "      <th>CT</th>\n",
       "      <td>30</td>\n",
       "    </tr>\n",
       "    <tr>\n",
       "      <th>DC</th>\n",
       "      <td>3</td>\n",
       "    </tr>\n",
       "    <tr>\n",
       "      <th>DE</th>\n",
       "      <td>2</td>\n",
       "    </tr>\n",
       "    <tr>\n",
       "      <th>FL</th>\n",
       "      <td>103</td>\n",
       "    </tr>\n",
       "    <tr>\n",
       "      <th>GA</th>\n",
       "      <td>17</td>\n",
       "    </tr>\n",
       "    <tr>\n",
       "      <th>IA</th>\n",
       "      <td>68</td>\n",
       "    </tr>\n",
       "    <tr>\n",
       "      <th>ID</th>\n",
       "      <td>18</td>\n",
       "    </tr>\n",
       "    <tr>\n",
       "      <th>IL</th>\n",
       "      <td>38</td>\n",
       "    </tr>\n",
       "    <tr>\n",
       "      <th>IN</th>\n",
       "      <td>29</td>\n",
       "    </tr>\n",
       "    <tr>\n",
       "      <th>KS</th>\n",
       "      <td>59</td>\n",
       "    </tr>\n",
       "    <tr>\n",
       "      <th>KY</th>\n",
       "      <td>18</td>\n",
       "    </tr>\n",
       "    <tr>\n",
       "      <th>LA</th>\n",
       "      <td>8</td>\n",
       "    </tr>\n",
       "    <tr>\n",
       "      <th>MA</th>\n",
       "      <td>26</td>\n",
       "    </tr>\n",
       "    <tr>\n",
       "      <th>MD</th>\n",
       "      <td>4</td>\n",
       "    </tr>\n",
       "    <tr>\n",
       "      <th>ME</th>\n",
       "      <td>6</td>\n",
       "    </tr>\n",
       "    <tr>\n",
       "      <th>MI</th>\n",
       "      <td>16</td>\n",
       "    </tr>\n",
       "    <tr>\n",
       "      <th>MN</th>\n",
       "      <td>35</td>\n",
       "    </tr>\n",
       "    <tr>\n",
       "      <th>MO</th>\n",
       "      <td>43</td>\n",
       "    </tr>\n",
       "    <tr>\n",
       "      <th>MS</th>\n",
       "      <td>15</td>\n",
       "    </tr>\n",
       "    <tr>\n",
       "      <th>MT</th>\n",
       "      <td>7</td>\n",
       "    </tr>\n",
       "    <tr>\n",
       "      <th>NC</th>\n",
       "      <td>40</td>\n",
       "    </tr>\n",
       "    <tr>\n",
       "      <th>ND</th>\n",
       "      <td>3</td>\n",
       "    </tr>\n",
       "    <tr>\n",
       "      <th>NE</th>\n",
       "      <td>16</td>\n",
       "    </tr>\n",
       "    <tr>\n",
       "      <th>NH</th>\n",
       "      <td>18</td>\n",
       "    </tr>\n",
       "    <tr>\n",
       "      <th>NJ</th>\n",
       "      <td>4</td>\n",
       "    </tr>\n",
       "    <tr>\n",
       "      <th>NM</th>\n",
       "      <td>1</td>\n",
       "    </tr>\n",
       "    <tr>\n",
       "      <th>NV</th>\n",
       "      <td>2</td>\n",
       "    </tr>\n",
       "    <tr>\n",
       "      <th>OH</th>\n",
       "      <td>29</td>\n",
       "    </tr>\n",
       "    <tr>\n",
       "      <th>OK</th>\n",
       "      <td>21</td>\n",
       "    </tr>\n",
       "    <tr>\n",
       "      <th>OR</th>\n",
       "      <td>26</td>\n",
       "    </tr>\n",
       "    <tr>\n",
       "      <th>PA</th>\n",
       "      <td>31</td>\n",
       "    </tr>\n",
       "    <tr>\n",
       "      <th>RI</th>\n",
       "      <td>3</td>\n",
       "    </tr>\n",
       "    <tr>\n",
       "      <th>SC</th>\n",
       "      <td>19</td>\n",
       "    </tr>\n",
       "    <tr>\n",
       "      <th>SD</th>\n",
       "      <td>2</td>\n",
       "    </tr>\n",
       "    <tr>\n",
       "      <th>TN</th>\n",
       "      <td>33</td>\n",
       "    </tr>\n",
       "    <tr>\n",
       "      <th>TX</th>\n",
       "      <td>52</td>\n",
       "    </tr>\n",
       "    <tr>\n",
       "      <th>UT</th>\n",
       "      <td>4</td>\n",
       "    </tr>\n",
       "    <tr>\n",
       "      <th>VA</th>\n",
       "      <td>31</td>\n",
       "    </tr>\n",
       "    <tr>\n",
       "      <th>VT</th>\n",
       "      <td>3</td>\n",
       "    </tr>\n",
       "    <tr>\n",
       "      <th>WA</th>\n",
       "      <td>30</td>\n",
       "    </tr>\n",
       "    <tr>\n",
       "      <th>WI</th>\n",
       "      <td>30</td>\n",
       "    </tr>\n",
       "    <tr>\n",
       "      <th>WV</th>\n",
       "      <td>4</td>\n",
       "    </tr>\n",
       "    <tr>\n",
       "      <th>WY</th>\n",
       "      <td>2</td>\n",
       "    </tr>\n",
       "  </tbody>\n",
       "</table>\n",
       "</div>"
      ],
      "text/plain": [
       "              hashed_claim_id\n",
       "filing_state                 \n",
       "AL                          4\n",
       "AR                          5\n",
       "AZ                         12\n",
       "CA                         36\n",
       "CO                         13\n",
       "CT                         30\n",
       "DC                          3\n",
       "DE                          2\n",
       "FL                        103\n",
       "GA                         17\n",
       "IA                         68\n",
       "ID                         18\n",
       "IL                         38\n",
       "IN                         29\n",
       "KS                         59\n",
       "KY                         18\n",
       "LA                          8\n",
       "MA                         26\n",
       "MD                          4\n",
       "ME                          6\n",
       "MI                         16\n",
       "MN                         35\n",
       "MO                         43\n",
       "MS                         15\n",
       "MT                          7\n",
       "NC                         40\n",
       "ND                          3\n",
       "NE                         16\n",
       "NH                         18\n",
       "NJ                          4\n",
       "NM                          1\n",
       "NV                          2\n",
       "OH                         29\n",
       "OK                         21\n",
       "OR                         26\n",
       "PA                         31\n",
       "RI                          3\n",
       "SC                         19\n",
       "SD                          2\n",
       "TN                         33\n",
       "TX                         52\n",
       "UT                          4\n",
       "VA                         31\n",
       "VT                          3\n",
       "WA                         30\n",
       "WI                         30\n",
       "WV                          4\n",
       "WY                          2"
      ]
     },
     "execution_count": 67,
     "metadata": {},
     "output_type": "execute_result"
    }
   ],
   "source": [
    "pd.pivot_table(missing_eb_end,'hashed_claim_id','filing_state',aggfunc=pd.Series.nunique)\n"
   ]
  },
  {
   "cell_type": "code",
   "execution_count": 68,
   "id": "cb7a24d5",
   "metadata": {},
   "outputs": [
    {
     "data": {
      "text/html": [
       "<div>\n",
       "<style scoped>\n",
       "    .dataframe tbody tr th:only-of-type {\n",
       "        vertical-align: middle;\n",
       "    }\n",
       "\n",
       "    .dataframe tbody tr th {\n",
       "        vertical-align: top;\n",
       "    }\n",
       "\n",
       "    .dataframe thead th {\n",
       "        text-align: right;\n",
       "    }\n",
       "</style>\n",
       "<table border=\"1\" class=\"dataframe\">\n",
       "  <thead>\n",
       "    <tr style=\"text-align: right;\">\n",
       "      <th></th>\n",
       "      <th>hashed_claim_id</th>\n",
       "    </tr>\n",
       "    <tr>\n",
       "      <th>last_care_setting</th>\n",
       "      <th></th>\n",
       "    </tr>\n",
       "  </thead>\n",
       "  <tbody>\n",
       "    <tr>\n",
       "      <th>Alt Housing</th>\n",
       "      <td>21</td>\n",
       "    </tr>\n",
       "    <tr>\n",
       "      <th>HHC</th>\n",
       "      <td>193</td>\n",
       "    </tr>\n",
       "    <tr>\n",
       "      <th>Ind Prov</th>\n",
       "      <td>6</td>\n",
       "    </tr>\n",
       "    <tr>\n",
       "      <th>NH</th>\n",
       "      <td>472</td>\n",
       "    </tr>\n",
       "    <tr>\n",
       "      <th>Other</th>\n",
       "      <td>9</td>\n",
       "    </tr>\n",
       "    <tr>\n",
       "      <th>Personal Care</th>\n",
       "      <td>12</td>\n",
       "    </tr>\n",
       "  </tbody>\n",
       "</table>\n",
       "</div>"
      ],
      "text/plain": [
       "                   hashed_claim_id\n",
       "last_care_setting                 \n",
       "Alt Housing                     21\n",
       "HHC                            193\n",
       "Ind Prov                         6\n",
       "NH                             472\n",
       "Other                            9\n",
       "Personal Care                   12"
      ]
     },
     "execution_count": 68,
     "metadata": {},
     "output_type": "execute_result"
    }
   ],
   "source": [
    "pd.pivot_table(missing_eb_end,'hashed_claim_id','last_care_setting',aggfunc=pd.Series.nunique)\n",
    "\n"
   ]
  },
  {
   "cell_type": "code",
   "execution_count": 69,
   "id": "1bf6e6b5",
   "metadata": {},
   "outputs": [
    {
     "data": {
      "text/html": [
       "<div>\n",
       "<style scoped>\n",
       "    .dataframe tbody tr th:only-of-type {\n",
       "        vertical-align: middle;\n",
       "    }\n",
       "\n",
       "    .dataframe tbody tr th {\n",
       "        vertical-align: top;\n",
       "    }\n",
       "\n",
       "    .dataframe thead th {\n",
       "        text-align: right;\n",
       "    }\n",
       "</style>\n",
       "<table border=\"1\" class=\"dataframe\">\n",
       "  <thead>\n",
       "    <tr style=\"text-align: right;\">\n",
       "      <th></th>\n",
       "      <th>hashed_claim_id</th>\n",
       "    </tr>\n",
       "    <tr>\n",
       "      <th>primary_diagnosis</th>\n",
       "      <th></th>\n",
       "    </tr>\n",
       "  </thead>\n",
       "  <tbody>\n",
       "    <tr>\n",
       "      <th>ACUTE, BUT ILL-DEFINED, CEREBROVASCULAR DISEASE</th>\n",
       "      <td>1</td>\n",
       "    </tr>\n",
       "    <tr>\n",
       "      <th>ALZHEIMER'S DISEASE</th>\n",
       "      <td>29</td>\n",
       "    </tr>\n",
       "    <tr>\n",
       "      <th>ANTERIOR HORN CELL DISEASE</th>\n",
       "      <td>1</td>\n",
       "    </tr>\n",
       "    <tr>\n",
       "      <th>ASTHMA</th>\n",
       "      <td>1</td>\n",
       "    </tr>\n",
       "    <tr>\n",
       "      <th>Acute embolism and thombos unsp deep vn unsp lower extremity</th>\n",
       "      <td>1</td>\n",
       "    </tr>\n",
       "    <tr>\n",
       "      <th>...</th>\n",
       "      <td>...</td>\n",
       "    </tr>\n",
       "    <tr>\n",
       "      <th>VIRAL INFECTION IN CONDITIONS CLASSIFIED ELSEWHERE AND OF</th>\n",
       "      <td>1</td>\n",
       "    </tr>\n",
       "    <tr>\n",
       "      <th>Vascular dementia</th>\n",
       "      <td>1</td>\n",
       "    </tr>\n",
       "    <tr>\n",
       "      <th>Vascular dementia with behavioral disturbance</th>\n",
       "      <td>6</td>\n",
       "    </tr>\n",
       "    <tr>\n",
       "      <th>Vascular dementia without behavioral disturbance</th>\n",
       "      <td>4</td>\n",
       "    </tr>\n",
       "    <tr>\n",
       "      <th>Weakness</th>\n",
       "      <td>6</td>\n",
       "    </tr>\n",
       "  </tbody>\n",
       "</table>\n",
       "<p>274 rows × 1 columns</p>\n",
       "</div>"
      ],
      "text/plain": [
       "                                                    hashed_claim_id\n",
       "primary_diagnosis                                                  \n",
       "ACUTE, BUT ILL-DEFINED, CEREBROVASCULAR DISEASE                   1\n",
       "ALZHEIMER'S DISEASE                                              29\n",
       "ANTERIOR HORN CELL DISEASE                                        1\n",
       "ASTHMA                                                            1\n",
       "Acute embolism and thombos unsp deep vn unsp lo...                1\n",
       "...                                                             ...\n",
       "VIRAL INFECTION IN CONDITIONS CLASSIFIED ELSEWH...                1\n",
       "Vascular dementia                                                 1\n",
       "Vascular dementia with behavioral disturbance                     6\n",
       "Vascular dementia without behavioral disturbance                  4\n",
       "Weakness                                                          6\n",
       "\n",
       "[274 rows x 1 columns]"
      ]
     },
     "execution_count": 69,
     "metadata": {},
     "output_type": "execute_result"
    }
   ],
   "source": [
    "pd.pivot_table(missing_eb_end,'hashed_claim_id','primary_diagnosis',aggfunc=pd.Series.nunique)\n"
   ]
  },
  {
   "cell_type": "code",
   "execution_count": 70,
   "id": "51be0c15",
   "metadata": {},
   "outputs": [
    {
     "data": {
      "text/html": [
       "<div>\n",
       "<style scoped>\n",
       "    .dataframe tbody tr th:only-of-type {\n",
       "        vertical-align: middle;\n",
       "    }\n",
       "\n",
       "    .dataframe tbody tr th {\n",
       "        vertical-align: top;\n",
       "    }\n",
       "\n",
       "    .dataframe thead th {\n",
       "        text-align: right;\n",
       "    }\n",
       "</style>\n",
       "<table border=\"1\" class=\"dataframe\">\n",
       "  <thead>\n",
       "    <tr style=\"text-align: right;\">\n",
       "      <th></th>\n",
       "      <th>hashed_claim_id</th>\n",
       "    </tr>\n",
       "    <tr>\n",
       "      <th>claim_status</th>\n",
       "      <th></th>\n",
       "    </tr>\n",
       "  </thead>\n",
       "  <tbody>\n",
       "    <tr>\n",
       "      <th>Approved-Reassessment</th>\n",
       "      <td>150</td>\n",
       "    </tr>\n",
       "    <tr>\n",
       "      <th>Withdrawn</th>\n",
       "      <td>1</td>\n",
       "    </tr>\n",
       "  </tbody>\n",
       "</table>\n",
       "</div>"
      ],
      "text/plain": [
       "                       hashed_claim_id\n",
       "claim_status                          \n",
       "Approved-Reassessment              150\n",
       "Withdrawn                            1"
      ]
     },
     "execution_count": 70,
     "metadata": {},
     "output_type": "execute_result"
    }
   ],
   "source": [
    "pd.pivot_table(complete_eb,'hashed_claim_id','claim_status',aggfunc=pd.Series.nunique)\n"
   ]
  },
  {
   "cell_type": "code",
   "execution_count": 71,
   "id": "d1470b6d",
   "metadata": {},
   "outputs": [
    {
     "data": {
      "text/html": [
       "<div>\n",
       "<style scoped>\n",
       "    .dataframe tbody tr th:only-of-type {\n",
       "        vertical-align: middle;\n",
       "    }\n",
       "\n",
       "    .dataframe tbody tr th {\n",
       "        vertical-align: top;\n",
       "    }\n",
       "\n",
       "    .dataframe thead th {\n",
       "        text-align: right;\n",
       "    }\n",
       "</style>\n",
       "<table border=\"1\" class=\"dataframe\">\n",
       "  <thead>\n",
       "    <tr style=\"text-align: right;\">\n",
       "      <th></th>\n",
       "      <th>hashed_claim_id</th>\n",
       "    </tr>\n",
       "    <tr>\n",
       "      <th>eb_status</th>\n",
       "      <th></th>\n",
       "    </tr>\n",
       "  </thead>\n",
       "  <tbody>\n",
       "    <tr>\n",
       "      <th>Approved</th>\n",
       "      <td>140</td>\n",
       "    </tr>\n",
       "    <tr>\n",
       "      <th>Closed</th>\n",
       "      <td>1</td>\n",
       "    </tr>\n",
       "    <tr>\n",
       "      <th>In Assessment</th>\n",
       "      <td>10</td>\n",
       "    </tr>\n",
       "  </tbody>\n",
       "</table>\n",
       "</div>"
      ],
      "text/plain": [
       "               hashed_claim_id\n",
       "eb_status                     \n",
       "Approved                   140\n",
       "Closed                       1\n",
       "In Assessment               10"
      ]
     },
     "execution_count": 71,
     "metadata": {},
     "output_type": "execute_result"
    }
   ],
   "source": [
    "pd.pivot_table(complete_eb,'hashed_claim_id','eb_status',aggfunc=pd.Series.nunique)\n"
   ]
  },
  {
   "cell_type": "code",
   "execution_count": null,
   "id": "52a964b3",
   "metadata": {},
   "outputs": [],
   "source": [
    "#After reviewing the data I can infer that the missing values for claim_end_date are those where the claim_status was denied,\n",
    "#new or withdrawn.that means that claims that where denied don't have claim_end_date.\n",
    "#new claims won't have end date as they are still looked at. and withdrawn cases won't have claim end date. \n",
    "# The missing values are of type Missing not at random (MNAR)-\n",
    "#(i.e., the value of the variable that's missing is related to the reason it's missing).\n",
    "# Non-missing values for eb_reassessment_date- those with status Approved-Reassessment and 1 withdrawn.\n",
    "# On the other hand, missing values occur in all the claim status categories.\n",
    "#I tried to look for a trend whether the missing data occurs for specific claim status,\n",
    "#gender filling state, last care setting, primary diagnosis, eb status\n",
    "# but couldn't find a trend. that means that the missing data is of type missing completely at random (MCAR).  \n"
   ]
  },
  {
   "cell_type": "code",
   "execution_count": null,
   "id": "41728887",
   "metadata": {},
   "outputs": [],
   "source": [
    "# Next, I want to investigate the distribution of claimants age upon first approved claim."
   ]
  },
  {
   "cell_type": "code",
   "execution_count": 72,
   "id": "3f3cb8e1",
   "metadata": {},
   "outputs": [
    {
     "name": "stdout",
     "output_type": "stream",
     "text": [
      "(1170,)\n",
      "1    83.808219\n",
      "2    77.506849\n",
      "3    91.876712\n",
      "4    86.298630\n",
      "5    94.095890\n",
      "dtype: float64\n",
      "659\n"
     ]
    },
    {
     "name": "stderr",
     "output_type": "stream",
     "text": [
      "C:\\Users\\Maayan\\AppData\\Local\\Temp\\ipykernel_3196\\3739206694.py:7: UserWarning: Boolean Series key will be reindexed to match DataFrame index.\n",
      "  first_approved=df[approved_closed].drop_duplicates(subset=['hashed_ph_id'],keep='first')\n"
     ]
    }
   ],
   "source": [
    "# sort the data by claim start date\n",
    "data_sorted=df.sort_values(by='claim_start_date')\n",
    "#subset status for approved claims\n",
    "approved_closed= data_sorted['claim_status']==\"Approved Closed\"\n",
    "print(approved_closed.shape) # 769 number of approved cases\n",
    "#leave only the first claim that was approved,659 cases\n",
    "first_approved=df[approved_closed].drop_duplicates(subset=['hashed_ph_id'],keep='first')\n",
    "# calculate patients age: transform to datetime type\n",
    "birth_date = pd.to_datetime(first_approved['birth_date'])\n",
    "claim_start_date= pd.to_datetime(first_approved['claim_start_date']) \n",
    "# calculate the age by subtracting the dates\n",
    "age_manual= (claim_start_date-birth_date).dt.days/365\n",
    "#add an age column  to the df\n",
    "first_approved['age']=age_manual\n",
    "#make sure the age calculation worked\n",
    "print(age_manual.head()) \n",
    "print(first_approved.hashed_claim_id.count()) #659 cases\n"
   ]
  },
  {
   "cell_type": "code",
   "execution_count": 73,
   "id": "0431a0e6",
   "metadata": {},
   "outputs": [
    {
     "data": {
      "image/png": "[encoded data removed]",
      "text/plain": [
       "<Figure size 432x288 with 1 Axes>"
      ]
     },
     "metadata": {
      "needs_background": "light"
     },
     "output_type": "display_data"
    },
    {
     "name": "stdout",
     "output_type": "stream",
     "text": [
      "Age median of first time approved claimants=86.06849315068493\n",
      "Age IQR of first time approved claimants=8.220547945205482\n"
     ]
    }
   ],
   "source": [
    " # create a histogram of claimnts age upon first approved claim\n",
    "plt.hist(first_approved['age'],bins=20)\n",
    "plt.xlabel('Age')\n",
    "plt.title('Distribution Of Claimants Age Upon First Approved Claim')\n",
    "plt.show()\n",
    "print(\"Age median of first time approved claimants=\"+str(first_approved[\"age\"].median()))\n",
    "print(\"Age IQR of first time approved claimants=\"+str(first_approved[\"age\"].quantile(0.75)-first_approved[\"age\"].quantile(0.25)))\n"
   ]
  },
  {
   "cell_type": "code",
   "execution_count": null,
   "id": "27289125",
   "metadata": {},
   "outputs": [],
   "source": [
    "# There is apeak of approving first claims at around age 85. Claims before age 75 are rarely approved. There are less approved first claims after the age of 90. "
   ]
  },
  {
   "cell_type": "code",
   "execution_count": null,
   "id": "35ca8f42",
   "metadata": {},
   "outputs": [],
   "source": [
    "# Another interesting question is whether there is a difference between males and females in the prevalence of\n",
    "#claimants who were ever denied a claim? Is this difference statistically significant?\n"
   ]
  },
  {
   "cell_type": "code",
   "execution_count": 74,
   "id": "4652e378",
   "metadata": {},
   "outputs": [
    {
     "data": {
      "text/plain": [
       "Text(0.5, 1.0, 'Count Of Claimants Gender Upon First Approved Claim')"
      ]
     },
     "execution_count": 74,
     "metadata": {},
     "output_type": "execute_result"
    },
    {
     "data": {
      "image/png": "[encoded data removed]",
      "text/plain": [
       "<Figure size 432x288 with 1 Axes>"
      ]
     },
     "metadata": {
      "needs_background": "light"
     },
     "output_type": "display_data"
    }
   ],
   "source": [
    "# create a graph of claimants gender upon first approved claim\n",
    "c=['blue','orange'] #colors for color blind people\n",
    "first_approved.groupby('GENDER').size().plot(kind='bar',color=c) # create a bar graph with different colors per gender \n",
    "plt.xticks(rotation=360)\n",
    "plt.title('Count Of Claimants Gender Upon First Approved Claim')\n",
    "\n",
    "\n",
    "\n"
   ]
  },
  {
   "cell_type": "code",
   "execution_count": 75,
   "id": "cd38fb66",
   "metadata": {},
   "outputs": [
    {
     "data": {
      "text/plain": [
       "Text(0.5, 1.0, 'Count Of Claimants Gender Upon First Claim')"
      ]
     },
     "execution_count": 75,
     "metadata": {},
     "output_type": "execute_result"
    },
    {
     "data": {
      "image/png": "[encoded data removed]",
      "text/plain": [
       "<Figure size 432x288 with 1 Axes>"
      ]
     },
     "metadata": {
      "needs_background": "light"
     },
     "output_type": "display_data"
    }
   ],
   "source": [
    "# create a graph of claimants gender upon first claim\n",
    "data_sorted=df.sort_values(by='claim_start_date')\n",
    "first_claims=data_sorted.drop_duplicates(subset=['hashed_ph_id'],keep='first')\n",
    "\n",
    "c=['blue','orange']\n",
    "first_claims.groupby('GENDER').size().plot(kind='bar',color=c) # create a bar graph with different colors per gender \n",
    "plt.xticks(rotation=360)\n",
    "plt.title('Count Of Claimants Gender Upon First Claim')"
   ]
  },
  {
   "cell_type": "code",
   "execution_count": 76,
   "id": "255cefa7",
   "metadata": {},
   "outputs": [
    {
     "data": {
      "image/png": "[encoded data removed]",
      "text/plain": [
       "<Figure size 432x288 with 1 Axes>"
      ]
     },
     "metadata": {
      "needs_background": "light"
     },
     "output_type": "display_data"
    }
   ],
   "source": [
    "# Distribution Of Claimants Age & Gender Upon First Approved Claim\n",
    "first_approved[first_approved[\"GENDER\"]==\"F\"]['age'].hist(alpha=0.7,bins=20)\n",
    "first_approved[first_approved[\"GENDER\"]==\"M\"]['age'].hist(alpha=0.7,bins=20)\n",
    "plt.legend([\"F\", \"M\"])\n",
    "plt.xlabel('Age')\n",
    "plt.title('Distribution Of Claimants Age & Gender Upon First Approved Claim')\n",
    "plt.show()"
   ]
  },
  {
   "cell_type": "code",
   "execution_count": null,
   "id": "c8bf3162",
   "metadata": {},
   "outputs": [],
   "source": [
    "# Males and females distribution of approved claims by age seems fairly similar.\n",
    "# There are less cases of approved claims for men over the age of 90 but this might be due to less claims filed. "
   ]
  },
  {
   "cell_type": "code",
   "execution_count": 77,
   "id": "1645e41f",
   "metadata": {},
   "outputs": [
    {
     "name": "stdout",
     "output_type": "stream",
     "text": [
      "199\n"
     ]
    },
    {
     "data": {
      "image/png": "[encoded data removed]",
      "text/plain": [
       "<Figure size 432x288 with 1 Axes>"
      ]
     },
     "metadata": {
      "needs_background": "light"
     },
     "output_type": "display_data"
    }
   ],
   "source": [
    "#subset status for denied claims\n",
    "denied_status= df['claim_status']==\"Denied\"\n",
    "denied=df[denied_status]\n",
    "# create a bar graph with different colors per gender \n",
    "c=['blue','orange']\n",
    "denied.groupby('GENDER').size().plot(kind='bar',color=c) \n",
    "plt.xticks(rotation=360)\n",
    "plt.title('Count Of Denied Claims By Gender')\n",
    "print(denied.hashed_claim_id.count()) #199 denied cases\n",
    "\n"
   ]
  },
  {
   "cell_type": "code",
   "execution_count": null,
   "id": "1b3d765e",
   "metadata": {},
   "outputs": [],
   "source": [
    "# There are less denied claims for males vs females, but this graph is misleading as we need to look at the proportion of denied/approved by gender."
   ]
  },
  {
   "cell_type": "code",
   "execution_count": 78,
   "id": "aee0974b",
   "metadata": {},
   "outputs": [
    {
     "name": "stdout",
     "output_type": "stream",
     "text": [
      "   hashed_ph_id  hashed_claim_id claim_start_date claim_end_date  birth_date  \\\n",
      "0          1134             1362       30/12/2017            NaN  24/10/1929   \n",
      "1          1255             1918       20/12/2016     24/12/2017  21/03/1933   \n",
      "2          1550             1286       24/07/2015     22/04/2017  02/08/1938   \n",
      "3          1984             1008       22/05/2016     22/06/2017  29/07/1924   \n",
      "4          1084             1674       24/05/2013     24/09/2018  26/02/1927   \n",
      "\n",
      "  GENDER filing_state     claim_status eb_status eb_reassessment_date  \\\n",
      "0      M           MN           Denied    Denied                  NaN   \n",
      "1      F           FL  Approved Closed    Closed                  NaN   \n",
      "2      F           MO  Approved Closed    Closed                  NaN   \n",
      "3      M           MS  Approved Closed    Closed                  NaN   \n",
      "4      F           IA  Approved Closed    Closed                  NaN   \n",
      "\n",
      "                                   primary_diagnosis last_care_setting  \n",
      "0                Chronic kidney disease, unspecified               NaN  \n",
      "1                               Unspecified dementia                NH  \n",
      "2  Unspecified dementia without behavioral distur...                NH  \n",
      "3                       Sepsis, unspecified organism               HHC  \n",
      "4                      Muscle weakness (generalized)                NH  \n"
     ]
    },
    {
     "data": {
      "text/plain": [
       "(968, 12)"
      ]
     },
     "execution_count": 78,
     "metadata": {},
     "output_type": "execute_result"
    }
   ],
   "source": [
    "approved_denied=df.query('claim_status==\"Approved Closed\" or claim_status==\"Denied\"')\n",
    "print(approved_denied.head())\n",
    "approved_denied.shape # 968 cases of approved and denied claims\n"
   ]
  },
  {
   "cell_type": "code",
   "execution_count": 79,
   "id": "9307f7e8",
   "metadata": {},
   "outputs": [
    {
     "name": "stdout",
     "output_type": "stream",
     "text": [
      "769\n"
     ]
    }
   ],
   "source": [
    " #subset status for approved claims\n",
    "approved_status= df['claim_status']==\"Approved Closed\"\n",
    "approved=df[approved_status]\n",
    "print(approved.hashed_claim_id.count()) #(769, Approved closed cases)"
   ]
  },
  {
   "cell_type": "code",
   "execution_count": 80,
   "id": "b86b4663",
   "metadata": {},
   "outputs": [
    {
     "name": "stdout",
     "output_type": "stream",
     "text": [
      "113\n",
      "86\n"
     ]
    }
   ],
   "source": [
    "#subset for denied claims per gender\n",
    "female_denied = denied[denied['GENDER']=='F']\n",
    "male_denied = denied[denied['GENDER']=='M']\n",
    "print(female_denied.hashed_claim_id.count()) #(113 denied female)\n",
    "print(male_denied.hashed_claim_id.count()) #(86 denied male)"
   ]
  },
  {
   "cell_type": "code",
   "execution_count": 81,
   "id": "27a9d05e",
   "metadata": {},
   "outputs": [
    {
     "name": "stdout",
     "output_type": "stream",
     "text": [
      "467\n",
      "302\n"
     ]
    }
   ],
   "source": [
    "#subset for approved cases by gender\n",
    "female_approved = approved[approved['GENDER']=='F']\n",
    "male_approved = approved[approved['GENDER']=='M']\n",
    "print(female_approved.hashed_claim_id.count()) #(467 approved female)\n",
    "print(male_approved.hashed_claim_id.count()) #(302 approved male)"
   ]
  },
  {
   "cell_type": "code",
   "execution_count": 82,
   "id": "2f82a00e",
   "metadata": {},
   "outputs": [
    {
     "data": {
      "image/png": "[encoded data removed]",
      "text/plain": [
       "<Figure size 432x288 with 1 Axes>"
      ]
     },
     "metadata": {
      "needs_background": "light"
     },
     "output_type": "display_data"
    }
   ],
   "source": [
    "# create a graph for count of claims status by gender. the graph before was misleading\n",
    "# because we need to look at the proportion of denied/approved by gender and not just the\n",
    "# absoulte number of denied cases\n",
    "x=['F','M']\n",
    "y1=[len(female_approved),len(male_approved)]\n",
    "y2=[len(female_denied),len(male_denied)]\n",
    "plt.bar(x,y1,color='b',label='approved')\n",
    "plt.bar(x,y2,bottom=y1,color='orange',label='denied')\n",
    "plt.legend()\n",
    "plt.title('Count Of Claims Status By Gender')\n",
    "\n",
    "plt.show()\n"
   ]
  },
  {
   "cell_type": "code",
   "execution_count": null,
   "id": "293c6932",
   "metadata": {},
   "outputs": [],
   "source": [
    "# When looking at the proportion of denied/approved in males and females we can see that the difference is not significant. "
   ]
  },
  {
   "cell_type": "code",
   "execution_count": 83,
   "id": "cd32c4ad",
   "metadata": {},
   "outputs": [
    {
     "name": "stdout",
     "output_type": "stream",
     "text": [
      "z_stat: -1.012, p_value: 0.312\n",
      "Fail to reject the null hypothesis - There is no significant difference in denying claims between genders\n"
     ]
    }
   ],
   "source": [
    "# testing the statistical significance by performing a Ztest-proportion \n",
    "significance = 0.025\n",
    "# our samples - 19% were denied in females, and 22% were denied in males\n",
    "sample_denied_F, sample_size_F = (113, 580)\n",
    "sample_denied_M, sample_size_M = (86, 388)\n",
    "# check our sample against Ho \n",
    "successes = np.array([sample_denied_F, sample_denied_M])\n",
    "samples = np.array([sample_size_F, sample_size_M])\n",
    "stat, p_value = proportions_ztest(count=successes, nobs=samples,  alternative='two-sided')\n",
    "# report the result\n",
    "print('z_stat: %0.3f, p_value: %0.3f' % (stat, p_value))\n",
    "if p_value > significance:\n",
    "   print (\"Fail to reject the null hypothesis - There is no significant difference in denying claims between genders\")\n",
    "else:\n",
    "   print (\"Reject the null hypothesis - There is significant difference in denying claims between genders\")"
   ]
  }
 ],
 "metadata": {
  "kernelspec": {
   "display_name": "Python 3 (ipykernel)",
   "language": "python",
   "name": "python3"
  },
  "language_info": {
   "codemirror_mode": {
    "name": "ipython",
    "version": 3
   },
   "file_extension": ".py",
   "mimetype": "text/x-python",
   "name": "python",
   "nbconvert_exporter": "python",
   "pygments_lexer": "ipython3",
   "version": "3.10.0"
  }
 },
 "nbformat": 4,
 "nbformat_minor": 5
}
