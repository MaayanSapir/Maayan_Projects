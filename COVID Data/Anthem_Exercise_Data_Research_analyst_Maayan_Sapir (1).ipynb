{
  "nbformat": 4,
  "nbformat_minor": 0,
  "metadata": {
    "colab": {
      "name": "Anthem Exercise - Data Research analyst - Maayan Sapir.ipynb",
      "provenance": [],
      "collapsed_sections": []
    },
    "kernelspec": {
      "name": "python3",
      "display_name": "Python 3"
    },
    "language_info": {
      "name": "python"
    }
  },
  "cells": [
    {
      "cell_type": "markdown",
      "metadata": {
        "id": "8gRQUTni7xpA"
      },
      "source": [
        "#Introduction"
      ]
    },
    {
      "cell_type": "markdown",
      "metadata": {
        "id": "bXLduBlI7Cml"
      },
      "source": [
        "Dear Candidate, \n",
        "\n",
        "The intention of this exercise is to examine basic Data Analysis and be a basis for a future technical discussion. It is NOT intended to serve as a stress test. So, if any of the tasks is taking too long, you are welcomed to skip it and discuss it verbally with your recruiting manager at the end of this exercise (instead of providing a detailed response here).\n",
        "\n",
        "We appreciate your time and effort in working on this exercise as part of your interview process! \n",
        "\n",
        "Good Luck!"
      ]
    },
    {
      "cell_type": "markdown",
      "metadata": {
        "id": "ke-Ugf5w8AUf"
      },
      "source": [
        "#Exercise Setup"
      ]
    },
    {
      "cell_type": "code",
      "metadata": {
        "id": "9kPBtDAsyjf9",
        "colab": {
          "base_uri": "https://localhost:8080/"
        },
        "outputId": "a2085253-a49c-48e8-9b25-e277f1f22b03"
      },
      "source": [
        "# pip packages installation\n",
        "\n",
        "!pip install PyDrive\n",
        "!pip install pandasql"
      ],
      "execution_count": null,
      "outputs": [
        {
          "output_type": "stream",
          "name": "stdout",
          "text": [
            "Requirement already satisfied: PyDrive in /usr/local/lib/python3.7/dist-packages (1.3.1)\n",
            "Requirement already satisfied: PyYAML>=3.0 in /usr/local/lib/python3.7/dist-packages (from PyDrive) (3.13)\n",
            "Requirement already satisfied: oauth2client>=4.0.0 in /usr/local/lib/python3.7/dist-packages (from PyDrive) (4.1.3)\n",
            "Requirement already satisfied: google-api-python-client>=1.2 in /usr/local/lib/python3.7/dist-packages (from PyDrive) (1.12.8)\n",
            "Requirement already satisfied: google-auth-httplib2>=0.0.3 in /usr/local/lib/python3.7/dist-packages (from google-api-python-client>=1.2->PyDrive) (0.0.4)\n",
            "Requirement already satisfied: six<2dev,>=1.13.0 in /usr/local/lib/python3.7/dist-packages (from google-api-python-client>=1.2->PyDrive) (1.15.0)\n",
            "Requirement already satisfied: httplib2<1dev,>=0.15.0 in /usr/local/lib/python3.7/dist-packages (from google-api-python-client>=1.2->PyDrive) (0.17.4)\n",
            "Requirement already satisfied: google-auth>=1.16.0 in /usr/local/lib/python3.7/dist-packages (from google-api-python-client>=1.2->PyDrive) (1.35.0)\n",
            "Requirement already satisfied: google-api-core<2dev,>=1.21.0 in /usr/local/lib/python3.7/dist-packages (from google-api-python-client>=1.2->PyDrive) (1.26.3)\n",
            "Requirement already satisfied: uritemplate<4dev,>=3.0.0 in /usr/local/lib/python3.7/dist-packages (from google-api-python-client>=1.2->PyDrive) (3.0.1)\n",
            "Requirement already satisfied: packaging>=14.3 in /usr/local/lib/python3.7/dist-packages (from google-api-core<2dev,>=1.21.0->google-api-python-client>=1.2->PyDrive) (21.3)\n",
            "Requirement already satisfied: requests<3.0.0dev,>=2.18.0 in /usr/local/lib/python3.7/dist-packages (from google-api-core<2dev,>=1.21.0->google-api-python-client>=1.2->PyDrive) (2.23.0)\n",
            "Requirement already satisfied: setuptools>=40.3.0 in /usr/local/lib/python3.7/dist-packages (from google-api-core<2dev,>=1.21.0->google-api-python-client>=1.2->PyDrive) (57.4.0)\n",
            "Requirement already satisfied: protobuf>=3.12.0 in /usr/local/lib/python3.7/dist-packages (from google-api-core<2dev,>=1.21.0->google-api-python-client>=1.2->PyDrive) (3.17.3)\n",
            "Requirement already satisfied: pytz in /usr/local/lib/python3.7/dist-packages (from google-api-core<2dev,>=1.21.0->google-api-python-client>=1.2->PyDrive) (2018.9)\n",
            "Requirement already satisfied: googleapis-common-protos<2.0dev,>=1.6.0 in /usr/local/lib/python3.7/dist-packages (from google-api-core<2dev,>=1.21.0->google-api-python-client>=1.2->PyDrive) (1.53.0)\n",
            "Requirement already satisfied: rsa<5,>=3.1.4 in /usr/local/lib/python3.7/dist-packages (from google-auth>=1.16.0->google-api-python-client>=1.2->PyDrive) (4.8)\n",
            "Requirement already satisfied: pyasn1-modules>=0.2.1 in /usr/local/lib/python3.7/dist-packages (from google-auth>=1.16.0->google-api-python-client>=1.2->PyDrive) (0.2.8)\n",
            "Requirement already satisfied: cachetools<5.0,>=2.0.0 in /usr/local/lib/python3.7/dist-packages (from google-auth>=1.16.0->google-api-python-client>=1.2->PyDrive) (4.2.4)\n",
            "Requirement already satisfied: pyasn1>=0.1.7 in /usr/local/lib/python3.7/dist-packages (from oauth2client>=4.0.0->PyDrive) (0.4.8)\n",
            "Requirement already satisfied: pyparsing!=3.0.5,>=2.0.2 in /usr/local/lib/python3.7/dist-packages (from packaging>=14.3->google-api-core<2dev,>=1.21.0->google-api-python-client>=1.2->PyDrive) (3.0.6)\n",
            "Requirement already satisfied: urllib3!=1.25.0,!=1.25.1,<1.26,>=1.21.1 in /usr/local/lib/python3.7/dist-packages (from requests<3.0.0dev,>=2.18.0->google-api-core<2dev,>=1.21.0->google-api-python-client>=1.2->PyDrive) (1.24.3)\n",
            "Requirement already satisfied: idna<3,>=2.5 in /usr/local/lib/python3.7/dist-packages (from requests<3.0.0dev,>=2.18.0->google-api-core<2dev,>=1.21.0->google-api-python-client>=1.2->PyDrive) (2.10)\n",
            "Requirement already satisfied: chardet<4,>=3.0.2 in /usr/local/lib/python3.7/dist-packages (from requests<3.0.0dev,>=2.18.0->google-api-core<2dev,>=1.21.0->google-api-python-client>=1.2->PyDrive) (3.0.4)\n",
            "Requirement already satisfied: certifi>=2017.4.17 in /usr/local/lib/python3.7/dist-packages (from requests<3.0.0dev,>=2.18.0->google-api-core<2dev,>=1.21.0->google-api-python-client>=1.2->PyDrive) (2021.10.8)\n",
            "Requirement already satisfied: pandasql in /usr/local/lib/python3.7/dist-packages (0.7.3)\n",
            "Requirement already satisfied: numpy in /usr/local/lib/python3.7/dist-packages (from pandasql) (1.19.5)\n",
            "Requirement already satisfied: sqlalchemy in /usr/local/lib/python3.7/dist-packages (from pandasql) (1.4.27)\n",
            "Requirement already satisfied: pandas in /usr/local/lib/python3.7/dist-packages (from pandasql) (1.1.5)\n",
            "Requirement already satisfied: pytz>=2017.2 in /usr/local/lib/python3.7/dist-packages (from pandas->pandasql) (2018.9)\n",
            "Requirement already satisfied: python-dateutil>=2.7.3 in /usr/local/lib/python3.7/dist-packages (from pandas->pandasql) (2.8.2)\n",
            "Requirement already satisfied: six>=1.5 in /usr/local/lib/python3.7/dist-packages (from python-dateutil>=2.7.3->pandas->pandasql) (1.15.0)\n",
            "Requirement already satisfied: greenlet!=0.4.17 in /usr/local/lib/python3.7/dist-packages (from sqlalchemy->pandasql) (1.1.2)\n",
            "Requirement already satisfied: importlib-metadata in /usr/local/lib/python3.7/dist-packages (from sqlalchemy->pandasql) (4.8.2)\n",
            "Requirement already satisfied: zipp>=0.5 in /usr/local/lib/python3.7/dist-packages (from importlib-metadata->sqlalchemy->pandasql) (3.6.0)\n",
            "Requirement already satisfied: typing-extensions>=3.6.4 in /usr/local/lib/python3.7/dist-packages (from importlib-metadata->sqlalchemy->pandasql) (3.10.0.2)\n"
          ]
        }
      ]
    },
    {
      "cell_type": "code",
      "metadata": {
        "id": "NJqXGKitlcux"
      },
      "source": [
        "# added the last line-maayan\n",
        "import os\n",
        "import glob\n",
        "import pandas as pd\n",
        "import pandasql as ps\n",
        "import matplotlib.pyplot as plt "
      ],
      "execution_count": null,
      "outputs": []
    },
    {
      "cell_type": "code",
      "metadata": {
        "id": "FHRHs45TuhC5"
      },
      "source": [
        "from pydrive.auth import GoogleAuth\n",
        "from pydrive.drive import GoogleDrive\n",
        "from google.colab import auth\n",
        "from oauth2client.client import GoogleCredentials"
      ],
      "execution_count": null,
      "outputs": []
    },
    {
      "cell_type": "code",
      "metadata": {
        "id": "cFYoyb8pu5qa"
      },
      "source": [
        "# Anthem excercise covid dataset path\n",
        "excercise_data_st = {'covid_dat_exercise_latam.csv': {'id':'1F9XjmAtIUD5Xs91T9VRbgl4qrXZUt7qB'},\n",
        "                     'WHO-COVID-19-latam-data-for-exercise.csv': {'id':'16CkPZm-Rz5JPIDu7kxfbsXVUCoCs0bb5'}}"
      ],
      "execution_count": null,
      "outputs": []
    },
    {
      "cell_type": "code",
      "metadata": {
        "id": "P4AFecwDuoSn"
      },
      "source": [
        "# connect to your google drive account\n",
        "auth.authenticate_user()\n",
        "gauth = GoogleAuth()\n",
        "gauth.credentials = GoogleCredentials.get_application_default()\n",
        "drive = GoogleDrive(gauth)"
      ],
      "execution_count": null,
      "outputs": []
    },
    {
      "cell_type": "code",
      "metadata": {
        "id": "jpYLwN9RyFbd"
      },
      "source": [
        "# setup the excercise folder\n",
        "# excercise_path = '/content/Anthem_interview_ex'\n",
        "excercise_path = '/content/Anthem_interview_ex'\n",
        "if not os.path.exists(excercise_path):\n",
        "    os.makedirs(excercise_path)\n",
        "    os.chdir(excercise_path)"
      ],
      "execution_count": null,
      "outputs": []
    },
    {
      "cell_type": "code",
      "metadata": {
        "id": "_Qzj3bBQABEU",
        "colab": {
          "base_uri": "https://localhost:8080/",
          "height": 35
        },
        "outputId": "2f45a1f8-9f6c-433a-de0a-266c0c35cd4f"
      },
      "source": [
        "os.getcwd()"
      ],
      "execution_count": null,
      "outputs": [
        {
          "output_type": "execute_result",
          "data": {
            "application/vnd.google.colaboratory.intrinsic+json": {
              "type": "string"
            },
            "text/plain": [
              "'/content/sample_data'"
            ]
          },
          "metadata": {},
          "execution_count": 119
        }
      ]
    },
    {
      "cell_type": "code",
      "metadata": {
        "id": "0mU4bv67yzeg",
        "colab": {
          "base_uri": "https://localhost:8080/"
        },
        "outputId": "5a9dda21-4f4f-4230-9b95-95c1ea185bc7"
      },
      "source": [
        "# download all the excercise files\n",
        "for file_name, shared_path_st in excercise_data_st.items():\n",
        "    print('downloading {}'.format(file_name))\n",
        "    downloaded = drive.CreateFile(shared_path_st)\n",
        "    downloaded.GetContentFile(file_name)"
      ],
      "execution_count": null,
      "outputs": [
        {
          "output_type": "stream",
          "name": "stdout",
          "text": [
            "downloading covid_dat_exercise_latam.csv\n",
            "downloading WHO-COVID-19-latam-data-for-exercise.csv\n"
          ]
        }
      ]
    },
    {
      "cell_type": "code",
      "metadata": {
        "id": "2N0kOidrzniu",
        "colab": {
          "base_uri": "https://localhost:8080/"
        },
        "outputId": "779461fa-4400-42ef-c269-6c009d349bc4"
      },
      "source": [
        "# verifying all files have been downloaded properly\n",
        "\n",
        "print(excercise_path); print(glob.glob(os.path.join(excercise_path,'*.*')))"
      ],
      "execution_count": null,
      "outputs": [
        {
          "output_type": "stream",
          "name": "stdout",
          "text": [
            "/content/Anthem_interview_ex\n",
            "['/content/Anthem_interview_ex/covid_dat_exercise_latam.csv', '/content/Anthem_interview_ex/WHO-COVID-19-latam-data-for-exercise.csv']\n"
          ]
        }
      ]
    },
    {
      "cell_type": "code",
      "metadata": {
        "id": "vSygM5NA65Lc",
        "colab": {
          "base_uri": "https://localhost:8080/",
          "height": 661
        },
        "outputId": "bc3cf2ca-52b1-414f-f7ff-41ed5b67a7a5"
      },
      "source": [
        "# reading the first spreadsheet into pandas pd:\n",
        "covid_dat = pd.read_csv(os.path.join(excercise_path,'covid_dat_exercise_latam.csv'))\n",
        "covid_dat"
      ],
      "execution_count": null,
      "outputs": [
        {
          "output_type": "execute_result",
          "data": {
            "text/html": [
              "\n",
              "  <div id=\"df-cc87ad5b-c1b7-4ee6-b87b-a0ed11fae9c5\">\n",
              "    <div class=\"colab-df-container\">\n",
              "      <div>\n",
              "<style scoped>\n",
              "    .dataframe tbody tr th:only-of-type {\n",
              "        vertical-align: middle;\n",
              "    }\n",
              "\n",
              "    .dataframe tbody tr th {\n",
              "        vertical-align: top;\n",
              "    }\n",
              "\n",
              "    .dataframe thead th {\n",
              "        text-align: right;\n",
              "    }\n",
              "</style>\n",
              "<table border=\"1\" class=\"dataframe\">\n",
              "  <thead>\n",
              "    <tr style=\"text-align: right;\">\n",
              "      <th></th>\n",
              "      <th>Unnamed: 0</th>\n",
              "      <th>id</th>\n",
              "      <th>sex</th>\n",
              "      <th>patient_type</th>\n",
              "      <th>country_cd</th>\n",
              "      <th>entry_date</th>\n",
              "      <th>date_symptoms</th>\n",
              "      <th>date_died</th>\n",
              "      <th>intubed</th>\n",
              "      <th>pneumonia</th>\n",
              "      <th>age</th>\n",
              "      <th>pregnancy</th>\n",
              "      <th>diabetes</th>\n",
              "      <th>copd</th>\n",
              "      <th>asthma</th>\n",
              "      <th>inmsupr</th>\n",
              "      <th>hypertension</th>\n",
              "      <th>other_disease</th>\n",
              "      <th>cardiovascular</th>\n",
              "      <th>obesity</th>\n",
              "      <th>renal_chronic</th>\n",
              "      <th>tobacco</th>\n",
              "      <th>contact_other_covid</th>\n",
              "      <th>covid_res</th>\n",
              "      <th>icu</th>\n",
              "    </tr>\n",
              "  </thead>\n",
              "  <tbody>\n",
              "    <tr>\n",
              "      <th>0</th>\n",
              "      <td>0</td>\n",
              "      <td>16169f</td>\n",
              "      <td>Female</td>\n",
              "      <td>1.0</td>\n",
              "      <td>BR</td>\n",
              "      <td>NaN</td>\n",
              "      <td>02/05/2020</td>\n",
              "      <td>9999-99-99</td>\n",
              "      <td>97.0</td>\n",
              "      <td>2.0</td>\n",
              "      <td>27.0</td>\n",
              "      <td>97.0</td>\n",
              "      <td>NaN</td>\n",
              "      <td>2.0</td>\n",
              "      <td>NaN</td>\n",
              "      <td>2.0</td>\n",
              "      <td>2.0</td>\n",
              "      <td>2.0</td>\n",
              "      <td>NaN</td>\n",
              "      <td>FALSE</td>\n",
              "      <td>NaN</td>\n",
              "      <td>2.0</td>\n",
              "      <td>2.0</td>\n",
              "      <td>1.0</td>\n",
              "      <td>NaN</td>\n",
              "    </tr>\n",
              "    <tr>\n",
              "      <th>1</th>\n",
              "      <td>1</td>\n",
              "      <td>NaN</td>\n",
              "      <td>Female</td>\n",
              "      <td>1.0</td>\n",
              "      <td>NaN</td>\n",
              "      <td>19/03/2020</td>\n",
              "      <td>NaN</td>\n",
              "      <td>9999-99-99</td>\n",
              "      <td>97.0</td>\n",
              "      <td>2.0</td>\n",
              "      <td>24.0</td>\n",
              "      <td>97.0</td>\n",
              "      <td>2.0</td>\n",
              "      <td>NaN</td>\n",
              "      <td>NaN</td>\n",
              "      <td>2.0</td>\n",
              "      <td>2.0</td>\n",
              "      <td>2.0</td>\n",
              "      <td>2.0</td>\n",
              "      <td>FALSE</td>\n",
              "      <td>2.0</td>\n",
              "      <td>2.0</td>\n",
              "      <td>99.0</td>\n",
              "      <td>1.0</td>\n",
              "      <td>NaN</td>\n",
              "    </tr>\n",
              "    <tr>\n",
              "      <th>2</th>\n",
              "      <td>2</td>\n",
              "      <td>167386</td>\n",
              "      <td>NaN</td>\n",
              "      <td>2.0</td>\n",
              "      <td>HN</td>\n",
              "      <td>06/04/2020</td>\n",
              "      <td>01/04/2020</td>\n",
              "      <td>9999-99-99</td>\n",
              "      <td>2.0</td>\n",
              "      <td>2.0</td>\n",
              "      <td>54.0</td>\n",
              "      <td>2.0</td>\n",
              "      <td>2.0</td>\n",
              "      <td>NaN</td>\n",
              "      <td>2.0</td>\n",
              "      <td>2.0</td>\n",
              "      <td>2.0</td>\n",
              "      <td>2.0</td>\n",
              "      <td>2.0</td>\n",
              "      <td>NaN</td>\n",
              "      <td>2.0</td>\n",
              "      <td>2.0</td>\n",
              "      <td>99.0</td>\n",
              "      <td>1.0</td>\n",
              "      <td>NaN</td>\n",
              "    </tr>\n",
              "    <tr>\n",
              "      <th>3</th>\n",
              "      <td>3</td>\n",
              "      <td>0b5948</td>\n",
              "      <td>Female</td>\n",
              "      <td>2.0</td>\n",
              "      <td>MX</td>\n",
              "      <td>NaN</td>\n",
              "      <td>10/04/2020</td>\n",
              "      <td>9999-99-99</td>\n",
              "      <td>2.0</td>\n",
              "      <td>1.0</td>\n",
              "      <td>30.0</td>\n",
              "      <td>NaN</td>\n",
              "      <td>2.0</td>\n",
              "      <td>2.0</td>\n",
              "      <td>2.0</td>\n",
              "      <td>2.0</td>\n",
              "      <td>2.0</td>\n",
              "      <td>NaN</td>\n",
              "      <td>2.0</td>\n",
              "      <td>FALSE</td>\n",
              "      <td>2.0</td>\n",
              "      <td>NaN</td>\n",
              "      <td>99.0</td>\n",
              "      <td>1.0</td>\n",
              "      <td>2.0</td>\n",
              "    </tr>\n",
              "    <tr>\n",
              "      <th>4</th>\n",
              "      <td>4</td>\n",
              "      <td>0d01b5</td>\n",
              "      <td>Male</td>\n",
              "      <td>2.0</td>\n",
              "      <td>PA</td>\n",
              "      <td>13/04/2020</td>\n",
              "      <td>NaN</td>\n",
              "      <td>NaN</td>\n",
              "      <td>2.0</td>\n",
              "      <td>NaN</td>\n",
              "      <td>60.0</td>\n",
              "      <td>NaN</td>\n",
              "      <td>1.0</td>\n",
              "      <td>2.0</td>\n",
              "      <td>NaN</td>\n",
              "      <td>2.0</td>\n",
              "      <td>1.0</td>\n",
              "      <td>2.0</td>\n",
              "      <td>1.0</td>\n",
              "      <td>FALSE</td>\n",
              "      <td>2.0</td>\n",
              "      <td>NaN</td>\n",
              "      <td>99.0</td>\n",
              "      <td>1.0</td>\n",
              "      <td>NaN</td>\n",
              "    </tr>\n",
              "    <tr>\n",
              "      <th>...</th>\n",
              "      <td>...</td>\n",
              "      <td>...</td>\n",
              "      <td>...</td>\n",
              "      <td>...</td>\n",
              "      <td>...</td>\n",
              "      <td>...</td>\n",
              "      <td>...</td>\n",
              "      <td>...</td>\n",
              "      <td>...</td>\n",
              "      <td>...</td>\n",
              "      <td>...</td>\n",
              "      <td>...</td>\n",
              "      <td>...</td>\n",
              "      <td>...</td>\n",
              "      <td>...</td>\n",
              "      <td>...</td>\n",
              "      <td>...</td>\n",
              "      <td>...</td>\n",
              "      <td>...</td>\n",
              "      <td>...</td>\n",
              "      <td>...</td>\n",
              "      <td>...</td>\n",
              "      <td>...</td>\n",
              "      <td>...</td>\n",
              "      <td>...</td>\n",
              "    </tr>\n",
              "    <tr>\n",
              "      <th>566597</th>\n",
              "      <td>566597</td>\n",
              "      <td>01ff60</td>\n",
              "      <td>Female</td>\n",
              "      <td>1.0</td>\n",
              "      <td>CO</td>\n",
              "      <td>13/05/2020</td>\n",
              "      <td>NaN</td>\n",
              "      <td>9999-99-99</td>\n",
              "      <td>97.0</td>\n",
              "      <td>2.0</td>\n",
              "      <td>58.0</td>\n",
              "      <td>97.0</td>\n",
              "      <td>1.0</td>\n",
              "      <td>2.0</td>\n",
              "      <td>2.0</td>\n",
              "      <td>2.0</td>\n",
              "      <td>NaN</td>\n",
              "      <td>2.0</td>\n",
              "      <td>2.0</td>\n",
              "      <td>FALSE</td>\n",
              "      <td>2.0</td>\n",
              "      <td>2.0</td>\n",
              "      <td>NaN</td>\n",
              "      <td>NaN</td>\n",
              "      <td>97.0</td>\n",
              "    </tr>\n",
              "    <tr>\n",
              "      <th>566598</th>\n",
              "      <td>566598</td>\n",
              "      <td>047cd1</td>\n",
              "      <td>Male</td>\n",
              "      <td>1.0</td>\n",
              "      <td>PR</td>\n",
              "      <td>07/04/2020</td>\n",
              "      <td>06/04/2020</td>\n",
              "      <td>9999-99-99</td>\n",
              "      <td>NaN</td>\n",
              "      <td>2.0</td>\n",
              "      <td>48.0</td>\n",
              "      <td>2.0</td>\n",
              "      <td>2.0</td>\n",
              "      <td>2.0</td>\n",
              "      <td>2.0</td>\n",
              "      <td>2.0</td>\n",
              "      <td>NaN</td>\n",
              "      <td>2.0</td>\n",
              "      <td>NaN</td>\n",
              "      <td>NaN</td>\n",
              "      <td>2.0</td>\n",
              "      <td>2.0</td>\n",
              "      <td>2.0</td>\n",
              "      <td>3.0</td>\n",
              "      <td>97.0</td>\n",
              "    </tr>\n",
              "    <tr>\n",
              "      <th>566599</th>\n",
              "      <td>566599</td>\n",
              "      <td>1beb81</td>\n",
              "      <td>Male</td>\n",
              "      <td>NaN</td>\n",
              "      <td>PE</td>\n",
              "      <td>14/05/2020</td>\n",
              "      <td>NaN</td>\n",
              "      <td>9999-99-99</td>\n",
              "      <td>2.0</td>\n",
              "      <td>1.0</td>\n",
              "      <td>NaN</td>\n",
              "      <td>NaN</td>\n",
              "      <td>2.0</td>\n",
              "      <td>2.0</td>\n",
              "      <td>2.0</td>\n",
              "      <td>2.0</td>\n",
              "      <td>2.0</td>\n",
              "      <td>NaN</td>\n",
              "      <td>2.0</td>\n",
              "      <td>TRUE</td>\n",
              "      <td>2.0</td>\n",
              "      <td>2.0</td>\n",
              "      <td>99.0</td>\n",
              "      <td>3.0</td>\n",
              "      <td>NaN</td>\n",
              "    </tr>\n",
              "    <tr>\n",
              "      <th>566600</th>\n",
              "      <td>566600</td>\n",
              "      <td>NaN</td>\n",
              "      <td>Male</td>\n",
              "      <td>NaN</td>\n",
              "      <td>NaN</td>\n",
              "      <td>31/05/2020</td>\n",
              "      <td>29/05/2020</td>\n",
              "      <td>9999-99-99</td>\n",
              "      <td>NaN</td>\n",
              "      <td>1.0</td>\n",
              "      <td>43.0</td>\n",
              "      <td>NaN</td>\n",
              "      <td>2.0</td>\n",
              "      <td>2.0</td>\n",
              "      <td>2.0</td>\n",
              "      <td>2.0</td>\n",
              "      <td>2.0</td>\n",
              "      <td>2.0</td>\n",
              "      <td>2.0</td>\n",
              "      <td>FALSE</td>\n",
              "      <td>2.0</td>\n",
              "      <td>2.0</td>\n",
              "      <td>2.0</td>\n",
              "      <td>3.0</td>\n",
              "      <td>97.0</td>\n",
              "    </tr>\n",
              "    <tr>\n",
              "      <th>566601</th>\n",
              "      <td>566601</td>\n",
              "      <td>0021c9</td>\n",
              "      <td>Female</td>\n",
              "      <td>1.0</td>\n",
              "      <td>VE</td>\n",
              "      <td>16/05/2020</td>\n",
              "      <td>16/05/2020</td>\n",
              "      <td>9999-99-99</td>\n",
              "      <td>97.0</td>\n",
              "      <td>1.0</td>\n",
              "      <td>NaN</td>\n",
              "      <td>97.0</td>\n",
              "      <td>1.0</td>\n",
              "      <td>NaN</td>\n",
              "      <td>2.0</td>\n",
              "      <td>2.0</td>\n",
              "      <td>1.0</td>\n",
              "      <td>2.0</td>\n",
              "      <td>2.0</td>\n",
              "      <td>TRUE</td>\n",
              "      <td>NaN</td>\n",
              "      <td>NaN</td>\n",
              "      <td>2.0</td>\n",
              "      <td>3.0</td>\n",
              "      <td>97.0</td>\n",
              "    </tr>\n",
              "  </tbody>\n",
              "</table>\n",
              "<p>566602 rows × 25 columns</p>\n",
              "</div>\n",
              "      <button class=\"colab-df-convert\" onclick=\"convertToInteractive('df-cc87ad5b-c1b7-4ee6-b87b-a0ed11fae9c5')\"\n",
              "              title=\"Convert this dataframe to an interactive table.\"\n",
              "              style=\"display:none;\">\n",
              "        \n",
              "  <svg xmlns=\"http://www.w3.org/2000/svg\" height=\"24px\"viewBox=\"0 0 24 24\"\n",
              "       width=\"24px\">\n",
              "    <path d=\"M0 0h24v24H0V0z\" fill=\"none\"/>\n",
              "    <path d=\"M18.56 5.44l.94 2.06.94-2.06 2.06-.94-2.06-.94-.94-2.06-.94 2.06-2.06.94zm-11 1L8.5 8.5l.94-2.06 2.06-.94-2.06-.94L8.5 2.5l-.94 2.06-2.06.94zm10 10l.94 2.06.94-2.06 2.06-.94-2.06-.94-.94-2.06-.94 2.06-2.06.94z\"/><path d=\"M17.41 7.96l-1.37-1.37c-.4-.4-.92-.59-1.43-.59-.52 0-1.04.2-1.43.59L10.3 9.45l-7.72 7.72c-.78.78-.78 2.05 0 2.83L4 21.41c.39.39.9.59 1.41.59.51 0 1.02-.2 1.41-.59l7.78-7.78 2.81-2.81c.8-.78.8-2.07 0-2.86zM5.41 20L4 18.59l7.72-7.72 1.47 1.35L5.41 20z\"/>\n",
              "  </svg>\n",
              "      </button>\n",
              "      \n",
              "  <style>\n",
              "    .colab-df-container {\n",
              "      display:flex;\n",
              "      flex-wrap:wrap;\n",
              "      gap: 12px;\n",
              "    }\n",
              "\n",
              "    .colab-df-convert {\n",
              "      background-color: #E8F0FE;\n",
              "      border: none;\n",
              "      border-radius: 50%;\n",
              "      cursor: pointer;\n",
              "      display: none;\n",
              "      fill: #1967D2;\n",
              "      height: 32px;\n",
              "      padding: 0 0 0 0;\n",
              "      width: 32px;\n",
              "    }\n",
              "\n",
              "    .colab-df-convert:hover {\n",
              "      background-color: #E2EBFA;\n",
              "      box-shadow: 0px 1px 2px rgba(60, 64, 67, 0.3), 0px 1px 3px 1px rgba(60, 64, 67, 0.15);\n",
              "      fill: #174EA6;\n",
              "    }\n",
              "\n",
              "    [theme=dark] .colab-df-convert {\n",
              "      background-color: #3B4455;\n",
              "      fill: #D2E3FC;\n",
              "    }\n",
              "\n",
              "    [theme=dark] .colab-df-convert:hover {\n",
              "      background-color: #434B5C;\n",
              "      box-shadow: 0px 1px 3px 1px rgba(0, 0, 0, 0.15);\n",
              "      filter: drop-shadow(0px 1px 2px rgba(0, 0, 0, 0.3));\n",
              "      fill: #FFFFFF;\n",
              "    }\n",
              "  </style>\n",
              "\n",
              "      <script>\n",
              "        const buttonEl =\n",
              "          document.querySelector('#df-cc87ad5b-c1b7-4ee6-b87b-a0ed11fae9c5 button.colab-df-convert');\n",
              "        buttonEl.style.display =\n",
              "          google.colab.kernel.accessAllowed ? 'block' : 'none';\n",
              "\n",
              "        async function convertToInteractive(key) {\n",
              "          const element = document.querySelector('#df-cc87ad5b-c1b7-4ee6-b87b-a0ed11fae9c5');\n",
              "          const dataTable =\n",
              "            await google.colab.kernel.invokeFunction('convertToInteractive',\n",
              "                                                     [key], {});\n",
              "          if (!dataTable) return;\n",
              "\n",
              "          const docLinkHtml = 'Like what you see? Visit the ' +\n",
              "            '<a target=\"_blank\" href=https://colab.research.google.com/notebooks/data_table.ipynb>data table notebook</a>'\n",
              "            + ' to learn more about interactive tables.';\n",
              "          element.innerHTML = '';\n",
              "          dataTable['output_type'] = 'display_data';\n",
              "          await google.colab.output.renderOutput(dataTable, element);\n",
              "          const docLink = document.createElement('div');\n",
              "          docLink.innerHTML = docLinkHtml;\n",
              "          element.appendChild(docLink);\n",
              "        }\n",
              "      </script>\n",
              "    </div>\n",
              "  </div>\n",
              "  "
            ],
            "text/plain": [
              "        Unnamed: 0      id     sex  ...  contact_other_covid covid_res   icu\n",
              "0                0  16169f  Female  ...                  2.0       1.0   NaN\n",
              "1                1     NaN  Female  ...                 99.0       1.0   NaN\n",
              "2                2  167386     NaN  ...                 99.0       1.0   NaN\n",
              "3                3  0b5948  Female  ...                 99.0       1.0   2.0\n",
              "4                4  0d01b5    Male  ...                 99.0       1.0   NaN\n",
              "...            ...     ...     ...  ...                  ...       ...   ...\n",
              "566597      566597  01ff60  Female  ...                  NaN       NaN  97.0\n",
              "566598      566598  047cd1    Male  ...                  2.0       3.0  97.0\n",
              "566599      566599  1beb81    Male  ...                 99.0       3.0   NaN\n",
              "566600      566600     NaN    Male  ...                  2.0       3.0  97.0\n",
              "566601      566601  0021c9  Female  ...                  2.0       3.0  97.0\n",
              "\n",
              "[566602 rows x 25 columns]"
            ]
          },
          "metadata": {},
          "execution_count": 122
        }
      ]
    },
    {
      "cell_type": "markdown",
      "source": [
        ""
      ],
      "metadata": {
        "id": "rCuwwP2HM4Lk"
      }
    },
    {
      "cell_type": "code",
      "metadata": {
        "id": "DIw3d3670CPc",
        "colab": {
          "base_uri": "https://localhost:8080/",
          "height": 835
        },
        "outputId": "bd6be4c7-7125-47ba-fc48-b39491352c1a"
      },
      "source": [
        "# reading the second spreadsheet into pandas pd:\n",
        "covid_WHO_dat = pd.read_csv(os.path.join(excercise_path,'WHO-COVID-19-latam-data-for-exercise.csv'))\n",
        "covid_WHO_dat"
      ],
      "execution_count": null,
      "outputs": [
        {
          "output_type": "execute_result",
          "data": {
            "text/html": [
              "\n",
              "  <div id=\"df-02624657-162d-45d6-af96-658625812e90\">\n",
              "    <div class=\"colab-df-container\">\n",
              "      <div>\n",
              "<style scoped>\n",
              "    .dataframe tbody tr th:only-of-type {\n",
              "        vertical-align: middle;\n",
              "    }\n",
              "\n",
              "    .dataframe tbody tr th {\n",
              "        vertical-align: top;\n",
              "    }\n",
              "\n",
              "    .dataframe thead th {\n",
              "        text-align: right;\n",
              "    }\n",
              "</style>\n",
              "<table border=\"1\" class=\"dataframe\">\n",
              "  <thead>\n",
              "    <tr style=\"text-align: right;\">\n",
              "      <th></th>\n",
              "      <th>Date_reported</th>\n",
              "      <th>Country_code</th>\n",
              "      <th>Country</th>\n",
              "      <th>WHO_region</th>\n",
              "      <th>New_cases</th>\n",
              "      <th>Cumulative_cases</th>\n",
              "      <th>New_deaths</th>\n",
              "      <th>Cumulative_deaths</th>\n",
              "    </tr>\n",
              "  </thead>\n",
              "  <tbody>\n",
              "    <tr>\n",
              "      <th>0</th>\n",
              "      <td>03/01/2020</td>\n",
              "      <td>BO</td>\n",
              "      <td>Bolivia (Plurinational State of)</td>\n",
              "      <td>AMRO</td>\n",
              "      <td>0</td>\n",
              "      <td>0</td>\n",
              "      <td>0</td>\n",
              "      <td>0</td>\n",
              "    </tr>\n",
              "    <tr>\n",
              "      <th>1</th>\n",
              "      <td>04/01/2020</td>\n",
              "      <td>BO</td>\n",
              "      <td>Bolivia (Plurinational State of)</td>\n",
              "      <td>AMRO</td>\n",
              "      <td>0</td>\n",
              "      <td>0</td>\n",
              "      <td>0</td>\n",
              "      <td>0</td>\n",
              "    </tr>\n",
              "    <tr>\n",
              "      <th>2</th>\n",
              "      <td>05/01/2020</td>\n",
              "      <td>BO</td>\n",
              "      <td>Bolivia (Plurinational State of)</td>\n",
              "      <td>AMRO</td>\n",
              "      <td>0</td>\n",
              "      <td>0</td>\n",
              "      <td>0</td>\n",
              "      <td>0</td>\n",
              "    </tr>\n",
              "    <tr>\n",
              "      <th>3</th>\n",
              "      <td>06/01/2020</td>\n",
              "      <td>BO</td>\n",
              "      <td>Bolivia (Plurinational State of)</td>\n",
              "      <td>AMRO</td>\n",
              "      <td>0</td>\n",
              "      <td>0</td>\n",
              "      <td>0</td>\n",
              "      <td>0</td>\n",
              "    </tr>\n",
              "    <tr>\n",
              "      <th>4</th>\n",
              "      <td>07/01/2020</td>\n",
              "      <td>BO</td>\n",
              "      <td>Bolivia (Plurinational State of)</td>\n",
              "      <td>AMRO</td>\n",
              "      <td>0</td>\n",
              "      <td>0</td>\n",
              "      <td>0</td>\n",
              "      <td>0</td>\n",
              "    </tr>\n",
              "    <tr>\n",
              "      <th>...</th>\n",
              "      <td>...</td>\n",
              "      <td>...</td>\n",
              "      <td>...</td>\n",
              "      <td>...</td>\n",
              "      <td>...</td>\n",
              "      <td>...</td>\n",
              "      <td>...</td>\n",
              "      <td>...</td>\n",
              "    </tr>\n",
              "    <tr>\n",
              "      <th>10795</th>\n",
              "      <td>20/08/2021</td>\n",
              "      <td>VE</td>\n",
              "      <td>Venezuela (Bolivarian Republic of)</td>\n",
              "      <td>AMRO</td>\n",
              "      <td>1005</td>\n",
              "      <td>321927</td>\n",
              "      <td>14</td>\n",
              "      <td>3844</td>\n",
              "    </tr>\n",
              "    <tr>\n",
              "      <th>10796</th>\n",
              "      <td>21/08/2021</td>\n",
              "      <td>VE</td>\n",
              "      <td>Venezuela (Bolivarian Republic of)</td>\n",
              "      <td>AMRO</td>\n",
              "      <td>830</td>\n",
              "      <td>322757</td>\n",
              "      <td>15</td>\n",
              "      <td>3859</td>\n",
              "    </tr>\n",
              "    <tr>\n",
              "      <th>10797</th>\n",
              "      <td>22/08/2021</td>\n",
              "      <td>VE</td>\n",
              "      <td>Venezuela (Bolivarian Republic of)</td>\n",
              "      <td>AMRO</td>\n",
              "      <td>769</td>\n",
              "      <td>323526</td>\n",
              "      <td>12</td>\n",
              "      <td>3871</td>\n",
              "    </tr>\n",
              "    <tr>\n",
              "      <th>10798</th>\n",
              "      <td>23/08/2021</td>\n",
              "      <td>VE</td>\n",
              "      <td>Venezuela (Bolivarian Republic of)</td>\n",
              "      <td>AMRO</td>\n",
              "      <td>1116</td>\n",
              "      <td>324642</td>\n",
              "      <td>15</td>\n",
              "      <td>3886</td>\n",
              "    </tr>\n",
              "    <tr>\n",
              "      <th>10799</th>\n",
              "      <td>24/08/2021</td>\n",
              "      <td>VE</td>\n",
              "      <td>Venezuela (Bolivarian Republic of)</td>\n",
              "      <td>AMRO</td>\n",
              "      <td>1074</td>\n",
              "      <td>325716</td>\n",
              "      <td>9</td>\n",
              "      <td>3895</td>\n",
              "    </tr>\n",
              "  </tbody>\n",
              "</table>\n",
              "<p>10800 rows × 8 columns</p>\n",
              "</div>\n",
              "      <button class=\"colab-df-convert\" onclick=\"convertToInteractive('df-02624657-162d-45d6-af96-658625812e90')\"\n",
              "              title=\"Convert this dataframe to an interactive table.\"\n",
              "              style=\"display:none;\">\n",
              "        \n",
              "  <svg xmlns=\"http://www.w3.org/2000/svg\" height=\"24px\"viewBox=\"0 0 24 24\"\n",
              "       width=\"24px\">\n",
              "    <path d=\"M0 0h24v24H0V0z\" fill=\"none\"/>\n",
              "    <path d=\"M18.56 5.44l.94 2.06.94-2.06 2.06-.94-2.06-.94-.94-2.06-.94 2.06-2.06.94zm-11 1L8.5 8.5l.94-2.06 2.06-.94-2.06-.94L8.5 2.5l-.94 2.06-2.06.94zm10 10l.94 2.06.94-2.06 2.06-.94-2.06-.94-.94-2.06-.94 2.06-2.06.94z\"/><path d=\"M17.41 7.96l-1.37-1.37c-.4-.4-.92-.59-1.43-.59-.52 0-1.04.2-1.43.59L10.3 9.45l-7.72 7.72c-.78.78-.78 2.05 0 2.83L4 21.41c.39.39.9.59 1.41.59.51 0 1.02-.2 1.41-.59l7.78-7.78 2.81-2.81c.8-.78.8-2.07 0-2.86zM5.41 20L4 18.59l7.72-7.72 1.47 1.35L5.41 20z\"/>\n",
              "  </svg>\n",
              "      </button>\n",
              "      \n",
              "  <style>\n",
              "    .colab-df-container {\n",
              "      display:flex;\n",
              "      flex-wrap:wrap;\n",
              "      gap: 12px;\n",
              "    }\n",
              "\n",
              "    .colab-df-convert {\n",
              "      background-color: #E8F0FE;\n",
              "      border: none;\n",
              "      border-radius: 50%;\n",
              "      cursor: pointer;\n",
              "      display: none;\n",
              "      fill: #1967D2;\n",
              "      height: 32px;\n",
              "      padding: 0 0 0 0;\n",
              "      width: 32px;\n",
              "    }\n",
              "\n",
              "    .colab-df-convert:hover {\n",
              "      background-color: #E2EBFA;\n",
              "      box-shadow: 0px 1px 2px rgba(60, 64, 67, 0.3), 0px 1px 3px 1px rgba(60, 64, 67, 0.15);\n",
              "      fill: #174EA6;\n",
              "    }\n",
              "\n",
              "    [theme=dark] .colab-df-convert {\n",
              "      background-color: #3B4455;\n",
              "      fill: #D2E3FC;\n",
              "    }\n",
              "\n",
              "    [theme=dark] .colab-df-convert:hover {\n",
              "      background-color: #434B5C;\n",
              "      box-shadow: 0px 1px 3px 1px rgba(0, 0, 0, 0.15);\n",
              "      filter: drop-shadow(0px 1px 2px rgba(0, 0, 0, 0.3));\n",
              "      fill: #FFFFFF;\n",
              "    }\n",
              "  </style>\n",
              "\n",
              "      <script>\n",
              "        const buttonEl =\n",
              "          document.querySelector('#df-02624657-162d-45d6-af96-658625812e90 button.colab-df-convert');\n",
              "        buttonEl.style.display =\n",
              "          google.colab.kernel.accessAllowed ? 'block' : 'none';\n",
              "\n",
              "        async function convertToInteractive(key) {\n",
              "          const element = document.querySelector('#df-02624657-162d-45d6-af96-658625812e90');\n",
              "          const dataTable =\n",
              "            await google.colab.kernel.invokeFunction('convertToInteractive',\n",
              "                                                     [key], {});\n",
              "          if (!dataTable) return;\n",
              "\n",
              "          const docLinkHtml = 'Like what you see? Visit the ' +\n",
              "            '<a target=\"_blank\" href=https://colab.research.google.com/notebooks/data_table.ipynb>data table notebook</a>'\n",
              "            + ' to learn more about interactive tables.';\n",
              "          element.innerHTML = '';\n",
              "          dataTable['output_type'] = 'display_data';\n",
              "          await google.colab.output.renderOutput(dataTable, element);\n",
              "          const docLink = document.createElement('div');\n",
              "          docLink.innerHTML = docLinkHtml;\n",
              "          element.appendChild(docLink);\n",
              "        }\n",
              "      </script>\n",
              "    </div>\n",
              "  </div>\n",
              "  "
            ],
            "text/plain": [
              "      Date_reported Country_code  ... New_deaths Cumulative_deaths\n",
              "0        03/01/2020           BO  ...          0                 0\n",
              "1        04/01/2020           BO  ...          0                 0\n",
              "2        05/01/2020           BO  ...          0                 0\n",
              "3        06/01/2020           BO  ...          0                 0\n",
              "4        07/01/2020           BO  ...          0                 0\n",
              "...             ...          ...  ...        ...               ...\n",
              "10795    20/08/2021           VE  ...         14              3844\n",
              "10796    21/08/2021           VE  ...         15              3859\n",
              "10797    22/08/2021           VE  ...         12              3871\n",
              "10798    23/08/2021           VE  ...         15              3886\n",
              "10799    24/08/2021           VE  ...          9              3895\n",
              "\n",
              "[10800 rows x 8 columns]"
            ]
          },
          "metadata": {},
          "execution_count": 123
        }
      ]
    },
    {
      "cell_type": "code",
      "metadata": {
        "id": "I-ua-xJHDRh3",
        "colab": {
          "base_uri": "https://localhost:8080/"
        },
        "outputId": "ae58638c-2b0b-408d-eda0-f74d2abaee30"
      },
      "source": [
        "covid_dat.columns"
      ],
      "execution_count": null,
      "outputs": [
        {
          "output_type": "execute_result",
          "data": {
            "text/plain": [
              "Index(['Unnamed: 0', 'id', 'sex', 'patient_type', 'country_cd', 'entry_date',\n",
              "       'date_symptoms', 'date_died', 'intubed', 'pneumonia', 'age',\n",
              "       'pregnancy', 'diabetes', 'copd', 'asthma', 'inmsupr', 'hypertension',\n",
              "       'other_disease', 'cardiovascular', 'obesity', 'renal_chronic',\n",
              "       'tobacco', 'contact_other_covid', 'covid_res', 'icu'],\n",
              "      dtype='object')"
            ]
          },
          "metadata": {},
          "execution_count": 124
        }
      ]
    },
    {
      "cell_type": "code",
      "metadata": {
        "id": "fJMZ1gvj0yPE",
        "colab": {
          "base_uri": "https://localhost:8080/"
        },
        "outputId": "e5d3750d-b6d0-4a0e-d732-abb0ce87c847"
      },
      "source": [
        "covid_WHO_dat.columns"
      ],
      "execution_count": null,
      "outputs": [
        {
          "output_type": "execute_result",
          "data": {
            "text/plain": [
              "Index(['Date_reported', 'Country_code', 'Country', 'WHO_region', 'New_cases',\n",
              "       'Cumulative_cases', 'New_deaths', 'Cumulative_deaths'],\n",
              "      dtype='object')"
            ]
          },
          "metadata": {},
          "execution_count": 125
        }
      ]
    },
    {
      "cell_type": "code",
      "metadata": {
        "id": "ikMLgeQpHKYU"
      },
      "source": [
        "os.chdir('/content/sample_data')"
      ],
      "execution_count": null,
      "outputs": []
    },
    {
      "cell_type": "code",
      "metadata": {
        "id": "836q2vJZcxmb",
        "colab": {
          "base_uri": "https://localhost:8080/"
        },
        "outputId": "44a64a29-c3c5-4fad-8a30-d68924992b81"
      },
      "source": [
        "%%time\n",
        "\n",
        "# A simple SQL query example that runs on Pandas DataFrame variable \"covid_dat\":\n",
        "\n",
        "query_str = \"\"\"\n",
        "\n",
        "  SELECT \n",
        "        df.pneumonia,\n",
        "        count(df.id)\n",
        "\n",
        "  FROM covid_dat df\n",
        "\n",
        "  WHERE df.sex = 'Female'\n",
        "\n",
        "  GROUP BY 1\n",
        "\n",
        "  \"\"\"\n",
        "\n",
        "sql_run_result_df = ps.sqldf(query_str, locals())   # use locals() as-is for any query_str you run\n",
        "\n",
        "print(sql_run_result_df)\n",
        "\n"
      ],
      "execution_count": null,
      "outputs": [
        {
          "output_type": "stream",
          "name": "stdout",
          "text": [
            "   pneumonia  count(df.id)\n",
            "0        NaN         37101\n",
            "1        1.0         27215\n",
            "2        2.0        119460\n",
            "3       99.0             1\n",
            "CPU times: user 43.9 s, sys: 5.11 s, total: 49 s\n",
            "Wall time: 56.2 s\n"
          ]
        }
      ]
    },
    {
      "cell_type": "markdown",
      "metadata": {
        "id": "vp-i2FD88F07"
      },
      "source": [
        "#Exercise Body"
      ]
    },
    {
      "cell_type": "markdown",
      "metadata": {
        "id": "b4SWq6t7tilo"
      },
      "source": [
        "This exercise is based on two datasets, each resides within it's own .csv file:\n",
        "\n",
        "\n",
        "1.   **Covid-19 patient pre-condition dataset -**\n",
        "\n",
        "\n",
        "  >  Data column description: https://www.kaggle.com/tanmoyx/covid19-patient-precondition-dataset?select=covid.csv\n",
        "\n",
        "\n",
        "  > **Note:** While this original dataset is based on Mexican patients only, we have adapted it to represent various latin american countries for the sake of this exercise.\n",
        "  \n",
        "\n",
        "\n",
        "2.  **WHO Covid-19 country dataset - Latin America**\n",
        "\n",
        "\n",
        "\n",
        "> Daily Covid-19 cases and deaths by country\n",
        "\n",
        "\n",
        "You can choose between solving this exercise within this notebook, or by downloading both datasets (hit the \"Files\" icon on the toolbar to the left to find both .csv's and download them) to your computer and using any other application you'd like (Excel, Tableau, etc.) "
      ]
    },
    {
      "cell_type": "code",
      "source": [
        "from google.colab import drive\n",
        "drive.mount('/content/drive')"
      ],
      "metadata": {
        "id": "TlDh3XQn3iPq",
        "colab": {
          "base_uri": "https://localhost:8080/"
        },
        "outputId": "2b846f1b-d765-47f3-db24-ccd068ebdcf0"
      },
      "execution_count": null,
      "outputs": [
        {
          "output_type": "stream",
          "name": "stdout",
          "text": [
            "Drive already mounted at /content/drive; to attempt to forcibly remount, call drive.mount(\"/content/drive\", force_remount=True).\n"
          ]
        }
      ]
    },
    {
      "cell_type": "markdown",
      "metadata": {
        "id": "FjT7a40YtvNX"
      },
      "source": [
        "**SQL (or other coding language you are familiar with) (90-120min):**\n",
        "##### 1. List all COVID-19 'patient_type' and diabetes unique values combinations and count the number of members for each such combination. Describe the relationship you see between the two variables.\n",
        "##### 2. Present the distribution of patient death occurence (count) by age and briefly explain the results obtained\n",
        "##### 3. For each patient in the patient level dataset 'covid_dat_exercise_latam', add columns which indicate their country's total cases & total deaths in 2021.\n",
        "##### 4. Calculate the precentage of intubed patients for patients originating from the top 10 countries by death rate. \n",
        "##### 5. BONUS (only if time permits): What additional information would you need in order to calculate the precentage of new COVID-19 cases out of overall **active cases** in Mexico, per each month in 2021?\n",
        "\n",
        "\n",
        "#### Good Luck!!"
      ]
    },
    {
      "cell_type": "code",
      "metadata": {
        "id": "e_jSBUMIrQjl",
        "colab": {
          "base_uri": "https://localhost:8080/"
        },
        "outputId": "6256ef13-c9e4-4067-d026-e7bb1f2b2451"
      },
      "source": [
        " #1)\n",
        "%%time\n",
        "\n",
        "query_str = \"\"\"\n",
        "\n",
        "  SELECT \n",
        "        df.patient_type, df.diabetes,\n",
        "        count(df.id) AS Count_Patients\n",
        "\n",
        "  FROM covid_dat df\n",
        "  GROUP BY df.patient_type,df.diabetes\n",
        "  ORDER BY df.patient_type,count(df.id) DESC\n",
        "\n",
        "\n",
        "  \"\"\"\n",
        "\n",
        "sql_run_result_df = ps.sqldf(query_str, locals())   # use locals() as-is for any query_str you run\n",
        "\n",
        "print(sql_run_result_df)\n",
        "\n"
      ],
      "execution_count": null,
      "outputs": [
        {
          "output_type": "stream",
          "name": "stdout",
          "text": [
            "    patient_type  diabetes  Count_Patients\n",
            "0            NaN       2.0           63390\n",
            "1            NaN       NaN           18101\n",
            "2            NaN       1.0            8788\n",
            "3            NaN      98.0             248\n",
            "4            1.0       2.0          208925\n",
            "5            1.0       NaN           56825\n",
            "6            1.0       1.0           18190\n",
            "7            1.0      98.0             682\n",
            "8            2.0       2.0           43790\n",
            "9            2.0       1.0           18351\n",
            "10           2.0       NaN           15555\n",
            "11           2.0      98.0             346\n",
            "CPU times: user 36.8 s, sys: 3.77 s, total: 40.6 s\n",
            "Wall time: 40.6 s\n"
          ]
        }
      ]
    },
    {
      "cell_type": "markdown",
      "source": [
        "## 1) patient_type and diabetes unique values combinations count.\n",
        "# Describe the relationship- \n",
        "# the highest number of cases happens with patient type 1 (I believe that means \n",
        "# that the patient had returned home-outpatient) and diabetes 2(208925) \n",
        "# lowest number of cases occur with diabetes type 98, regardless of patient type \n",
        "# the highest number of cases occur with diabetes 2, regardless of patient_type\n",
        "# diabetes 1 is in between this range, regardless of patient type. \n",
        "# there are more than 3.5 times cases with patient type 1 than type 2,\n",
        "# regardless of diabetes"
      ],
      "metadata": {
        "id": "i9na0whEGcYo"
      }
    },
    {
      "cell_type": "code",
      "source": [
        "#2)\n",
        "#I assumed that cases where the date_died were missing (NaN), or filled as \n",
        "# 9999-99-99 meant that the patient is alive. In case my assumption was wrong,\n",
        "# please uncomment the line of code below, and comment the line that creates an \n",
        "# histogram without na. \n",
        "covid_without_na=covid_dat.query('date_died !=\"NaN\" and date_died !=\"9999-99-99\"')\n",
        "#covid_dat[\"age\"].hist(bins=25)\n",
        "covid_without_na[\"age\"].hist(bins=20)\n",
        "plt.xlabel('Age')\n",
        "plt.ylabel('Count of Death Cases')\n",
        "plt.xticks([10,20,30,40,50,60,70,80,90,100])\n",
        "plt.title('Distribution of Patients Death by Age')\n",
        "\n",
        "plt.show()"
      ],
      "metadata": {
        "colab": {
          "base_uri": "https://localhost:8080/",
          "height": 295
        },
        "id": "st9i-96no3YE",
        "outputId": "9de2cca8-df64-40f3-c56a-86ee9594330b"
      },
      "execution_count": null,
      "outputs": [
        {
          "output_type": "display_data",
          "data": {
            "image/png": "[encoded data removed]",
            "text/plain": [
              "<Figure size 432x288 with 1 Axes>"
            ]
          },
          "metadata": {
            "needs_background": "light"
          }
        }
      ]
    },
    {
      "cell_type": "markdown",
      "source": [
        "#2) \n",
        "# The results indicates that most of the death cases occured for patients aged 30-55.  \n",
        "# There is a big rise in death cases at around 25, and the trend shifts \n",
        "# at around 55, with less death occurence. \n"
      ],
      "metadata": {
        "id": "4vOCsNE6Gr0-"
      }
    },
    {
      "cell_type": "code",
      "source": [
        "#3)\n",
        "covid_patients=covid_dat[[\"id\",\"country_cd\"]].drop_duplicates()\n",
        "covid_countries=covid_WHO_dat.groupby(\"Country_code\")[\"Cumulative_deaths\",\"Cumulative_cases\"].nunique()\n",
        "\n",
        "covid_merged= covid_patients.merge(covid_countries, left_on='country_cd', right_on='Country_code', how='left').sort_values('country_cd')\n",
        "print(covid_merged)\n",
        "\n",
        "\n",
        "\n"
      ],
      "metadata": {
        "colab": {
          "base_uri": "https://localhost:8080/"
        },
        "id": "1NwfuBPvTmF8",
        "outputId": "04d51c4d-c19e-4f0d-de0f-2efa7ce582dd"
      },
      "execution_count": null,
      "outputs": [
        {
          "output_type": "stream",
          "name": "stderr",
          "text": [
            "/usr/local/lib/python3.7/dist-packages/ipykernel_launcher.py:3: FutureWarning: Indexing with multiple keys (implicitly converted to a tuple of keys) will be deprecated, use a list instead.\n",
            "  This is separate from the ipykernel package so we can avoid doing imports until\n"
          ]
        },
        {
          "output_type": "stream",
          "name": "stdout",
          "text": [
            "              id country_cd  Cumulative_deaths  Cumulative_cases\n",
            "381301    0ee4e7         BO              506.0             523.0\n",
            "192291  7.39E+04         BO              506.0             523.0\n",
            "416756    10fa26         BO              506.0             523.0\n",
            "192313    1775dc         BO              506.0             523.0\n",
            "192314    1598fd         BO              506.0             523.0\n",
            "...          ...        ...                ...               ...\n",
            "194287    13a2ee         VE              440.0             503.0\n",
            "416424    1e14d2         VE              440.0             503.0\n",
            "193937    1a9481         VE              440.0             503.0\n",
            "452820    0021c9         VE              440.0             503.0\n",
            "1            NaN        NaN                NaN               NaN\n",
            "\n",
            "[452821 rows x 4 columns]\n"
          ]
        }
      ]
    },
    {
      "cell_type": "code",
      "source": [
        "#4) Again my assumption that date_died NaN or 9999-99-99 meant that the patient is alive\n",
        "\n",
        "query_str = \"\"\"\n",
        "\n",
        "  SELECT \n",
        "        df.country_cd, count(df.date_died) AS Count_Dead, \n",
        "        df.intubed/count(df.id)*100 AS Percent_Dead_Intubed\n",
        "        \n",
        "  FROM covid_dat df\n",
        "  \n",
        "  WHERE df.date_died != 'NaN' AND df.date_died != '9999-99-99' AND\n",
        "        country_cd != \"None\"\n",
        "\n",
        "  GROUP BY df.country_cd\n",
        "  ORDER BY count(date_died) DESC\n",
        "  LIMIT 10\n",
        "\n",
        "  \"\"\"\n",
        "\n",
        "sql_run_result_df = ps.sqldf(query_str, locals())   # use locals() as-is for any query_str you run\n",
        "\n",
        "print(sql_run_result_df)"
      ],
      "metadata": {
        "colab": {
          "base_uri": "https://localhost:8080/"
        },
        "id": "LbB7oEPeahSm",
        "outputId": "7231b105-686d-48b4-96c7-01a5ffbb5f9a"
      },
      "execution_count": null,
      "outputs": [
        {
          "output_type": "stream",
          "name": "stdout",
          "text": [
            "  country_cd  Count_Dead  Percent_Dead_Intubed\n",
            "0         CR        1374              0.145560\n",
            "1         PR        1341              0.074571\n",
            "2         EC        1331                   NaN\n",
            "3         TT        1328              0.150602\n",
            "4         HN        1308              0.152905\n",
            "5         CL        1303              0.076746\n",
            "6         BO        1301              0.076864\n",
            "7         JM        1291                   NaN\n",
            "8         GT        1290              0.155039\n",
            "9         PE        1289              0.155159\n"
          ]
        }
      ]
    },
    {
      "cell_type": "markdown",
      "source": [
        "5) I would need Cumulative_recovered information, or exit_date, or synptoms_end\n",
        "Currently I only have info about deaths, new cases and cumulative cases, but I can't assume that the ones that aren't dead are still active cases. \n",
        "\n",
        "\n",
        "\n"
      ],
      "metadata": {
        "id": "fnYACQu4Sq3k"
      }
    },
    {
      "cell_type": "code",
      "source": [
        "#5) the code should look something like that:\n",
        "#query_str = \"\"\"\n",
        "\n",
        "#SELECT New_cases/(Cumulative_cases-Cumulative_deaths-cumulative_recovered) AS active_cases\n",
        "#, EXTRACT(month FROM date_reported) AS month,country\n",
        "#FROM covid_WHO_dat\n",
        "#WHERE Country==\"Mexico\"\n",
        "#GROUP BY month \n",
        "#  \"\"\"\n",
        "\n",
        "#sql_run_result_df = ps.sqldf(query_str, locals())   # use locals() as-is for any query_str you run\n",
        "\n",
        "#print(sql_run_result_df)\n"
      ],
      "metadata": {
        "id": "zndHTVD4qr2Y"
      },
      "execution_count": null,
      "outputs": []
    }
  ]
}