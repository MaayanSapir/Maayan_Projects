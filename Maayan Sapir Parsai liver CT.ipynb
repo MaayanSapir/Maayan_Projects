{
 "cells": [
  {
   "cell_type": "markdown",
   "id": "e9bd37c7",
   "metadata": {
    "id": "e9bd37c7"
   },
   "source": [
    "## Liver CT scans analysis- Maayan Sapir Parsai"
   ]
  },
  {
   "cell_type": "markdown",
   "id": "e957dae9",
   "metadata": {
    "id": "e957dae9"
   },
   "source": [
    "Raiologists marked liver's ROIs on a CT scan (The csv  'taggers_data_for_test.csv'):"
   ]
  },
  {
   "cell_type": "markdown",
   "id": "1b4c5715",
   "metadata": {
    "id": "1b4c5715"
   },
   "source": [
    "![](https://drive.google.com/uc?export=view&id=1Cggf1smqoIMFAAKHJKb7CVwi9m3mI0YE)\n",
    "\n"
   ]
  },
  {
   "cell_type": "markdown",
   "id": "0218a20d",
   "metadata": {
    "id": "0218a20d"
   },
   "source": [
    "The csv includes the following columns:\n",
    "1. **series_id:** a unique id for a CT scan, each series contains many slices\n",
    "2. **slice_id:** the id of a single image in a specific series\n",
    "3. **tagger:** the radiologist that tagged the slice or the series\n",
    "4. **label_name:** the label that the tagger marked on the specific slice/series\n",
    "5. **value:** additional data for some of the labels"
   ]
  },
  {
   "cell_type": "code",
   "execution_count": 45,
   "id": "PFBLnFgKS4C0",
   "metadata": {
    "id": "PFBLnFgKS4C0"
   },
   "outputs": [],
   "source": [
    "import pandas as pd\n",
    "import matplotlib.pyplot as plt\n",
    "import numpy as np"
   ]
  },
  {
   "cell_type": "code",
   "execution_count": 46,
   "id": "btVuITxW-tYA",
   "metadata": {
    "colab": {
     "base_uri": "https://localhost:8080/",
     "height": 409
    },
    "id": "btVuITxW-tYA",
    "outputId": "91d920d4-b596-44eb-aefa-9861f03b2378"
   },
   "outputs": [
    {
     "data": {
      "text/html": [
       "<div>\n",
       "<style scoped>\n",
       "    .dataframe tbody tr th:only-of-type {\n",
       "        vertical-align: middle;\n",
       "    }\n",
       "\n",
       "    .dataframe tbody tr th {\n",
       "        vertical-align: top;\n",
       "    }\n",
       "\n",
       "    .dataframe thead th {\n",
       "        text-align: right;\n",
       "    }\n",
       "</style>\n",
       "<table border=\"1\" class=\"dataframe\">\n",
       "  <thead>\n",
       "    <tr style=\"text-align: right;\">\n",
       "      <th></th>\n",
       "      <th>series_id</th>\n",
       "      <th>slice_id</th>\n",
       "      <th>label_name</th>\n",
       "      <th>tagger</th>\n",
       "      <th>value</th>\n",
       "    </tr>\n",
       "  </thead>\n",
       "  <tbody>\n",
       "    <tr>\n",
       "      <th>0</th>\n",
       "      <td>214.979698817.18529.22496.43741.128330521668900</td>\n",
       "      <td>214.3447682240.35670.20720.36153.67854256781311</td>\n",
       "      <td>Liver_partially_present</td>\n",
       "      <td>tagger_a</td>\n",
       "      <td>NaN</td>\n",
       "    </tr>\n",
       "    <tr>\n",
       "      <th>1</th>\n",
       "      <td>214.979698817.18529.22496.43741.128330521668900</td>\n",
       "      <td>214.3342698736.25043.20913.43865.219498800052639</td>\n",
       "      <td>Liver_ROI</td>\n",
       "      <td>tagger_a</td>\n",
       "      <td>{'type': 'FeatureCollection', 'features': [{'t...</td>\n",
       "    </tr>\n",
       "    <tr>\n",
       "      <th>2</th>\n",
       "      <td>214.979698817.18529.22496.43741.128330521668900</td>\n",
       "      <td>214.3342698736.25043.20913.43865.219498800052639</td>\n",
       "      <td>Liver_ROI</td>\n",
       "      <td>tagger_a</td>\n",
       "      <td>{'type': 'FeatureCollection', 'features': [{'t...</td>\n",
       "    </tr>\n",
       "    <tr>\n",
       "      <th>3</th>\n",
       "      <td>214.979698817.18529.22496.43741.128330521668900</td>\n",
       "      <td>214.3342698736.25043.20913.43865.219498800052639</td>\n",
       "      <td>Liver_ROI</td>\n",
       "      <td>tagger_a</td>\n",
       "      <td>{'type': 'FeatureCollection', 'features': [{'t...</td>\n",
       "    </tr>\n",
       "    <tr>\n",
       "      <th>4</th>\n",
       "      <td>214.979698817.18529.22496.43741.128330521668900</td>\n",
       "      <td>214.4038086146.5536.20999.34509.95120164927740</td>\n",
       "      <td>Liver_ROI</td>\n",
       "      <td>tagger_a</td>\n",
       "      <td>{'type': 'FeatureCollection', 'features': [{'t...</td>\n",
       "    </tr>\n",
       "  </tbody>\n",
       "</table>\n",
       "</div>"
      ],
      "text/plain": [
       "                                         series_id  \\\n",
       "0  214.979698817.18529.22496.43741.128330521668900   \n",
       "1  214.979698817.18529.22496.43741.128330521668900   \n",
       "2  214.979698817.18529.22496.43741.128330521668900   \n",
       "3  214.979698817.18529.22496.43741.128330521668900   \n",
       "4  214.979698817.18529.22496.43741.128330521668900   \n",
       "\n",
       "                                           slice_id               label_name  \\\n",
       "0   214.3447682240.35670.20720.36153.67854256781311  Liver_partially_present   \n",
       "1  214.3342698736.25043.20913.43865.219498800052639                Liver_ROI   \n",
       "2  214.3342698736.25043.20913.43865.219498800052639                Liver_ROI   \n",
       "3  214.3342698736.25043.20913.43865.219498800052639                Liver_ROI   \n",
       "4    214.4038086146.5536.20999.34509.95120164927740                Liver_ROI   \n",
       "\n",
       "     tagger                                              value  \n",
       "0  tagger_a                                                NaN  \n",
       "1  tagger_a  {'type': 'FeatureCollection', 'features': [{'t...  \n",
       "2  tagger_a  {'type': 'FeatureCollection', 'features': [{'t...  \n",
       "3  tagger_a  {'type': 'FeatureCollection', 'features': [{'t...  \n",
       "4  tagger_a  {'type': 'FeatureCollection', 'features': [{'t...  "
      ]
     },
     "execution_count": 46,
     "metadata": {},
     "output_type": "execute_result"
    }
   ],
   "source": [
    "# make sure the data was uploaded correctly\n",
    "df=pd.read_csv('taggers_data_for_test.csv')\n",
    "df.head()"
   ]
  },
  {
   "cell_type": "code",
   "execution_count": 47,
   "id": "zxa1fvJu-8RR",
   "metadata": {
    "colab": {
     "base_uri": "https://localhost:8080/"
    },
    "id": "zxa1fvJu-8RR",
    "outputId": "9a9bbee4-b4f7-4e73-cabe-247c356af4c3"
   },
   "outputs": [
    {
     "data": {
      "text/plain": [
       "Index(['series_id', 'slice_id', 'label_name', 'tagger', 'value'], dtype='object')"
      ]
     },
     "execution_count": 47,
     "metadata": {},
     "output_type": "execute_result"
    }
   ],
   "source": [
    "# column names\n",
    "df.columns"
   ]
  },
  {
   "cell_type": "code",
   "execution_count": 48,
   "id": "K_KK7frb--ZP",
   "metadata": {
    "colab": {
     "base_uri": "https://localhost:8080/"
    },
    "id": "K_KK7frb--ZP",
    "outputId": "866175af-2701-4649-f3de-0b3f5fcecfa1"
   },
   "outputs": [
    {
     "data": {
      "text/plain": [
       "(9039, 5)"
      ]
     },
     "execution_count": 48,
     "metadata": {},
     "output_type": "execute_result"
    }
   ],
   "source": [
    "# shape of the data\n",
    "df.shape"
   ]
  },
  {
   "cell_type": "code",
   "execution_count": 49,
   "id": "0hUjNAzu-_eX",
   "metadata": {
    "colab": {
     "base_uri": "https://localhost:8080/"
    },
    "id": "0hUjNAzu-_eX",
    "outputId": "a7501492-a582-420b-fa30-b3e713f89764"
   },
   "outputs": [
    {
     "name": "stdout",
     "output_type": "stream",
     "text": [
      "<class 'pandas.core.frame.DataFrame'>\n",
      "RangeIndex: 9039 entries, 0 to 9038\n",
      "Data columns (total 5 columns):\n",
      " #   Column      Non-Null Count  Dtype \n",
      "---  ------      --------------  ----- \n",
      " 0   series_id   9039 non-null   object\n",
      " 1   slice_id    9039 non-null   object\n",
      " 2   label_name  9039 non-null   object\n",
      " 3   tagger      9039 non-null   object\n",
      " 4   value       8909 non-null   object\n",
      "dtypes: object(5)\n",
      "memory usage: 353.2+ KB\n"
     ]
    }
   ],
   "source": [
    "df.info()"
   ]
  },
  {
   "cell_type": "code",
   "execution_count": 50,
   "id": "O2K24yYy_Ah1",
   "metadata": {
    "colab": {
     "base_uri": "https://localhost:8080/"
    },
    "id": "O2K24yYy_Ah1",
    "outputId": "c4b12582-d7e5-4721-86fb-64bdb8692943"
   },
   "outputs": [
    {
     "data": {
      "text/plain": [
       "series_id       0\n",
       "slice_id        0\n",
       "label_name      0\n",
       "tagger          0\n",
       "value         130\n",
       "dtype: int64"
      ]
     },
     "execution_count": 50,
     "metadata": {},
     "output_type": "execute_result"
    }
   ],
   "source": [
    "# count missing values\n",
    "df.isnull().sum()"
   ]
  },
  {
   "cell_type": "code",
   "execution_count": 51,
   "id": "8L23FH3o_agm",
   "metadata": {
    "colab": {
     "base_uri": "https://localhost:8080/"
    },
    "id": "8L23FH3o_agm",
    "outputId": "ad25973a-5f56-48d4-a856-248ba760f6ce"
   },
   "outputs": [
    {
     "data": {
      "text/plain": [
       "49"
      ]
     },
     "execution_count": 51,
     "metadata": {},
     "output_type": "execute_result"
    }
   ],
   "source": [
    "#how many series id's were tagged\n",
    "df['series_id'].nunique()"
   ]
  },
  {
   "cell_type": "code",
   "execution_count": 52,
   "id": "zjL45EeBS4on",
   "metadata": {
    "colab": {
     "base_uri": "https://localhost:8080/"
    },
    "id": "zjL45EeBS4on",
    "outputId": "f5d954d7-0995-4169-d230-4bedd6597eb1"
   },
   "outputs": [
    {
     "data": {
      "text/plain": [
       "3"
      ]
     },
     "execution_count": 52,
     "metadata": {},
     "output_type": "execute_result"
    }
   ],
   "source": [
    "# how many taggers\n",
    "df['tagger'].nunique()"
   ]
  },
  {
   "cell_type": "code",
   "execution_count": 53,
   "id": "S_ArVwCeAV74",
   "metadata": {
    "colab": {
     "base_uri": "https://localhost:8080/"
    },
    "id": "S_ArVwCeAV74",
    "outputId": "e05a580e-90c4-4656-e0a8-f7876d4e3271"
   },
   "outputs": [
    {
     "data": {
      "text/plain": [
       "tagger\n",
       "tagger_a    42\n",
       "tagger_b    42\n",
       "tagger_c    43\n",
       "Name: series_id, dtype: int64"
      ]
     },
     "execution_count": 53,
     "metadata": {},
     "output_type": "execute_result"
    }
   ],
   "source": [
    "# how many series each radiologist tagged\n",
    "df.groupby(by=\"tagger\").series_id.nunique() "
   ]
  },
  {
   "cell_type": "code",
   "execution_count": 54,
   "id": "243ed2fd",
   "metadata": {},
   "outputs": [
    {
     "data": {
      "text/plain": [
       "127"
      ]
     },
     "execution_count": 54,
     "metadata": {},
     "output_type": "execute_result"
    }
   ],
   "source": [
    "# How many series were tagged by all taggers \n",
    "df.groupby(by=\"tagger\").series_id.nunique().sum()"
   ]
  },
  {
   "cell_type": "code",
   "execution_count": 55,
   "id": "afcf97dc",
   "metadata": {},
   "outputs": [
    {
     "data": {
      "text/plain": [
       "36"
      ]
     },
     "execution_count": 55,
     "metadata": {},
     "output_type": "execute_result"
    }
   ],
   "source": [
    "# series that were tagged by all three taggers=36\n",
    "df_grouped=df.groupby(by='series_id').tagger.nunique()==3\n",
    "df_grouped[df_grouped==True].count()"
   ]
  },
  {
   "cell_type": "markdown",
   "id": "e4141ea7",
   "metadata": {
    "id": "e4141ea7"
   },
   "source": [
    "##### Calculating the ground truth for liver:\n",
    "There are 3 possible labels in the data: <br>\n",
    "- Liver_partially_present <br> \n",
    "- Liver_present <br> \n",
    "- Liver_not_present\n",
    "\n",
    "I need to get the ground truth for each series.<br>\n",
    "I used the majority to decide.<br>\n",
    "I used the label that at least 2 taggers chose. if there is no majority, I will fill 'unknown'"
   ]
  },
  {
   "cell_type": "code",
   "execution_count": 56,
   "id": "TQdICBUm9W24",
   "metadata": {
    "colab": {
     "base_uri": "https://localhost:8080/"
    },
    "id": "TQdICBUm9W24",
    "outputId": "d8ac0a25-c0f8-4401-f4c2-52e8fcb1e0c5"
   },
   "outputs": [
    {
     "data": {
      "text/plain": [
       "array(['Liver_partially_present', 'Liver_ROI', 'Liver_present',\n",
       "       'Liver_not_present'], dtype=object)"
      ]
     },
     "execution_count": 56,
     "metadata": {},
     "output_type": "execute_result"
    }
   ],
   "source": [
    "# subset the data relevant for the question, view different label names\n",
    "label_data= df[['series_id','label_name','tagger']]\n",
    "label_data\n",
    "label_data['label_name'].unique()"
   ]
  },
  {
   "cell_type": "code",
   "execution_count": 57,
   "id": "yPZ3uD9CMpiG",
   "metadata": {
    "colab": {
     "base_uri": "https://localhost:8080/",
     "height": 423
    },
    "id": "yPZ3uD9CMpiG",
    "outputId": "61a4c167-69a8-419f-cef1-f136149f4468"
   },
   "outputs": [
    {
     "data": {
      "text/html": [
       "<div>\n",
       "<style scoped>\n",
       "    .dataframe tbody tr th:only-of-type {\n",
       "        vertical-align: middle;\n",
       "    }\n",
       "\n",
       "    .dataframe tbody tr th {\n",
       "        vertical-align: top;\n",
       "    }\n",
       "\n",
       "    .dataframe thead th {\n",
       "        text-align: right;\n",
       "    }\n",
       "</style>\n",
       "<table border=\"1\" class=\"dataframe\">\n",
       "  <thead>\n",
       "    <tr style=\"text-align: right;\">\n",
       "      <th></th>\n",
       "      <th>series_id</th>\n",
       "      <th>label_name</th>\n",
       "      <th>tagger</th>\n",
       "    </tr>\n",
       "  </thead>\n",
       "  <tbody>\n",
       "    <tr>\n",
       "      <th>0</th>\n",
       "      <td>214.979698817.18529.22496.43741.128330521668900</td>\n",
       "      <td>Liver_partially_present</td>\n",
       "      <td>tagger_a</td>\n",
       "    </tr>\n",
       "    <tr>\n",
       "      <th>43</th>\n",
       "      <td>214.979698817.18529.22496.43741.128330521668900</td>\n",
       "      <td>Liver_partially_present</td>\n",
       "      <td>tagger_c</td>\n",
       "    </tr>\n",
       "    <tr>\n",
       "      <th>80</th>\n",
       "      <td>214.979698817.18529.22496.43741.128330521668900</td>\n",
       "      <td>Liver_partially_present</td>\n",
       "      <td>tagger_b</td>\n",
       "    </tr>\n",
       "    <tr>\n",
       "      <th>156</th>\n",
       "      <td>214.905166805.4334.21023.36959.242484179916872</td>\n",
       "      <td>Liver_partially_present</td>\n",
       "      <td>tagger_a</td>\n",
       "    </tr>\n",
       "    <tr>\n",
       "      <th>208</th>\n",
       "      <td>214.905166805.4334.21023.36959.242484179916872</td>\n",
       "      <td>Liver_partially_present</td>\n",
       "      <td>tagger_c</td>\n",
       "    </tr>\n",
       "  </tbody>\n",
       "</table>\n",
       "</div>"
      ],
      "text/plain": [
       "                                           series_id               label_name  \\\n",
       "0    214.979698817.18529.22496.43741.128330521668900  Liver_partially_present   \n",
       "43   214.979698817.18529.22496.43741.128330521668900  Liver_partially_present   \n",
       "80   214.979698817.18529.22496.43741.128330521668900  Liver_partially_present   \n",
       "156   214.905166805.4334.21023.36959.242484179916872  Liver_partially_present   \n",
       "208   214.905166805.4334.21023.36959.242484179916872  Liver_partially_present   \n",
       "\n",
       "       tagger  \n",
       "0    tagger_a  \n",
       "43   tagger_c  \n",
       "80   tagger_b  \n",
       "156  tagger_a  \n",
       "208  tagger_c  "
      ]
     },
     "execution_count": 57,
     "metadata": {},
     "output_type": "execute_result"
    }
   ],
   "source": [
    "# subset only label names that are relevant for this question\n",
    "label_list=['Liver_partially_present','Liver_present','Liver_not_present']\n",
    "label_data=label_data.loc[label_data['label_name'].isin(label_list)]\n",
    "label_data.head()"
   ]
  },
  {
   "cell_type": "code",
   "execution_count": 58,
   "id": "sbE1pankME96",
   "metadata": {
    "colab": {
     "base_uri": "https://localhost:8080/"
    },
    "id": "sbE1pankME96",
    "outputId": "dba0ec4b-51ff-4bca-8a04-142ac1b87207"
   },
   "outputs": [
    {
     "data": {
      "text/plain": [
       "series_id                                         label_name             \n",
       "214.1010318896.47235.23108.38196.63500836030298   Liver_present              3\n",
       "214.1136906659.42173.21294.39595.80934666869483   Liver_not_present          1\n",
       "                                                  Liver_partially_present    1\n",
       "214.1137687545.3421.22033.38093.120614205891159   Liver_present              3\n",
       "214.1144225571.17167.24195.43423.192235341247362  Liver_present              3\n",
       "Name: tagger, dtype: int64"
      ]
     },
     "execution_count": 58,
     "metadata": {},
     "output_type": "execute_result"
    }
   ],
   "source": [
    "# for each series, how many taggers labeld what\n",
    "label_data.groupby(by=['series_id','label_name']).tagger.nunique().head()"
   ]
  },
  {
   "cell_type": "code",
   "execution_count": 59,
   "id": "4f58c3e6",
   "metadata": {},
   "outputs": [
    {
     "data": {
      "text/html": [
       "<div>\n",
       "<style scoped>\n",
       "    .dataframe tbody tr th:only-of-type {\n",
       "        vertical-align: middle;\n",
       "    }\n",
       "\n",
       "    .dataframe tbody tr th {\n",
       "        vertical-align: top;\n",
       "    }\n",
       "\n",
       "    .dataframe thead th {\n",
       "        text-align: right;\n",
       "    }\n",
       "</style>\n",
       "<table border=\"1\" class=\"dataframe\">\n",
       "  <thead>\n",
       "    <tr style=\"text-align: right;\">\n",
       "      <th></th>\n",
       "      <th>series_id</th>\n",
       "      <th>label_name</th>\n",
       "      <th>tagger</th>\n",
       "      <th>count_label</th>\n",
       "    </tr>\n",
       "  </thead>\n",
       "  <tbody>\n",
       "    <tr>\n",
       "      <th>0</th>\n",
       "      <td>214.979698817.18529.22496.43741.128330521668900</td>\n",
       "      <td>Liver_partially_present</td>\n",
       "      <td>tagger_a</td>\n",
       "      <td>3</td>\n",
       "    </tr>\n",
       "    <tr>\n",
       "      <th>43</th>\n",
       "      <td>214.979698817.18529.22496.43741.128330521668900</td>\n",
       "      <td>Liver_partially_present</td>\n",
       "      <td>tagger_c</td>\n",
       "      <td>3</td>\n",
       "    </tr>\n",
       "    <tr>\n",
       "      <th>80</th>\n",
       "      <td>214.979698817.18529.22496.43741.128330521668900</td>\n",
       "      <td>Liver_partially_present</td>\n",
       "      <td>tagger_b</td>\n",
       "      <td>3</td>\n",
       "    </tr>\n",
       "    <tr>\n",
       "      <th>156</th>\n",
       "      <td>214.905166805.4334.21023.36959.242484179916872</td>\n",
       "      <td>Liver_partially_present</td>\n",
       "      <td>tagger_a</td>\n",
       "      <td>2</td>\n",
       "    </tr>\n",
       "    <tr>\n",
       "      <th>208</th>\n",
       "      <td>214.905166805.4334.21023.36959.242484179916872</td>\n",
       "      <td>Liver_partially_present</td>\n",
       "      <td>tagger_c</td>\n",
       "      <td>2</td>\n",
       "    </tr>\n",
       "  </tbody>\n",
       "</table>\n",
       "</div>"
      ],
      "text/plain": [
       "                                           series_id               label_name  \\\n",
       "0    214.979698817.18529.22496.43741.128330521668900  Liver_partially_present   \n",
       "43   214.979698817.18529.22496.43741.128330521668900  Liver_partially_present   \n",
       "80   214.979698817.18529.22496.43741.128330521668900  Liver_partially_present   \n",
       "156   214.905166805.4334.21023.36959.242484179916872  Liver_partially_present   \n",
       "208   214.905166805.4334.21023.36959.242484179916872  Liver_partially_present   \n",
       "\n",
       "       tagger  count_label  \n",
       "0    tagger_a            3  \n",
       "43   tagger_c            3  \n",
       "80   tagger_b            3  \n",
       "156  tagger_a            2  \n",
       "208  tagger_c            2  "
      ]
     },
     "execution_count": 59,
     "metadata": {},
     "output_type": "execute_result"
    }
   ],
   "source": [
    "# transform the count result into a count column in the dataframe\n",
    "label_data['count_label']=label_data.groupby(by=['series_id','label_name']).tagger.transform('nunique')\n",
    "label_data.head()"
   ]
  },
  {
   "cell_type": "code",
   "execution_count": 60,
   "id": "1f4c5b71",
   "metadata": {},
   "outputs": [
    {
     "data": {
      "text/html": [
       "<div>\n",
       "<style scoped>\n",
       "    .dataframe tbody tr th:only-of-type {\n",
       "        vertical-align: middle;\n",
       "    }\n",
       "\n",
       "    .dataframe tbody tr th {\n",
       "        vertical-align: top;\n",
       "    }\n",
       "\n",
       "    .dataframe thead th {\n",
       "        text-align: right;\n",
       "    }\n",
       "</style>\n",
       "<table border=\"1\" class=\"dataframe\">\n",
       "  <thead>\n",
       "    <tr style=\"text-align: right;\">\n",
       "      <th></th>\n",
       "      <th>series_id</th>\n",
       "      <th>label_name</th>\n",
       "      <th>tagger</th>\n",
       "      <th>count_label</th>\n",
       "    </tr>\n",
       "  </thead>\n",
       "  <tbody>\n",
       "    <tr>\n",
       "      <th>0</th>\n",
       "      <td>214.979698817.18529.22496.43741.128330521668900</td>\n",
       "      <td>Liver_partially_present</td>\n",
       "      <td>tagger_a</td>\n",
       "      <td>3</td>\n",
       "    </tr>\n",
       "    <tr>\n",
       "      <th>5201</th>\n",
       "      <td>214.2511097769.62855.23129.47790.216783088310797</td>\n",
       "      <td>Liver_partially_present</td>\n",
       "      <td>tagger_b</td>\n",
       "      <td>3</td>\n",
       "    </tr>\n",
       "    <tr>\n",
       "      <th>6798</th>\n",
       "      <td>214.1509699221.4433.21997.45633.122327039602655</td>\n",
       "      <td>Liver_present</td>\n",
       "      <td>tagger_b</td>\n",
       "      <td>3</td>\n",
       "    </tr>\n",
       "    <tr>\n",
       "      <th>6730</th>\n",
       "      <td>214.1509699221.4433.21997.45633.122327039602655</td>\n",
       "      <td>Liver_present</td>\n",
       "      <td>tagger_a</td>\n",
       "      <td>3</td>\n",
       "    </tr>\n",
       "    <tr>\n",
       "      <th>6083</th>\n",
       "      <td>214.2259084259.38080.21430.37606.262799886945186</td>\n",
       "      <td>Liver_present</td>\n",
       "      <td>tagger_c</td>\n",
       "      <td>3</td>\n",
       "    </tr>\n",
       "  </tbody>\n",
       "</table>\n",
       "</div>"
      ],
      "text/plain": [
       "                                             series_id  \\\n",
       "0      214.979698817.18529.22496.43741.128330521668900   \n",
       "5201  214.2511097769.62855.23129.47790.216783088310797   \n",
       "6798   214.1509699221.4433.21997.45633.122327039602655   \n",
       "6730   214.1509699221.4433.21997.45633.122327039602655   \n",
       "6083  214.2259084259.38080.21430.37606.262799886945186   \n",
       "\n",
       "                   label_name    tagger  count_label  \n",
       "0     Liver_partially_present  tagger_a            3  \n",
       "5201  Liver_partially_present  tagger_b            3  \n",
       "6798            Liver_present  tagger_b            3  \n",
       "6730            Liver_present  tagger_a            3  \n",
       "6083            Liver_present  tagger_c            3  "
      ]
     },
     "execution_count": 60,
     "metadata": {},
     "output_type": "execute_result"
    }
   ],
   "source": [
    "# sort the data by count_label, cases where there is an agreement will be on top, unknown cases on the bottom\n",
    "label_data.sort_values(by='count_label', ascending=False, inplace=True)\n",
    "label_data.head()"
   ]
  },
  {
   "cell_type": "code",
   "execution_count": 61,
   "id": "bddd4141",
   "metadata": {},
   "outputs": [
    {
     "data": {
      "text/html": [
       "<div>\n",
       "<style scoped>\n",
       "    .dataframe tbody tr th:only-of-type {\n",
       "        vertical-align: middle;\n",
       "    }\n",
       "\n",
       "    .dataframe tbody tr th {\n",
       "        vertical-align: top;\n",
       "    }\n",
       "\n",
       "    .dataframe thead th {\n",
       "        text-align: right;\n",
       "    }\n",
       "</style>\n",
       "<table border=\"1\" class=\"dataframe\">\n",
       "  <thead>\n",
       "    <tr style=\"text-align: right;\">\n",
       "      <th></th>\n",
       "      <th>series_id</th>\n",
       "      <th>label_name</th>\n",
       "      <th>tagger</th>\n",
       "      <th>count_label</th>\n",
       "    </tr>\n",
       "  </thead>\n",
       "  <tbody>\n",
       "    <tr>\n",
       "      <th>0</th>\n",
       "      <td>214.979698817.18529.22496.43741.128330521668900</td>\n",
       "      <td>Liver_partially_present</td>\n",
       "      <td>tagger_a</td>\n",
       "      <td>3</td>\n",
       "    </tr>\n",
       "    <tr>\n",
       "      <th>5201</th>\n",
       "      <td>214.2511097769.62855.23129.47790.216783088310797</td>\n",
       "      <td>Liver_partially_present</td>\n",
       "      <td>tagger_b</td>\n",
       "      <td>3</td>\n",
       "    </tr>\n",
       "    <tr>\n",
       "      <th>6798</th>\n",
       "      <td>214.1509699221.4433.21997.45633.122327039602655</td>\n",
       "      <td>Liver_present</td>\n",
       "      <td>tagger_b</td>\n",
       "      <td>3</td>\n",
       "    </tr>\n",
       "    <tr>\n",
       "      <th>6083</th>\n",
       "      <td>214.2259084259.38080.21430.37606.262799886945186</td>\n",
       "      <td>Liver_present</td>\n",
       "      <td>tagger_c</td>\n",
       "      <td>3</td>\n",
       "    </tr>\n",
       "    <tr>\n",
       "      <th>5914</th>\n",
       "      <td>214.2327811651.16923.24161.39752.252351752931302</td>\n",
       "      <td>Liver_present</td>\n",
       "      <td>tagger_c</td>\n",
       "      <td>3</td>\n",
       "    </tr>\n",
       "  </tbody>\n",
       "</table>\n",
       "</div>"
      ],
      "text/plain": [
       "                                             series_id  \\\n",
       "0      214.979698817.18529.22496.43741.128330521668900   \n",
       "5201  214.2511097769.62855.23129.47790.216783088310797   \n",
       "6798   214.1509699221.4433.21997.45633.122327039602655   \n",
       "6083  214.2259084259.38080.21430.37606.262799886945186   \n",
       "5914  214.2327811651.16923.24161.39752.252351752931302   \n",
       "\n",
       "                   label_name    tagger  count_label  \n",
       "0     Liver_partially_present  tagger_a            3  \n",
       "5201  Liver_partially_present  tagger_b            3  \n",
       "6798            Liver_present  tagger_b            3  \n",
       "6083            Liver_present  tagger_c            3  \n",
       "5914            Liver_present  tagger_c            3  "
      ]
     },
     "execution_count": 61,
     "metadata": {},
     "output_type": "execute_result"
    }
   ],
   "source": [
    "# drop duplicates, so that cases where two taggers agreed and one disagreed, will be marked by the majority \n",
    "label_data=label_data.drop_duplicates(subset='series_id', keep='first')\n",
    "label_data.head()"
   ]
  },
  {
   "cell_type": "code",
   "execution_count": 62,
   "id": "94c380e4",
   "metadata": {},
   "outputs": [],
   "source": [
    "# double check the data in excel\n",
    "#temp.to_excel('temp_df_excel.xlsx')"
   ]
  },
  {
   "cell_type": "code",
   "execution_count": 63,
   "id": "25cd6bb6",
   "metadata": {},
   "outputs": [
    {
     "data": {
      "text/plain": [
       "array(['Liver_partially_present', 'Liver_present', 'unknown'],\n",
       "      dtype=object)"
      ]
     },
     "execution_count": 63,
     "metadata": {},
     "output_type": "execute_result"
    }
   ],
   "source": [
    "# if there are 2 or more taggers that agreed on the label, ground truth=label name, if only one ground truth='unknown'\n",
    "label_data.loc[label_data[\"count_label\"] == 3, \"count_label\"] = label_data['label_name']\n",
    "label_data.loc[label_data[\"count_label\"] == 2, \"count_label\"] = label_data['label_name']\n",
    "label_data.loc[label_data[\"count_label\"] == 1, \"count_label\"] = 'unknown'\n",
    "\n",
    "# make sure the unknown label was insert correctly\n",
    "label_data['count_label'].unique()"
   ]
  },
  {
   "cell_type": "code",
   "execution_count": 64,
   "id": "ac1f2678",
   "metadata": {},
   "outputs": [
    {
     "data": {
      "text/html": [
       "<div>\n",
       "<style scoped>\n",
       "    .dataframe tbody tr th:only-of-type {\n",
       "        vertical-align: middle;\n",
       "    }\n",
       "\n",
       "    .dataframe tbody tr th {\n",
       "        vertical-align: top;\n",
       "    }\n",
       "\n",
       "    .dataframe thead th {\n",
       "        text-align: right;\n",
       "    }\n",
       "</style>\n",
       "<table border=\"1\" class=\"dataframe\">\n",
       "  <thead>\n",
       "    <tr style=\"text-align: right;\">\n",
       "      <th></th>\n",
       "      <th>series_id</th>\n",
       "      <th>label_name</th>\n",
       "      <th>tagger</th>\n",
       "      <th>count_label</th>\n",
       "    </tr>\n",
       "  </thead>\n",
       "  <tbody>\n",
       "    <tr>\n",
       "      <th>0</th>\n",
       "      <td>214.979698817.18529.22496.43741.128330521668900</td>\n",
       "      <td>Liver_partially_present</td>\n",
       "      <td>tagger_a</td>\n",
       "      <td>Liver_partially_present</td>\n",
       "    </tr>\n",
       "    <tr>\n",
       "      <th>5201</th>\n",
       "      <td>214.2511097769.62855.23129.47790.216783088310797</td>\n",
       "      <td>Liver_partially_present</td>\n",
       "      <td>tagger_b</td>\n",
       "      <td>Liver_partially_present</td>\n",
       "    </tr>\n",
       "    <tr>\n",
       "      <th>6798</th>\n",
       "      <td>214.1509699221.4433.21997.45633.122327039602655</td>\n",
       "      <td>Liver_present</td>\n",
       "      <td>tagger_b</td>\n",
       "      <td>Liver_present</td>\n",
       "    </tr>\n",
       "    <tr>\n",
       "      <th>6083</th>\n",
       "      <td>214.2259084259.38080.21430.37606.262799886945186</td>\n",
       "      <td>Liver_present</td>\n",
       "      <td>tagger_c</td>\n",
       "      <td>Liver_present</td>\n",
       "    </tr>\n",
       "    <tr>\n",
       "      <th>5914</th>\n",
       "      <td>214.2327811651.16923.24161.39752.252351752931302</td>\n",
       "      <td>Liver_present</td>\n",
       "      <td>tagger_c</td>\n",
       "      <td>Liver_present</td>\n",
       "    </tr>\n",
       "  </tbody>\n",
       "</table>\n",
       "</div>"
      ],
      "text/plain": [
       "                                             series_id  \\\n",
       "0      214.979698817.18529.22496.43741.128330521668900   \n",
       "5201  214.2511097769.62855.23129.47790.216783088310797   \n",
       "6798   214.1509699221.4433.21997.45633.122327039602655   \n",
       "6083  214.2259084259.38080.21430.37606.262799886945186   \n",
       "5914  214.2327811651.16923.24161.39752.252351752931302   \n",
       "\n",
       "                   label_name    tagger              count_label  \n",
       "0     Liver_partially_present  tagger_a  Liver_partially_present  \n",
       "5201  Liver_partially_present  tagger_b  Liver_partially_present  \n",
       "6798            Liver_present  tagger_b            Liver_present  \n",
       "6083            Liver_present  tagger_c            Liver_present  \n",
       "5914            Liver_present  tagger_c            Liver_present  "
      ]
     },
     "execution_count": 64,
     "metadata": {},
     "output_type": "execute_result"
    }
   ],
   "source": [
    "# view the results\n",
    "label_data.head()"
   ]
  },
  {
   "cell_type": "code",
   "execution_count": 65,
   "id": "4041b5f5",
   "metadata": {},
   "outputs": [
    {
     "data": {
      "text/html": [
       "<div>\n",
       "<style scoped>\n",
       "    .dataframe tbody tr th:only-of-type {\n",
       "        vertical-align: middle;\n",
       "    }\n",
       "\n",
       "    .dataframe tbody tr th {\n",
       "        vertical-align: top;\n",
       "    }\n",
       "\n",
       "    .dataframe thead th {\n",
       "        text-align: right;\n",
       "    }\n",
       "</style>\n",
       "<table border=\"1\" class=\"dataframe\">\n",
       "  <thead>\n",
       "    <tr style=\"text-align: right;\">\n",
       "      <th></th>\n",
       "      <th>series_id</th>\n",
       "      <th>label_name</th>\n",
       "      <th>tagger</th>\n",
       "      <th>ground_truth</th>\n",
       "    </tr>\n",
       "  </thead>\n",
       "  <tbody>\n",
       "    <tr>\n",
       "      <th>0</th>\n",
       "      <td>214.979698817.18529.22496.43741.128330521668900</td>\n",
       "      <td>Liver_partially_present</td>\n",
       "      <td>tagger_a</td>\n",
       "      <td>Liver_partially_present</td>\n",
       "    </tr>\n",
       "    <tr>\n",
       "      <th>5201</th>\n",
       "      <td>214.2511097769.62855.23129.47790.216783088310797</td>\n",
       "      <td>Liver_partially_present</td>\n",
       "      <td>tagger_b</td>\n",
       "      <td>Liver_partially_present</td>\n",
       "    </tr>\n",
       "    <tr>\n",
       "      <th>6798</th>\n",
       "      <td>214.1509699221.4433.21997.45633.122327039602655</td>\n",
       "      <td>Liver_present</td>\n",
       "      <td>tagger_b</td>\n",
       "      <td>Liver_present</td>\n",
       "    </tr>\n",
       "    <tr>\n",
       "      <th>6083</th>\n",
       "      <td>214.2259084259.38080.21430.37606.262799886945186</td>\n",
       "      <td>Liver_present</td>\n",
       "      <td>tagger_c</td>\n",
       "      <td>Liver_present</td>\n",
       "    </tr>\n",
       "    <tr>\n",
       "      <th>5914</th>\n",
       "      <td>214.2327811651.16923.24161.39752.252351752931302</td>\n",
       "      <td>Liver_present</td>\n",
       "      <td>tagger_c</td>\n",
       "      <td>Liver_present</td>\n",
       "    </tr>\n",
       "  </tbody>\n",
       "</table>\n",
       "</div>"
      ],
      "text/plain": [
       "                                             series_id  \\\n",
       "0      214.979698817.18529.22496.43741.128330521668900   \n",
       "5201  214.2511097769.62855.23129.47790.216783088310797   \n",
       "6798   214.1509699221.4433.21997.45633.122327039602655   \n",
       "6083  214.2259084259.38080.21430.37606.262799886945186   \n",
       "5914  214.2327811651.16923.24161.39752.252351752931302   \n",
       "\n",
       "                   label_name    tagger             ground_truth  \n",
       "0     Liver_partially_present  tagger_a  Liver_partially_present  \n",
       "5201  Liver_partially_present  tagger_b  Liver_partially_present  \n",
       "6798            Liver_present  tagger_b            Liver_present  \n",
       "6083            Liver_present  tagger_c            Liver_present  \n",
       "5914            Liver_present  tagger_c            Liver_present  "
      ]
     },
     "execution_count": 65,
     "metadata": {},
     "output_type": "execute_result"
    }
   ],
   "source": [
    "# change the column name to something more informative: 'ground_truth'\n",
    "label_data2=label_data.rename(columns={'count_label':'ground_truth'})\n",
    "label_data2.head()"
   ]
  },
  {
   "cell_type": "code",
   "execution_count": 66,
   "id": "c0150a41",
   "metadata": {},
   "outputs": [
    {
     "data": {
      "text/plain": [
       "Text(0.5, 1.0, 'Count of Ground Truth by Label Type')"
      ]
     },
     "execution_count": 66,
     "metadata": {},
     "output_type": "execute_result"
    },
    {
     "data": {
      "image/png": "[encoded data removed]",
      "text/plain": [
       "<Figure size 432x288 with 1 Axes>"
      ]
     },
     "metadata": {
      "needs_background": "light"
     },
     "output_type": "display_data"
    }
   ],
   "source": [
    "# visualize the data\n",
    "label_data2['ground_truth'].value_counts().plot(kind='bar', rot=360)\n",
    "plt.ylabel('Count')\n",
    "plt.title('Count of Ground Truth by Label Type')"
   ]
  },
  {
   "cell_type": "markdown",
   "id": "6940ae5b",
   "metadata": {
    "id": "6940ae5b"
   },
   "source": [
    "### Next up, calculate HU ground truth:\n",
    "\n",
    "Hounsfield unit by Wikipedia:<br>\n",
    "The Hounsfield scale, is a quantitative scale for describing radiodensity. It is frequently used in CT scans.\n",
    "\n",
    "The Hounsfield unit (HU) scale is a linear transformation of the original linear attenuation coefficient measurement into one in which the radiodensity of distilled water at standard pressure and temperature (STP) is defined as 0 Hounsfield units (HU), while the radiodensity of air at STP is defined as −1000 HU\n",
    "\n",
    "https://en.wikipedia.org/wiki/Hounsfield_scale\n",
    "\n",
    "\n",
    "In the data we can see a  \"Liver_ROI\" label, this label represent a circle that the tagger tagged on a slice. <br>\n",
    "at the value column I can find a json that stores the mean HU in a single circle (the \"mean\" key)\n",
    "\n",
    "For each series a tagger tagged multiple circles on multiple slices.\n",
    "\n",
    "##### I calculated the mean HU for the entire series per tagger"
   ]
  },
  {
   "cell_type": "code",
   "execution_count": 67,
   "id": "vE4plT03w2ft",
   "metadata": {
    "id": "vE4plT03w2ft"
   },
   "outputs": [],
   "source": [
    "# Use the following code to extract the mean from the value field:\n",
    "import json\n",
    "\n",
    "def extract_mean(row):\n",
    "    value_dict = json.loads(row.value.replace(\"'\", \"\\\"\"))\n",
    "    return value_dict['features'][0]['properties']['mean']"
   ]
  },
  {
   "cell_type": "code",
   "execution_count": 68,
   "id": "a2f86346",
   "metadata": {},
   "outputs": [
    {
     "data": {
      "text/plain": [
       "array(['Liver_ROI'], dtype=object)"
      ]
     },
     "execution_count": 68,
     "metadata": {},
     "output_type": "execute_result"
    }
   ],
   "source": [
    "# subset to only data with ROI labeling \n",
    "label_list_2=['Liver_ROI']\n",
    "only_roi=df.loc[df['label_name'].isin(label_list_2)]\n",
    "# make sure only Liver_ROI remained \n",
    "only_roi['label_name'].unique()"
   ]
  },
  {
   "cell_type": "code",
   "execution_count": 69,
   "id": "cc3c9e91",
   "metadata": {},
   "outputs": [
    {
     "data": {
      "text/html": [
       "<div>\n",
       "<style scoped>\n",
       "    .dataframe tbody tr th:only-of-type {\n",
       "        vertical-align: middle;\n",
       "    }\n",
       "\n",
       "    .dataframe tbody tr th {\n",
       "        vertical-align: top;\n",
       "    }\n",
       "\n",
       "    .dataframe thead th {\n",
       "        text-align: right;\n",
       "    }\n",
       "</style>\n",
       "<table border=\"1\" class=\"dataframe\">\n",
       "  <thead>\n",
       "    <tr style=\"text-align: right;\">\n",
       "      <th></th>\n",
       "      <th>series_id</th>\n",
       "      <th>slice_id</th>\n",
       "      <th>label_name</th>\n",
       "      <th>tagger</th>\n",
       "      <th>value</th>\n",
       "    </tr>\n",
       "  </thead>\n",
       "  <tbody>\n",
       "    <tr>\n",
       "      <th>0</th>\n",
       "      <td>214.979698817.18529.22496.43741.128330521668900</td>\n",
       "      <td>214.3342698736.25043.20913.43865.219498800052639</td>\n",
       "      <td>Liver_ROI</td>\n",
       "      <td>tagger_a</td>\n",
       "      <td>{'type': 'FeatureCollection', 'features': [{'t...</td>\n",
       "    </tr>\n",
       "    <tr>\n",
       "      <th>1</th>\n",
       "      <td>214.979698817.18529.22496.43741.128330521668900</td>\n",
       "      <td>214.3342698736.25043.20913.43865.219498800052639</td>\n",
       "      <td>Liver_ROI</td>\n",
       "      <td>tagger_a</td>\n",
       "      <td>{'type': 'FeatureCollection', 'features': [{'t...</td>\n",
       "    </tr>\n",
       "    <tr>\n",
       "      <th>2</th>\n",
       "      <td>214.979698817.18529.22496.43741.128330521668900</td>\n",
       "      <td>214.3342698736.25043.20913.43865.219498800052639</td>\n",
       "      <td>Liver_ROI</td>\n",
       "      <td>tagger_a</td>\n",
       "      <td>{'type': 'FeatureCollection', 'features': [{'t...</td>\n",
       "    </tr>\n",
       "    <tr>\n",
       "      <th>3</th>\n",
       "      <td>214.979698817.18529.22496.43741.128330521668900</td>\n",
       "      <td>214.4038086146.5536.20999.34509.95120164927740</td>\n",
       "      <td>Liver_ROI</td>\n",
       "      <td>tagger_a</td>\n",
       "      <td>{'type': 'FeatureCollection', 'features': [{'t...</td>\n",
       "    </tr>\n",
       "    <tr>\n",
       "      <th>4</th>\n",
       "      <td>214.979698817.18529.22496.43741.128330521668900</td>\n",
       "      <td>214.2001189455.63976.23211.36752.174994682803839</td>\n",
       "      <td>Liver_ROI</td>\n",
       "      <td>tagger_a</td>\n",
       "      <td>{'type': 'FeatureCollection', 'features': [{'t...</td>\n",
       "    </tr>\n",
       "  </tbody>\n",
       "</table>\n",
       "</div>"
      ],
      "text/plain": [
       "                                         series_id  \\\n",
       "0  214.979698817.18529.22496.43741.128330521668900   \n",
       "1  214.979698817.18529.22496.43741.128330521668900   \n",
       "2  214.979698817.18529.22496.43741.128330521668900   \n",
       "3  214.979698817.18529.22496.43741.128330521668900   \n",
       "4  214.979698817.18529.22496.43741.128330521668900   \n",
       "\n",
       "                                           slice_id label_name    tagger  \\\n",
       "0  214.3342698736.25043.20913.43865.219498800052639  Liver_ROI  tagger_a   \n",
       "1  214.3342698736.25043.20913.43865.219498800052639  Liver_ROI  tagger_a   \n",
       "2  214.3342698736.25043.20913.43865.219498800052639  Liver_ROI  tagger_a   \n",
       "3    214.4038086146.5536.20999.34509.95120164927740  Liver_ROI  tagger_a   \n",
       "4  214.2001189455.63976.23211.36752.174994682803839  Liver_ROI  tagger_a   \n",
       "\n",
       "                                               value  \n",
       "0  {'type': 'FeatureCollection', 'features': [{'t...  \n",
       "1  {'type': 'FeatureCollection', 'features': [{'t...  \n",
       "2  {'type': 'FeatureCollection', 'features': [{'t...  \n",
       "3  {'type': 'FeatureCollection', 'features': [{'t...  \n",
       "4  {'type': 'FeatureCollection', 'features': [{'t...  "
      ]
     },
     "execution_count": 69,
     "metadata": {},
     "output_type": "execute_result"
    }
   ],
   "source": [
    "# configure the new df\n",
    "only_roi=only_roi.reset_index().drop(['index'],axis=1)\n",
    "only_roi.head()"
   ]
  },
  {
   "cell_type": "code",
   "execution_count": 70,
   "id": "53e9f5b3",
   "metadata": {},
   "outputs": [],
   "source": [
    "# create a for loop to apply the extract mean function, and create a new column 'mean' \n",
    "only_roi['mean_HU']=999999\n",
    "for i in range(len(only_roi)):\n",
    "    only_roi.loc[i,'mean_HU']=extract_mean(only_roi.iloc[i])"
   ]
  },
  {
   "cell_type": "code",
   "execution_count": 71,
   "id": "ee7924e8",
   "metadata": {
    "scrolled": true
   },
   "outputs": [
    {
     "data": {
      "text/html": [
       "<div>\n",
       "<style scoped>\n",
       "    .dataframe tbody tr th:only-of-type {\n",
       "        vertical-align: middle;\n",
       "    }\n",
       "\n",
       "    .dataframe tbody tr th {\n",
       "        vertical-align: top;\n",
       "    }\n",
       "\n",
       "    .dataframe thead th {\n",
       "        text-align: right;\n",
       "    }\n",
       "</style>\n",
       "<table border=\"1\" class=\"dataframe\">\n",
       "  <thead>\n",
       "    <tr style=\"text-align: right;\">\n",
       "      <th></th>\n",
       "      <th>series_id</th>\n",
       "      <th>slice_id</th>\n",
       "      <th>label_name</th>\n",
       "      <th>tagger</th>\n",
       "      <th>value</th>\n",
       "      <th>mean_HU</th>\n",
       "    </tr>\n",
       "  </thead>\n",
       "  <tbody>\n",
       "    <tr>\n",
       "      <th>0</th>\n",
       "      <td>214.979698817.18529.22496.43741.128330521668900</td>\n",
       "      <td>214.3342698736.25043.20913.43865.219498800052639</td>\n",
       "      <td>Liver_ROI</td>\n",
       "      <td>tagger_a</td>\n",
       "      <td>{'type': 'FeatureCollection', 'features': [{'t...</td>\n",
       "      <td>7.004211</td>\n",
       "    </tr>\n",
       "    <tr>\n",
       "      <th>1</th>\n",
       "      <td>214.979698817.18529.22496.43741.128330521668900</td>\n",
       "      <td>214.3342698736.25043.20913.43865.219498800052639</td>\n",
       "      <td>Liver_ROI</td>\n",
       "      <td>tagger_a</td>\n",
       "      <td>{'type': 'FeatureCollection', 'features': [{'t...</td>\n",
       "      <td>2.328067</td>\n",
       "    </tr>\n",
       "    <tr>\n",
       "      <th>2</th>\n",
       "      <td>214.979698817.18529.22496.43741.128330521668900</td>\n",
       "      <td>214.3342698736.25043.20913.43865.219498800052639</td>\n",
       "      <td>Liver_ROI</td>\n",
       "      <td>tagger_a</td>\n",
       "      <td>{'type': 'FeatureCollection', 'features': [{'t...</td>\n",
       "      <td>-2.798460</td>\n",
       "    </tr>\n",
       "    <tr>\n",
       "      <th>3</th>\n",
       "      <td>214.979698817.18529.22496.43741.128330521668900</td>\n",
       "      <td>214.4038086146.5536.20999.34509.95120164927740</td>\n",
       "      <td>Liver_ROI</td>\n",
       "      <td>tagger_a</td>\n",
       "      <td>{'type': 'FeatureCollection', 'features': [{'t...</td>\n",
       "      <td>7.011620</td>\n",
       "    </tr>\n",
       "    <tr>\n",
       "      <th>4</th>\n",
       "      <td>214.979698817.18529.22496.43741.128330521668900</td>\n",
       "      <td>214.2001189455.63976.23211.36752.174994682803839</td>\n",
       "      <td>Liver_ROI</td>\n",
       "      <td>tagger_a</td>\n",
       "      <td>{'type': 'FeatureCollection', 'features': [{'t...</td>\n",
       "      <td>-6.056106</td>\n",
       "    </tr>\n",
       "  </tbody>\n",
       "</table>\n",
       "</div>"
      ],
      "text/plain": [
       "                                         series_id  \\\n",
       "0  214.979698817.18529.22496.43741.128330521668900   \n",
       "1  214.979698817.18529.22496.43741.128330521668900   \n",
       "2  214.979698817.18529.22496.43741.128330521668900   \n",
       "3  214.979698817.18529.22496.43741.128330521668900   \n",
       "4  214.979698817.18529.22496.43741.128330521668900   \n",
       "\n",
       "                                           slice_id label_name    tagger  \\\n",
       "0  214.3342698736.25043.20913.43865.219498800052639  Liver_ROI  tagger_a   \n",
       "1  214.3342698736.25043.20913.43865.219498800052639  Liver_ROI  tagger_a   \n",
       "2  214.3342698736.25043.20913.43865.219498800052639  Liver_ROI  tagger_a   \n",
       "3    214.4038086146.5536.20999.34509.95120164927740  Liver_ROI  tagger_a   \n",
       "4  214.2001189455.63976.23211.36752.174994682803839  Liver_ROI  tagger_a   \n",
       "\n",
       "                                               value   mean_HU  \n",
       "0  {'type': 'FeatureCollection', 'features': [{'t...  7.004211  \n",
       "1  {'type': 'FeatureCollection', 'features': [{'t...  2.328067  \n",
       "2  {'type': 'FeatureCollection', 'features': [{'t... -2.798460  \n",
       "3  {'type': 'FeatureCollection', 'features': [{'t...  7.011620  \n",
       "4  {'type': 'FeatureCollection', 'features': [{'t... -6.056106  "
      ]
     },
     "execution_count": 71,
     "metadata": {},
     "output_type": "execute_result"
    }
   ],
   "source": [
    "only_roi.head()"
   ]
  },
  {
   "cell_type": "code",
   "execution_count": 72,
   "id": "a1508e63",
   "metadata": {},
   "outputs": [
    {
     "data": {
      "text/plain": [
       "series_id                                         tagger  \n",
       "214.1010318896.47235.23108.38196.63500836030298   tagger_a    30.280651\n",
       "                                                  tagger_b    32.242964\n",
       "                                                  tagger_c    31.582720\n",
       "214.1136906659.42173.21294.39595.80934666869483   tagger_b    96.810944\n",
       "214.1137687545.3421.22033.38093.120614205891159   tagger_a    34.874288\n",
       "                                                  tagger_b    36.667500\n",
       "                                                  tagger_c    35.307963\n",
       "214.1144225571.17167.24195.43423.192235341247362  tagger_a    13.336099\n",
       "                                                  tagger_b    12.821675\n",
       "                                                  tagger_c    10.715167\n",
       "214.120374168.10221.21922.38059.275967605125871   tagger_a    33.412546\n",
       "                                                  tagger_b    33.045494\n",
       "                                                  tagger_c    32.618512\n",
       "214.1241505084.6290.22197.38841.17315656797632    tagger_a    58.315103\n",
       "                                                  tagger_b    59.516450\n",
       "                                                  tagger_c    59.499657\n",
       "214.1273004641.64843.23103.41521.67321546729079   tagger_a    66.163299\n",
       "                                                  tagger_b    66.527143\n",
       "                                                  tagger_c    66.434171\n",
       "214.1319959448.578.22158.37538.87347750244776     tagger_a    32.991019\n",
       "Name: mean_HU, dtype: float64"
      ]
     },
     "execution_count": 72,
     "metadata": {},
     "output_type": "execute_result"
    }
   ],
   "source": [
    "# calculate the mean HU for the entire series per tagger\n",
    "only_roi.groupby(by=['series_id','tagger']).mean_HU.mean().head(20)"
   ]
  },
  {
   "cell_type": "markdown",
   "id": "47cf4d64",
   "metadata": {
    "id": "47cf4d64"
   },
   "source": [
    "#### Now that each series have mean HU of the liver per tagger, I want to provide descriptive statistics about the difference between the taggers ."
   ]
  },
  {
   "cell_type": "code",
   "execution_count": 73,
   "id": "eb0a694a",
   "metadata": {
    "id": "eb0a694a"
   },
   "outputs": [
    {
     "data": {
      "text/html": [
       "<div>\n",
       "<style scoped>\n",
       "    .dataframe tbody tr th:only-of-type {\n",
       "        vertical-align: middle;\n",
       "    }\n",
       "\n",
       "    .dataframe tbody tr th {\n",
       "        vertical-align: top;\n",
       "    }\n",
       "\n",
       "    .dataframe thead th {\n",
       "        text-align: right;\n",
       "    }\n",
       "</style>\n",
       "<table border=\"1\" class=\"dataframe\">\n",
       "  <thead>\n",
       "    <tr style=\"text-align: right;\">\n",
       "      <th></th>\n",
       "      <th>count</th>\n",
       "      <th>mean</th>\n",
       "      <th>std</th>\n",
       "      <th>min</th>\n",
       "      <th>25%</th>\n",
       "      <th>50%</th>\n",
       "      <th>75%</th>\n",
       "      <th>max</th>\n",
       "    </tr>\n",
       "    <tr>\n",
       "      <th>tagger</th>\n",
       "      <th></th>\n",
       "      <th></th>\n",
       "      <th></th>\n",
       "      <th></th>\n",
       "      <th></th>\n",
       "      <th></th>\n",
       "      <th></th>\n",
       "      <th></th>\n",
       "    </tr>\n",
       "  </thead>\n",
       "  <tbody>\n",
       "    <tr>\n",
       "      <th>tagger_a</th>\n",
       "      <td>2781.0</td>\n",
       "      <td>43.202611</td>\n",
       "      <td>16.710231</td>\n",
       "      <td>-6.056106</td>\n",
       "      <td>31.378981</td>\n",
       "      <td>43.135632</td>\n",
       "      <td>56.729015</td>\n",
       "      <td>90.579365</td>\n",
       "    </tr>\n",
       "    <tr>\n",
       "      <th>tagger_b</th>\n",
       "      <td>3116.0</td>\n",
       "      <td>43.168132</td>\n",
       "      <td>17.403819</td>\n",
       "      <td>-5.257435</td>\n",
       "      <td>31.086104</td>\n",
       "      <td>41.265315</td>\n",
       "      <td>58.929548</td>\n",
       "      <td>100.223214</td>\n",
       "    </tr>\n",
       "    <tr>\n",
       "      <th>tagger_c</th>\n",
       "      <td>3012.0</td>\n",
       "      <td>43.979993</td>\n",
       "      <td>16.625447</td>\n",
       "      <td>-2.809806</td>\n",
       "      <td>32.151819</td>\n",
       "      <td>44.380908</td>\n",
       "      <td>58.182510</td>\n",
       "      <td>83.990431</td>\n",
       "    </tr>\n",
       "  </tbody>\n",
       "</table>\n",
       "</div>"
      ],
      "text/plain": [
       "           count       mean        std       min        25%        50%  \\\n",
       "tagger                                                                   \n",
       "tagger_a  2781.0  43.202611  16.710231 -6.056106  31.378981  43.135632   \n",
       "tagger_b  3116.0  43.168132  17.403819 -5.257435  31.086104  41.265315   \n",
       "tagger_c  3012.0  43.979993  16.625447 -2.809806  32.151819  44.380908   \n",
       "\n",
       "                75%         max  \n",
       "tagger                           \n",
       "tagger_a  56.729015   90.579365  \n",
       "tagger_b  58.929548  100.223214  \n",
       "tagger_c  58.182510   83.990431  "
      ]
     },
     "execution_count": 73,
     "metadata": {},
     "output_type": "execute_result"
    }
   ],
   "source": [
    "#  descriptive statistics about the difference between the HU of the taggers \n",
    "only_roi.groupby(by='tagger')['mean_HU'].describe()"
   ]
  },
  {
   "cell_type": "markdown",
   "id": "ac477f01",
   "metadata": {
    "id": "ac477f01"
   },
   "source": [
    "##### Next step is to calculate the ground truth of the liver HU by the mean of the three taggers."
   ]
  },
  {
   "cell_type": "code",
   "execution_count": 74,
   "id": "49b85e9a",
   "metadata": {},
   "outputs": [
    {
     "data": {
      "text/plain": [
       "series_id                                        slice_id                                         tagger  \n",
       "214.1010318896.47235.23108.38196.63500836030298  214.1148306727.8891.23921.39072.42804913601679   tagger_b    34.187024\n",
       "                                                                                                  tagger_c    32.338571\n",
       "                                                 214.1542396973.29287.23535.34381.33601994991890  tagger_b    33.653714\n",
       "                                                                                                  tagger_c    33.167800\n",
       "                                                 214.1547323029.29771.23286.42861.28454969437629  tagger_a    31.075658\n",
       "                                                                                                                ...    \n",
       "214.979698817.18529.22496.43741.128330521668900  214.372301710.19276.23274.32881.163076560606322  tagger_a     1.225145\n",
       "                                                                                                  tagger_b    -0.204526\n",
       "                                                 214.4038086146.5536.20999.34509.95120164927740   tagger_a     4.643512\n",
       "                                                                                                  tagger_c     3.456428\n",
       "                                                 214.712007629.29750.20795.39194.187550434316998  tagger_b     4.455102\n",
       "Name: mean_HU, Length: 1461, dtype: float64"
      ]
     },
     "execution_count": 74,
     "metadata": {},
     "output_type": "execute_result"
    }
   ],
   "source": [
    "# calculate the mean HU for the entire series and slice per tagger\n",
    "only_roi.groupby(by=['series_id','slice_id','tagger']).mean_HU.mean()"
   ]
  },
  {
   "cell_type": "code",
   "execution_count": 75,
   "id": "cd6d2748",
   "metadata": {},
   "outputs": [
    {
     "data": {
      "text/plain": [
       "43.235450624691"
      ]
     },
     "execution_count": 75,
     "metadata": {},
     "output_type": "execute_result"
    }
   ],
   "source": [
    "# the ground truth of liver by averaging the entire ratings \n",
    "only_roi.groupby(by=['series_id','tagger']).mean_HU.mean().mean()"
   ]
  },
  {
   "cell_type": "code",
   "execution_count": 76,
   "id": "8a6bce8b",
   "metadata": {},
   "outputs": [
    {
     "data": {
      "text/html": [
       "<div>\n",
       "<style scoped>\n",
       "    .dataframe tbody tr th:only-of-type {\n",
       "        vertical-align: middle;\n",
       "    }\n",
       "\n",
       "    .dataframe tbody tr th {\n",
       "        vertical-align: top;\n",
       "    }\n",
       "\n",
       "    .dataframe thead th {\n",
       "        text-align: right;\n",
       "    }\n",
       "</style>\n",
       "<table border=\"1\" class=\"dataframe\">\n",
       "  <thead>\n",
       "    <tr style=\"text-align: right;\">\n",
       "      <th></th>\n",
       "      <th>series_id</th>\n",
       "      <th>slice_id</th>\n",
       "      <th>label_name</th>\n",
       "      <th>tagger</th>\n",
       "      <th>value</th>\n",
       "      <th>mean_HU</th>\n",
       "      <th>mean_by_tagger</th>\n",
       "    </tr>\n",
       "  </thead>\n",
       "  <tbody>\n",
       "    <tr>\n",
       "      <th>0</th>\n",
       "      <td>214.979698817.18529.22496.43741.128330521668900</td>\n",
       "      <td>214.3342698736.25043.20913.43865.219498800052639</td>\n",
       "      <td>Liver_ROI</td>\n",
       "      <td>tagger_a</td>\n",
       "      <td>{'type': 'FeatureCollection', 'features': [{'t...</td>\n",
       "      <td>7.004211</td>\n",
       "      <td>2.250029</td>\n",
       "    </tr>\n",
       "    <tr>\n",
       "      <th>1</th>\n",
       "      <td>214.979698817.18529.22496.43741.128330521668900</td>\n",
       "      <td>214.3342698736.25043.20913.43865.219498800052639</td>\n",
       "      <td>Liver_ROI</td>\n",
       "      <td>tagger_a</td>\n",
       "      <td>{'type': 'FeatureCollection', 'features': [{'t...</td>\n",
       "      <td>2.328067</td>\n",
       "      <td>2.250029</td>\n",
       "    </tr>\n",
       "    <tr>\n",
       "      <th>2</th>\n",
       "      <td>214.979698817.18529.22496.43741.128330521668900</td>\n",
       "      <td>214.3342698736.25043.20913.43865.219498800052639</td>\n",
       "      <td>Liver_ROI</td>\n",
       "      <td>tagger_a</td>\n",
       "      <td>{'type': 'FeatureCollection', 'features': [{'t...</td>\n",
       "      <td>-2.798460</td>\n",
       "      <td>2.250029</td>\n",
       "    </tr>\n",
       "    <tr>\n",
       "      <th>3</th>\n",
       "      <td>214.979698817.18529.22496.43741.128330521668900</td>\n",
       "      <td>214.4038086146.5536.20999.34509.95120164927740</td>\n",
       "      <td>Liver_ROI</td>\n",
       "      <td>tagger_a</td>\n",
       "      <td>{'type': 'FeatureCollection', 'features': [{'t...</td>\n",
       "      <td>7.011620</td>\n",
       "      <td>2.250029</td>\n",
       "    </tr>\n",
       "    <tr>\n",
       "      <th>4</th>\n",
       "      <td>214.979698817.18529.22496.43741.128330521668900</td>\n",
       "      <td>214.2001189455.63976.23211.36752.174994682803839</td>\n",
       "      <td>Liver_ROI</td>\n",
       "      <td>tagger_a</td>\n",
       "      <td>{'type': 'FeatureCollection', 'features': [{'t...</td>\n",
       "      <td>-6.056106</td>\n",
       "      <td>2.250029</td>\n",
       "    </tr>\n",
       "  </tbody>\n",
       "</table>\n",
       "</div>"
      ],
      "text/plain": [
       "                                         series_id  \\\n",
       "0  214.979698817.18529.22496.43741.128330521668900   \n",
       "1  214.979698817.18529.22496.43741.128330521668900   \n",
       "2  214.979698817.18529.22496.43741.128330521668900   \n",
       "3  214.979698817.18529.22496.43741.128330521668900   \n",
       "4  214.979698817.18529.22496.43741.128330521668900   \n",
       "\n",
       "                                           slice_id label_name    tagger  \\\n",
       "0  214.3342698736.25043.20913.43865.219498800052639  Liver_ROI  tagger_a   \n",
       "1  214.3342698736.25043.20913.43865.219498800052639  Liver_ROI  tagger_a   \n",
       "2  214.3342698736.25043.20913.43865.219498800052639  Liver_ROI  tagger_a   \n",
       "3    214.4038086146.5536.20999.34509.95120164927740  Liver_ROI  tagger_a   \n",
       "4  214.2001189455.63976.23211.36752.174994682803839  Liver_ROI  tagger_a   \n",
       "\n",
       "                                               value   mean_HU  mean_by_tagger  \n",
       "0  {'type': 'FeatureCollection', 'features': [{'t...  7.004211        2.250029  \n",
       "1  {'type': 'FeatureCollection', 'features': [{'t...  2.328067        2.250029  \n",
       "2  {'type': 'FeatureCollection', 'features': [{'t... -2.798460        2.250029  \n",
       "3  {'type': 'FeatureCollection', 'features': [{'t...  7.011620        2.250029  \n",
       "4  {'type': 'FeatureCollection', 'features': [{'t... -6.056106        2.250029  "
      ]
     },
     "execution_count": 76,
     "metadata": {},
     "output_type": "execute_result"
    }
   ],
   "source": [
    "# add a column to the data for a mean score by tagger per series\n",
    "new=only_roi\n",
    "new['mean_by_tagger']= new.groupby(by=['series_id','tagger']).mean_HU.transform('mean')\n",
    "new.head()"
   ]
  },
  {
   "cell_type": "code",
   "execution_count": 77,
   "id": "22321d2c",
   "metadata": {},
   "outputs": [],
   "source": [
    "#new.to_excel('new_df_excel.xlsx')"
   ]
  },
  {
   "cell_type": "code",
   "execution_count": 78,
   "id": "ab4f98f7",
   "metadata": {
    "id": "ab4f98f7"
   },
   "outputs": [
    {
     "data": {
      "text/plain": [
       "series_id\n",
       "214.1010318896.47235.23108.38196.63500836030298     31.413983\n",
       "214.1136906659.42173.21294.39595.80934666869483     96.810944\n",
       "214.1137687545.3421.22033.38093.120614205891159     35.825065\n",
       "214.1144225571.17167.24195.43423.192235341247362    12.306589\n",
       "214.120374168.10221.21922.38059.275967605125871     33.013589\n",
       "Name: mean_by_tagger, dtype: float64"
      ]
     },
     "execution_count": 78,
     "metadata": {},
     "output_type": "execute_result"
    }
   ],
   "source": [
    "# get the ground truth per series by averaging the taggers mean_HU per series\n",
    "new_2=new.groupby(by=['series_id']).mean_by_tagger.mean()\n",
    "new_2.head()"
   ]
  },
  {
   "cell_type": "code",
   "execution_count": 79,
   "id": "aa1a2bc4",
   "metadata": {},
   "outputs": [],
   "source": [
    "# transform the series to a df\n",
    "new_2=new_2.to_frame()"
   ]
  },
  {
   "cell_type": "code",
   "execution_count": 80,
   "id": "e85c7144",
   "metadata": {},
   "outputs": [
    {
     "data": {
      "text/plain": [
       "series_id\n",
       "214.1010318896.47235.23108.38196.63500836030298     30.280651\n",
       "214.1136906659.42173.21294.39595.80934666869483     96.810944\n",
       "214.1137687545.3421.22033.38093.120614205891159     34.874288\n",
       "214.1144225571.17167.24195.43423.192235341247362    10.715167\n",
       "214.120374168.10221.21922.38059.275967605125871     32.618512\n",
       "Name: mean_by_tagger, dtype: float64"
      ]
     },
     "execution_count": 80,
     "metadata": {},
     "output_type": "execute_result"
    }
   ],
   "source": [
    "# another metric to calculate the ground truth- min\n",
    "new_3=new.groupby(by=['series_id']).mean_by_tagger.min()\n",
    "new_3.head()"
   ]
  },
  {
   "cell_type": "code",
   "execution_count": 81,
   "id": "07116aab",
   "metadata": {},
   "outputs": [
    {
     "data": {
      "text/plain": [
       "series_id\n",
       "214.1010318896.47235.23108.38196.63500836030298     31.582720\n",
       "214.1136906659.42173.21294.39595.80934666869483     96.810944\n",
       "214.1137687545.3421.22033.38093.120614205891159     35.307963\n",
       "214.1144225571.17167.24195.43423.192235341247362    12.821675\n",
       "214.120374168.10221.21922.38059.275967605125871     33.045494\n",
       "Name: mean_by_tagger, dtype: float64"
      ]
     },
     "execution_count": 81,
     "metadata": {},
     "output_type": "execute_result"
    }
   ],
   "source": [
    "# another metric to calculate the ground truth- median\n",
    "new_4=new.groupby(by=['series_id']).mean_by_tagger.median()\n",
    "new_4.head()"
   ]
  },
  {
   "cell_type": "markdown",
   "id": "b899e260",
   "metadata": {
    "id": "b899e260"
   },
   "source": [
    "### Upload the second data file ('algo_data_for_test.csv')\n",
    "This file contains the prediction of the liver's HU by an algorithm\n",
    "\n",
    "##### Create a scatter plot\n",
    "The x axis is the mean of the ground truth and the algorithm result <br>\n",
    "The y axis is the algorithm result"
   ]
  },
  {
   "cell_type": "code",
   "execution_count": 82,
   "id": "cb1333ef",
   "metadata": {
    "id": "cb1333ef"
   },
   "outputs": [
    {
     "data": {
      "text/html": [
       "<div>\n",
       "<style scoped>\n",
       "    .dataframe tbody tr th:only-of-type {\n",
       "        vertical-align: middle;\n",
       "    }\n",
       "\n",
       "    .dataframe tbody tr th {\n",
       "        vertical-align: top;\n",
       "    }\n",
       "\n",
       "    .dataframe thead th {\n",
       "        text-align: right;\n",
       "    }\n",
       "</style>\n",
       "<table border=\"1\" class=\"dataframe\">\n",
       "  <thead>\n",
       "    <tr style=\"text-align: right;\">\n",
       "      <th></th>\n",
       "      <th>series_id</th>\n",
       "      <th>algo_result</th>\n",
       "    </tr>\n",
       "  </thead>\n",
       "  <tbody>\n",
       "    <tr>\n",
       "      <th>0</th>\n",
       "      <td>214.1010318896.47235.23108.38196.63500836030298</td>\n",
       "      <td>30.671555</td>\n",
       "    </tr>\n",
       "    <tr>\n",
       "      <th>1</th>\n",
       "      <td>214.1136906659.42173.21294.39595.80934666869483</td>\n",
       "      <td>94.710944</td>\n",
       "    </tr>\n",
       "    <tr>\n",
       "      <th>2</th>\n",
       "      <td>214.1137687545.3421.22033.38093.120614205891159</td>\n",
       "      <td>34.761667</td>\n",
       "    </tr>\n",
       "    <tr>\n",
       "      <th>3</th>\n",
       "      <td>214.1144225571.17167.24195.43423.192235341247362</td>\n",
       "      <td>13.836980</td>\n",
       "    </tr>\n",
       "    <tr>\n",
       "      <th>4</th>\n",
       "      <td>214.120374168.10221.21922.38059.275967605125871</td>\n",
       "      <td>34.469937</td>\n",
       "    </tr>\n",
       "  </tbody>\n",
       "</table>\n",
       "</div>"
      ],
      "text/plain": [
       "                                          series_id  algo_result\n",
       "0   214.1010318896.47235.23108.38196.63500836030298    30.671555\n",
       "1   214.1136906659.42173.21294.39595.80934666869483    94.710944\n",
       "2   214.1137687545.3421.22033.38093.120614205891159    34.761667\n",
       "3  214.1144225571.17167.24195.43423.192235341247362    13.836980\n",
       "4   214.120374168.10221.21922.38059.275967605125871    34.469937"
      ]
     },
     "execution_count": 82,
     "metadata": {},
     "output_type": "execute_result"
    }
   ],
   "source": [
    "# read the algo results file\n",
    "df2=pd.read_csv('algo_data_for_test.csv')\n",
    "df2.head()"
   ]
  },
  {
   "cell_type": "code",
   "execution_count": 83,
   "id": "294c6cdd",
   "metadata": {},
   "outputs": [
    {
     "data": {
      "text/html": [
       "<div>\n",
       "<style scoped>\n",
       "    .dataframe tbody tr th:only-of-type {\n",
       "        vertical-align: middle;\n",
       "    }\n",
       "\n",
       "    .dataframe tbody tr th {\n",
       "        vertical-align: top;\n",
       "    }\n",
       "\n",
       "    .dataframe thead th {\n",
       "        text-align: right;\n",
       "    }\n",
       "</style>\n",
       "<table border=\"1\" class=\"dataframe\">\n",
       "  <thead>\n",
       "    <tr style=\"text-align: right;\">\n",
       "      <th></th>\n",
       "      <th>series_id</th>\n",
       "      <th>mean_by_tagger</th>\n",
       "      <th>algo_result</th>\n",
       "    </tr>\n",
       "  </thead>\n",
       "  <tbody>\n",
       "    <tr>\n",
       "      <th>0</th>\n",
       "      <td>214.1010318896.47235.23108.38196.63500836030298</td>\n",
       "      <td>31.413983</td>\n",
       "      <td>30.671555</td>\n",
       "    </tr>\n",
       "    <tr>\n",
       "      <th>1</th>\n",
       "      <td>214.1136906659.42173.21294.39595.80934666869483</td>\n",
       "      <td>96.810944</td>\n",
       "      <td>94.710944</td>\n",
       "    </tr>\n",
       "    <tr>\n",
       "      <th>2</th>\n",
       "      <td>214.1137687545.3421.22033.38093.120614205891159</td>\n",
       "      <td>35.825065</td>\n",
       "      <td>34.761667</td>\n",
       "    </tr>\n",
       "    <tr>\n",
       "      <th>3</th>\n",
       "      <td>214.1144225571.17167.24195.43423.192235341247362</td>\n",
       "      <td>12.306589</td>\n",
       "      <td>13.836980</td>\n",
       "    </tr>\n",
       "    <tr>\n",
       "      <th>4</th>\n",
       "      <td>214.120374168.10221.21922.38059.275967605125871</td>\n",
       "      <td>33.013589</td>\n",
       "      <td>34.469937</td>\n",
       "    </tr>\n",
       "  </tbody>\n",
       "</table>\n",
       "</div>"
      ],
      "text/plain": [
       "                                          series_id  mean_by_tagger  \\\n",
       "0   214.1010318896.47235.23108.38196.63500836030298       31.413983   \n",
       "1   214.1136906659.42173.21294.39595.80934666869483       96.810944   \n",
       "2   214.1137687545.3421.22033.38093.120614205891159       35.825065   \n",
       "3  214.1144225571.17167.24195.43423.192235341247362       12.306589   \n",
       "4   214.120374168.10221.21922.38059.275967605125871       33.013589   \n",
       "\n",
       "   algo_result  \n",
       "0    30.671555  \n",
       "1    94.710944  \n",
       "2    34.761667  \n",
       "3    13.836980  \n",
       "4    34.469937  "
      ]
     },
     "execution_count": 83,
     "metadata": {},
     "output_type": "execute_result"
    }
   ],
   "source": [
    "# merge the two files\n",
    "df_merged= new_2.merge(df2,on='series_id', how='inner')\n",
    "df_merged.head()"
   ]
  },
  {
   "cell_type": "code",
   "execution_count": 84,
   "id": "0531b959",
   "metadata": {},
   "outputs": [
    {
     "data": {
      "text/html": [
       "<div>\n",
       "<style scoped>\n",
       "    .dataframe tbody tr th:only-of-type {\n",
       "        vertical-align: middle;\n",
       "    }\n",
       "\n",
       "    .dataframe tbody tr th {\n",
       "        vertical-align: top;\n",
       "    }\n",
       "\n",
       "    .dataframe thead th {\n",
       "        text-align: right;\n",
       "    }\n",
       "</style>\n",
       "<table border=\"1\" class=\"dataframe\">\n",
       "  <thead>\n",
       "    <tr style=\"text-align: right;\">\n",
       "      <th></th>\n",
       "      <th>series_id</th>\n",
       "      <th>mean_by_tagger</th>\n",
       "      <th>algo_result</th>\n",
       "      <th>gt_algo_mean</th>\n",
       "    </tr>\n",
       "  </thead>\n",
       "  <tbody>\n",
       "    <tr>\n",
       "      <th>0</th>\n",
       "      <td>214.1010318896.47235.23108.38196.63500836030298</td>\n",
       "      <td>31.413983</td>\n",
       "      <td>30.671555</td>\n",
       "      <td>31.042769</td>\n",
       "    </tr>\n",
       "    <tr>\n",
       "      <th>1</th>\n",
       "      <td>214.1136906659.42173.21294.39595.80934666869483</td>\n",
       "      <td>96.810944</td>\n",
       "      <td>94.710944</td>\n",
       "      <td>95.760944</td>\n",
       "    </tr>\n",
       "    <tr>\n",
       "      <th>2</th>\n",
       "      <td>214.1137687545.3421.22033.38093.120614205891159</td>\n",
       "      <td>35.825065</td>\n",
       "      <td>34.761667</td>\n",
       "      <td>35.293366</td>\n",
       "    </tr>\n",
       "    <tr>\n",
       "      <th>3</th>\n",
       "      <td>214.1144225571.17167.24195.43423.192235341247362</td>\n",
       "      <td>12.306589</td>\n",
       "      <td>13.836980</td>\n",
       "      <td>13.071785</td>\n",
       "    </tr>\n",
       "    <tr>\n",
       "      <th>4</th>\n",
       "      <td>214.120374168.10221.21922.38059.275967605125871</td>\n",
       "      <td>33.013589</td>\n",
       "      <td>34.469937</td>\n",
       "      <td>33.741763</td>\n",
       "    </tr>\n",
       "  </tbody>\n",
       "</table>\n",
       "</div>"
      ],
      "text/plain": [
       "                                          series_id  mean_by_tagger  \\\n",
       "0   214.1010318896.47235.23108.38196.63500836030298       31.413983   \n",
       "1   214.1136906659.42173.21294.39595.80934666869483       96.810944   \n",
       "2   214.1137687545.3421.22033.38093.120614205891159       35.825065   \n",
       "3  214.1144225571.17167.24195.43423.192235341247362       12.306589   \n",
       "4   214.120374168.10221.21922.38059.275967605125871       33.013589   \n",
       "\n",
       "   algo_result  gt_algo_mean  \n",
       "0    30.671555     31.042769  \n",
       "1    94.710944     95.760944  \n",
       "2    34.761667     35.293366  \n",
       "3    13.836980     13.071785  \n",
       "4    34.469937     33.741763  "
      ]
     },
     "execution_count": 84,
     "metadata": {},
     "output_type": "execute_result"
    }
   ],
   "source": [
    "# calculate a new column for the mean algo and ground truth results\n",
    "df_merged['gt_algo_mean']= (df_merged['mean_by_tagger']+df_merged['algo_result'])/2\n",
    "df_merged.head()"
   ]
  },
  {
   "cell_type": "code",
   "execution_count": 85,
   "id": "48d6c90b",
   "metadata": {},
   "outputs": [
    {
     "data": {
      "text/plain": [
       "<AxesSubplot:xlabel='gt_algo_mean', ylabel='algo_result'>"
      ]
     },
     "execution_count": 85,
     "metadata": {},
     "output_type": "execute_result"
    },
    {
     "data": {
      "image/png": "[encoded data removed]",
      "text/plain": [
       "<Figure size 432x288 with 1 Axes>"
      ]
     },
     "metadata": {
      "needs_background": "light"
     },
     "output_type": "display_data"
    }
   ],
   "source": [
    "#The x axis is the mean of the gt and algorithm result, The y axis is the algorithm result\n",
    "# the model seems like a very good fit\n",
    "df_merged.plot(x=\"gt_algo_mean\", y=\"algo_result\", kind=\"scatter\")"
   ]
  }
 ],
 "metadata": {
  "colab": {
   "collapsed_sections": [
    "3a630489"
   ],
   "name": "Data_science_test.ipynb",
   "provenance": []
  },
  "kernelspec": {
   "display_name": "Python 3 (ipykernel)",
   "language": "python",
   "name": "python3"
  },
  "language_info": {
   "codemirror_mode": {
    "name": "ipython",
    "version": 3
   },
   "file_extension": ".py",
   "mimetype": "text/x-python",
   "name": "python",
   "nbconvert_exporter": "python",
   "pygments_lexer": "ipython3",
   "version": "3.10.0"
  }
 },
 "nbformat": 4,
 "nbformat_minor": 5
}
